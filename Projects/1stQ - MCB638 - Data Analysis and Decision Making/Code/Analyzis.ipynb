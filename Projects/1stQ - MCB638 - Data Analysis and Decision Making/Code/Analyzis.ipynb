{
 "cells": [
  {
   "cell_type": "code",
   "execution_count": 1,
   "metadata": {},
   "outputs": [],
   "source": [
    "import pandas as pd\n",
    "import numpy as np\n",
    "from os import listdir\n",
    "from os.path import isfile, join\n",
    "import matplotlib.pyplot as plt"
   ]
  },
  {
   "cell_type": "markdown",
   "metadata": {},
   "source": [
    "## Path"
   ]
  },
  {
   "cell_type": "code",
   "execution_count": 2,
   "metadata": {},
   "outputs": [
    {
     "data": {
      "text/plain": [
       "'/Users/erm1000255241/Library/Mobile Documents/com~apple~CloudDocs/Documents/SyracuseUniversity/1st_Quarter/MBC638/Project'"
      ]
     },
     "execution_count": 2,
     "metadata": {},
     "output_type": "execute_result"
    }
   ],
   "source": [
    "pwd"
   ]
  },
  {
   "cell_type": "code",
   "execution_count": 6,
   "metadata": {},
   "outputs": [],
   "source": [
    "path = '/Users/erm1000255241/Library/Mobile Documents/com~apple~CloudDocs/Documents/SyracuseUniversity/1st_Quarter/MBC638/Project'"
   ]
  },
  {
   "cell_type": "markdown",
   "metadata": {},
   "source": [
    "## Read In Files"
   ]
  },
  {
   "cell_type": "code",
   "execution_count": 7,
   "metadata": {},
   "outputs": [],
   "source": [
    "onlyfiles = [f for f in listdir(path) if (isfile(join(path, f))) & (f[len(f)-5:] == 'o.csv')]"
   ]
  },
  {
   "cell_type": "code",
   "execution_count": 8,
   "metadata": {},
   "outputs": [
    {
     "data": {
      "text/plain": [
       "['16NFLaemilio.csv',\n",
       " '05NFLaemilio.csv',\n",
       " '12NFLaemilio.csv',\n",
       " '15NFLaemilio.csv',\n",
       " '11NFLaemilio.csv',\n",
       " '06NFLaemilio.csv',\n",
       " '08NFLaemilio.csv',\n",
       " '18NFLemilio.csv',\n",
       " '19NFLaemilio.csv',\n",
       " '09NFLaemilio.csv',\n",
       " '07NFLaemilio.csv',\n",
       " '10NFLaemilio.csv',\n",
       " '14NFLaemilio.csv',\n",
       " '03NFLaemilio.csv',\n",
       " '13NFLaemilio.csv',\n",
       " '04NFLaemilio.csv',\n",
       " '17NFLaemilio.csv']"
      ]
     },
     "execution_count": 8,
     "metadata": {},
     "output_type": "execute_result"
    }
   ],
   "source": [
    "onlyfiles"
   ]
  },
  {
   "cell_type": "code",
   "execution_count": 9,
   "metadata": {},
   "outputs": [
    {
     "name": "stdout",
     "output_type": "stream",
     "text": [
      "16NFLaemilio.csv\n",
      "['season' 'week' 'Away Team' 'Home Team' 'Gel' 'Hector' 'Emilio' 'Sonny'\n",
      " 'ganador']\n",
      "05NFLaemilio.csv\n",
      "['season' 'week' 'Away Team' 'Home Team' 'Gel' 'Hector' 'Emilio' 'Sonny'\n",
      " 'ganador']\n",
      "12NFLaemilio.csv\n",
      "['season' 'week' 'Away Team' 'Home Team' 'Gel' 'Hector' 'Emilio' 'Sonny'\n",
      " 'ganador']\n",
      "15NFLaemilio.csv\n",
      "['season' 'week' 'Away Team' 'Home Team' 'Gel' 'Hector' 'Emilio' 'Sonny'\n",
      " 'ganador']\n",
      "11NFLaemilio.csv\n",
      "['season' 'week' 'Away Team' 'Home Team' 'Gel' 'Hector' 'Emilio' 'Sonny'\n",
      " 'ganador']\n",
      "06NFLaemilio.csv\n",
      "['season' 'week' 'Away Team' 'Home Team' 'Gel' 'Hector' 'Emilio' 'Sonny'\n",
      " 'ganador']\n",
      "08NFLaemilio.csv\n",
      "['season' 'week' 'Away Team' 'Home Team' 'Gel' 'Hector' 'Emilio' 'Sonny'\n",
      " 'ganador']\n",
      "18NFLemilio.csv\n",
      "['season' 'week' 'Away Team' 'Home Team' 'Gel' 'Hector' 'Emilio' 'Sonny'\n",
      " 'ganador']\n",
      "19NFLaemilio.csv\n",
      "['season' 'week' 'Away Team' 'Home Team' 'Gel' 'Hector' 'Emilio' 'Sonny'\n",
      " 'ganador']\n",
      "09NFLaemilio.csv\n",
      "['season' 'week' 'Away Team' 'Home Team' 'Gel' 'Hector' 'Emilio' 'Sonny'\n",
      " 'ganador']\n",
      "07NFLaemilio.csv\n",
      "['season' 'week' 'Away Team' 'Home Team' 'Gel' 'Hector' 'Emilio' 'Sonny'\n",
      " 'ganador']\n",
      "10NFLaemilio.csv\n",
      "['season' 'week' 'Away Team' 'Home Team' 'Gel' 'Hector' 'Emilio' 'Sonny'\n",
      " 'ganador']\n",
      "14NFLaemilio.csv\n",
      "['season' 'week' 'Away Team' 'Home Team' 'Gel' 'Hector' 'Emilio' 'Sonny'\n",
      " 'ganador']\n",
      "03NFLaemilio.csv\n",
      "['season' 'week' 'Away Team' 'Home Team' 'Gel' 'Hector' 'Emilio' 'Sonny'\n",
      " 'ganador']\n",
      "13NFLaemilio.csv\n",
      "['season' 'week' 'Away Team' 'Home Team' 'Gel' 'Hector' 'Emilio' 'Sonny'\n",
      " 'ganador']\n",
      "04NFLaemilio.csv\n",
      "['season' 'week' 'Away Team' 'Home Team' 'Gel' 'Hector' 'Emilio' 'Sonny'\n",
      " 'ganador']\n",
      "17NFLaemilio.csv\n",
      "['season' 'week' 'Away Team' 'Home Team' 'Gel' 'Hector' 'Emilio' 'Sonny'\n",
      " 'ganador']\n"
     ]
    }
   ],
   "source": [
    "frames = []\n",
    "for f in onlyfiles:\n",
    "    print(f)\n",
    "    \n",
    "    temp = pd.read_csv(path+'/'+f)\n",
    "    temp.columns = ['season','week', 'Away Team', 'Home Team', 'Gel', 'Hector', 'Emilio', 'Sonny', 'ganador']\n",
    "    print(temp.columns.values)\n",
    "    \n",
    "    frames.append(temp)\n",
    "df = pd.concat(frames)"
   ]
  },
  {
   "cell_type": "code",
   "execution_count": 10,
   "metadata": {},
   "outputs": [
    {
     "data": {
      "text/html": [
       "<div>\n",
       "<style scoped>\n",
       "    .dataframe tbody tr th:only-of-type {\n",
       "        vertical-align: middle;\n",
       "    }\n",
       "\n",
       "    .dataframe tbody tr th {\n",
       "        vertical-align: top;\n",
       "    }\n",
       "\n",
       "    .dataframe thead th {\n",
       "        text-align: right;\n",
       "    }\n",
       "</style>\n",
       "<table border=\"1\" class=\"dataframe\">\n",
       "  <thead>\n",
       "    <tr style=\"text-align: right;\">\n",
       "      <th></th>\n",
       "      <th>season</th>\n",
       "      <th>week</th>\n",
       "      <th>Away Team</th>\n",
       "      <th>Home Team</th>\n",
       "      <th>Gel</th>\n",
       "      <th>Hector</th>\n",
       "      <th>Emilio</th>\n",
       "      <th>Sonny</th>\n",
       "      <th>ganador</th>\n",
       "    </tr>\n",
       "  </thead>\n",
       "  <tbody>\n",
       "    <tr>\n",
       "      <th>0</th>\n",
       "      <td>2016.0</td>\n",
       "      <td>1.0</td>\n",
       "      <td>Ca</td>\n",
       "      <td>Dn</td>\n",
       "      <td>Dn</td>\n",
       "      <td>Ca</td>\n",
       "      <td>Ca</td>\n",
       "      <td>Ca</td>\n",
       "      <td>Dn</td>\n",
       "    </tr>\n",
       "    <tr>\n",
       "      <th>1</th>\n",
       "      <td>2016.0</td>\n",
       "      <td>1.0</td>\n",
       "      <td>Tb</td>\n",
       "      <td>At</td>\n",
       "      <td>Tb</td>\n",
       "      <td>At</td>\n",
       "      <td>At</td>\n",
       "      <td>At</td>\n",
       "      <td>Tb</td>\n",
       "    </tr>\n",
       "    <tr>\n",
       "      <th>2</th>\n",
       "      <td>2016.0</td>\n",
       "      <td>1.0</td>\n",
       "      <td>Mn</td>\n",
       "      <td>Tn</td>\n",
       "      <td>Tn</td>\n",
       "      <td>Tn</td>\n",
       "      <td>Tn</td>\n",
       "      <td>Tn</td>\n",
       "      <td>Mn</td>\n",
       "    </tr>\n",
       "    <tr>\n",
       "      <th>3</th>\n",
       "      <td>2016.0</td>\n",
       "      <td>1.0</td>\n",
       "      <td>Cl</td>\n",
       "      <td>Ph</td>\n",
       "      <td>Ph</td>\n",
       "      <td>Ph</td>\n",
       "      <td>Ph</td>\n",
       "      <td>Ph</td>\n",
       "      <td>Ph</td>\n",
       "    </tr>\n",
       "    <tr>\n",
       "      <th>4</th>\n",
       "      <td>2016.0</td>\n",
       "      <td>1.0</td>\n",
       "      <td>Cn</td>\n",
       "      <td>Jt</td>\n",
       "      <td>Cn</td>\n",
       "      <td>Cn</td>\n",
       "      <td>Cn</td>\n",
       "      <td>Cn</td>\n",
       "      <td>Cn</td>\n",
       "    </tr>\n",
       "  </tbody>\n",
       "</table>\n",
       "</div>"
      ],
      "text/plain": [
       "   season  week Away Team Home Team Gel Hector Emilio Sonny ganador\n",
       "0  2016.0   1.0        Ca        Dn  Dn     Ca     Ca    Ca      Dn\n",
       "1  2016.0   1.0        Tb        At  Tb     At     At    At      Tb\n",
       "2  2016.0   1.0        Mn        Tn  Tn     Tn     Tn    Tn      Mn\n",
       "3  2016.0   1.0        Cl        Ph  Ph     Ph     Ph    Ph      Ph\n",
       "4  2016.0   1.0        Cn        Jt  Cn     Cn     Cn    Cn      Cn"
      ]
     },
     "execution_count": 10,
     "metadata": {},
     "output_type": "execute_result"
    }
   ],
   "source": [
    "df.head()"
   ]
  },
  {
   "cell_type": "code",
   "execution_count": 11,
   "metadata": {},
   "outputs": [
    {
     "data": {
      "text/plain": [
       "17.0    272\n",
       "14.0    272\n",
       "2.0     272\n",
       "1.0     272\n",
       "15.0    272\n",
       "16.0    272\n",
       "13.0    271\n",
       "12.0    266\n",
       "3.0     264\n",
       "11.0    253\n",
       "4.0     246\n",
       "10.0    241\n",
       "5.0     240\n",
       "6.0     239\n",
       "7.0     238\n",
       "8.0     232\n",
       "9.0     230\n",
       "18.0    187\n",
       "Name: week, dtype: int64"
      ]
     },
     "execution_count": 11,
     "metadata": {},
     "output_type": "execute_result"
    }
   ],
   "source": [
    "df.week.value_counts()"
   ]
  },
  {
   "cell_type": "code",
   "execution_count": 12,
   "metadata": {},
   "outputs": [],
   "source": [
    "df['Away Team'] = ['La' if x == 'Sl' else x for x in df['Away Team'].values]\n",
    "df['Away Team'] = ['W' if x == 'Wa' else x for x in df['Away Team'].values]\n",
    "df['Home Team'] = ['La' if x == 'Sl' else x for x in df['Home Team'].values]\n",
    "df['Home Team'] = ['W' if x == 'Wa' else x for x in df['Home Team'].values]\n",
    "df['Gel'] = ['La' if x == 'Sl' else x for x in df['Gel'].values]\n",
    "df['Gel'] = ['W' if x == 'Wa' else x for x in df['Gel'].values]\n",
    "df['Hector'] = ['La' if x == 'Sl' else x for x in df['Hector'].values]\n",
    "df['Hector'] = ['W' if x == 'Wa' else x for x in df['Hector'].values]\n",
    "df['Emilio'] = ['La' if x == 'Sl' else x for x in df['Emilio'].values]\n",
    "df['Emilio'] = ['W' if x == 'Wa' else x for x in df['Emilio'].values]\n",
    "df['Sonny'] = ['La' if x == 'Sl' else x for x in df['Sonny'].values]\n",
    "df['Sonny'] = ['W' if x == 'Wa' else x for x in df['Sonny'].values]\n",
    "df['ganador'] = ['La' if x == 'Sl' else x for x in df['ganador'].values]\n",
    "df['ganador'] = ['W' if x == 'Wa' else x for x in df['ganador'].values]"
   ]
  },
  {
   "cell_type": "code",
   "execution_count": 13,
   "metadata": {},
   "outputs": [
    {
     "data": {
      "text/html": [
       "<div>\n",
       "<style scoped>\n",
       "    .dataframe tbody tr th:only-of-type {\n",
       "        vertical-align: middle;\n",
       "    }\n",
       "\n",
       "    .dataframe tbody tr th {\n",
       "        vertical-align: top;\n",
       "    }\n",
       "\n",
       "    .dataframe thead th {\n",
       "        text-align: right;\n",
       "    }\n",
       "</style>\n",
       "<table border=\"1\" class=\"dataframe\">\n",
       "  <thead>\n",
       "    <tr style=\"text-align: right;\">\n",
       "      <th></th>\n",
       "      <th>season</th>\n",
       "      <th>week</th>\n",
       "      <th>Away Team</th>\n",
       "      <th>Home Team</th>\n",
       "      <th>Gel</th>\n",
       "      <th>Hector</th>\n",
       "      <th>Emilio</th>\n",
       "      <th>Sonny</th>\n",
       "      <th>ganador</th>\n",
       "    </tr>\n",
       "  </thead>\n",
       "  <tbody>\n",
       "    <tr>\n",
       "      <th>0</th>\n",
       "      <td>2016.0</td>\n",
       "      <td>1.0</td>\n",
       "      <td>Ca</td>\n",
       "      <td>Dn</td>\n",
       "      <td>Dn</td>\n",
       "      <td>Ca</td>\n",
       "      <td>Ca</td>\n",
       "      <td>Ca</td>\n",
       "      <td>Dn</td>\n",
       "    </tr>\n",
       "    <tr>\n",
       "      <th>1</th>\n",
       "      <td>2016.0</td>\n",
       "      <td>1.0</td>\n",
       "      <td>Tb</td>\n",
       "      <td>At</td>\n",
       "      <td>Tb</td>\n",
       "      <td>At</td>\n",
       "      <td>At</td>\n",
       "      <td>At</td>\n",
       "      <td>Tb</td>\n",
       "    </tr>\n",
       "    <tr>\n",
       "      <th>2</th>\n",
       "      <td>2016.0</td>\n",
       "      <td>1.0</td>\n",
       "      <td>Mn</td>\n",
       "      <td>Tn</td>\n",
       "      <td>Tn</td>\n",
       "      <td>Tn</td>\n",
       "      <td>Tn</td>\n",
       "      <td>Tn</td>\n",
       "      <td>Mn</td>\n",
       "    </tr>\n",
       "    <tr>\n",
       "      <th>3</th>\n",
       "      <td>2016.0</td>\n",
       "      <td>1.0</td>\n",
       "      <td>Cl</td>\n",
       "      <td>Ph</td>\n",
       "      <td>Ph</td>\n",
       "      <td>Ph</td>\n",
       "      <td>Ph</td>\n",
       "      <td>Ph</td>\n",
       "      <td>Ph</td>\n",
       "    </tr>\n",
       "    <tr>\n",
       "      <th>4</th>\n",
       "      <td>2016.0</td>\n",
       "      <td>1.0</td>\n",
       "      <td>Cn</td>\n",
       "      <td>Jt</td>\n",
       "      <td>Cn</td>\n",
       "      <td>Cn</td>\n",
       "      <td>Cn</td>\n",
       "      <td>Cn</td>\n",
       "      <td>Cn</td>\n",
       "    </tr>\n",
       "  </tbody>\n",
       "</table>\n",
       "</div>"
      ],
      "text/plain": [
       "   season  week Away Team Home Team Gel Hector Emilio Sonny ganador\n",
       "0  2016.0   1.0        Ca        Dn  Dn     Ca     Ca    Ca      Dn\n",
       "1  2016.0   1.0        Tb        At  Tb     At     At    At      Tb\n",
       "2  2016.0   1.0        Mn        Tn  Tn     Tn     Tn    Tn      Mn\n",
       "3  2016.0   1.0        Cl        Ph  Ph     Ph     Ph    Ph      Ph\n",
       "4  2016.0   1.0        Cn        Jt  Cn     Cn     Cn    Cn      Cn"
      ]
     },
     "execution_count": 13,
     "metadata": {},
     "output_type": "execute_result"
    }
   ],
   "source": [
    "df.head()"
   ]
  },
  {
   "cell_type": "markdown",
   "metadata": {},
   "source": [
    "## Read In Scores"
   ]
  },
  {
   "cell_type": "code",
   "execution_count": 14,
   "metadata": {},
   "outputs": [],
   "source": [
    "onlyfiles = [f for f in listdir(path) if (isfile(join(path, f))) & (f[len(f)-5:] != 's.csv') & (f[len(f)-5:] != 'o.csv')& (f[len(f)-3:] == 'csv')& (f[len(f)-7:] != 'win.csv')]"
   ]
  },
  {
   "cell_type": "code",
   "execution_count": 15,
   "metadata": {},
   "outputs": [
    {
     "data": {
      "text/plain": [
       "['post_games_2016.csv',\n",
       " 'post_games_2017.csv',\n",
       " 'post_games_2015.csv',\n",
       " 'post_games_2014.csv',\n",
       " 'post_games_2010.csv',\n",
       " 'post_games_2011.csv',\n",
       " 'post_games_2013.csv',\n",
       " 'post_games_2012.csv',\n",
       " 'reg_games_2018.csv',\n",
       " 'reg_games_2019.csv',\n",
       " 'reg_games_2009.csv',\n",
       " 'reg_games_2011.csv',\n",
       " 'reg_games_2010.csv',\n",
       " 'reg_games_2012.csv',\n",
       " 'reg_games_2013.csv',\n",
       " 'reg_games_2017.csv',\n",
       " 'reg_games_2016.csv',\n",
       " 'reg_games_2014.csv',\n",
       " 'reg_games_2015.csv',\n",
       " 'post_games_2009.csv',\n",
       " 'post_games_2018.csv']"
      ]
     },
     "execution_count": 15,
     "metadata": {},
     "output_type": "execute_result"
    }
   ],
   "source": [
    "onlyfiles"
   ]
  },
  {
   "cell_type": "code",
   "execution_count": 16,
   "metadata": {},
   "outputs": [],
   "source": [
    "frames = []\n",
    "for f in onlyfiles:\n",
    "    frames.append(pd.read_csv(path+'/'+f))\n",
    "score = pd.concat(frames)"
   ]
  },
  {
   "cell_type": "code",
   "execution_count": 17,
   "metadata": {},
   "outputs": [],
   "source": [
    "score = score.loc[(score['home_team']!= 'APR') & (score['away_team']!= 'CRT') & (score['away_team']!= 'CRT') & (score['away_team']!= 'RIC') & (score['home_team']!= 'RIC')\n",
    "                  & (score['away_team']!= 'NPR') & (score['away_team']!= 'NPR') & (score['home_team']!= 'NPR')]\n"
   ]
  },
  {
   "cell_type": "code",
   "execution_count": 18,
   "metadata": {},
   "outputs": [],
   "source": [
    "score = score.reset_index(drop=True)"
   ]
  },
  {
   "cell_type": "code",
   "execution_count": 19,
   "metadata": {},
   "outputs": [],
   "source": [
    "score['home_team'] = ['Gi' if x == 'NYG' else x for x in score['home_team'].values]\n",
    "score['away_team'] = ['Gi' if x == 'NYG' else x for x in score['away_team'].values]\n",
    "score['home_team'] = ['Jt' if x == 'NYJ' else x for x in score['home_team'].values]\n",
    "score['away_team'] = ['Jt' if x == 'NYJ' else x for x in score['away_team'].values]\n",
    "score['home_team'] = ['Mn' if x == 'MIN' else x for x in score['home_team'].values]\n",
    "score['away_team'] = ['Mn' if x == 'MIN' else x for x in score['away_team'].values]\n",
    "score['home_team'] = ['Mi' if x == 'MIA' else x for x in score['home_team'].values]\n",
    "score['away_team'] = ['Mi' if x == 'MIA' else x for x in score['away_team'].values]\n",
    "score['home_team'] = ['Dt' if x == 'DET' else x for x in score['home_team'].values]\n",
    "score['away_team'] = ['Dt' if x == 'DET' else x for x in score['away_team'].values]\n",
    "score['home_team'] = ['Dn' if x == 'DEN' else x for x in score['home_team'].values]\n",
    "score['away_team'] = ['Dn' if x == 'DEN' else x for x in score['away_team'].values]\n",
    "score['home_team'] = ['Sd' if x == 'LAC' else x for x in score['home_team'].values]\n",
    "score['away_team'] = ['Sd' if x == 'LAC' else x for x in score['away_team'].values]"
   ]
  },
  {
   "cell_type": "code",
   "execution_count": 20,
   "metadata": {},
   "outputs": [
    {
     "data": {
      "text/html": [
       "<div>\n",
       "<style scoped>\n",
       "    .dataframe tbody tr th:only-of-type {\n",
       "        vertical-align: middle;\n",
       "    }\n",
       "\n",
       "    .dataframe tbody tr th {\n",
       "        vertical-align: top;\n",
       "    }\n",
       "\n",
       "    .dataframe thead th {\n",
       "        text-align: right;\n",
       "    }\n",
       "</style>\n",
       "<table border=\"1\" class=\"dataframe\">\n",
       "  <thead>\n",
       "    <tr style=\"text-align: right;\">\n",
       "      <th></th>\n",
       "      <th>type</th>\n",
       "      <th>game_id</th>\n",
       "      <th>home_team</th>\n",
       "      <th>away_team</th>\n",
       "      <th>week</th>\n",
       "      <th>season</th>\n",
       "      <th>state_of_game</th>\n",
       "      <th>game_url</th>\n",
       "      <th>home_score</th>\n",
       "      <th>away_score</th>\n",
       "    </tr>\n",
       "  </thead>\n",
       "  <tbody>\n",
       "  </tbody>\n",
       "</table>\n",
       "</div>"
      ],
      "text/plain": [
       "Empty DataFrame\n",
       "Columns: [type, game_id, home_team, away_team, week, season, state_of_game, game_url, home_score, away_score]\n",
       "Index: []"
      ]
     },
     "execution_count": 20,
     "metadata": {},
     "output_type": "execute_result"
    }
   ],
   "source": [
    "score.loc[score['home_team'].isnull()]"
   ]
  },
  {
   "cell_type": "code",
   "execution_count": 21,
   "metadata": {},
   "outputs": [],
   "source": [
    "score['HomeTeam'] = [x[0]+x[1].lower() for x in score.home_team.values ]\n",
    "score['AwayTeam'] = [x[0]+x[1].lower() for x in score.away_team.values ]"
   ]
  },
  {
   "cell_type": "code",
   "execution_count": 22,
   "metadata": {},
   "outputs": [],
   "source": [
    "score['AwayTeam'] = ['Pt' if x == 'Pi' else x for x in score['AwayTeam'].values]\n",
    "score['AwayTeam'] = ['Cn' if x == 'Ci' else x for x in score['AwayTeam'].values]\n",
    "score['AwayTeam'] = ['Dt' if x == 'De' else x for x in score['AwayTeam'].values]\n",
    "score['AwayTeam'] = ['Cn' if x == 'Ri' else x for x in score['AwayTeam'].values]\n",
    "score['AwayTeam'] = ['La' if x == 'St' else x for x in score['AwayTeam'].values]\n",
    "score['AwayTeam'] = ['W' if x == 'Wa' else x for x in score['AwayTeam'].values]\n",
    "score['AwayTeam'] = ['Tn' if x == 'Te' else x for x in score['AwayTeam'].values]\n",
    "score['AwayTeam'] = ['Jk' if x == 'Ja' else x for x in score['AwayTeam'].values]\n",
    "score['AwayTeam'] = ['Az' if x == 'Ar' else x for x in score['AwayTeam'].values]\n"
   ]
  },
  {
   "cell_type": "code",
   "execution_count": 23,
   "metadata": {},
   "outputs": [],
   "source": [
    "score['HomeTeam'] = ['Pt' if x == 'Pi' else x for x in score['HomeTeam'].values]\n",
    "score['HomeTeam'] = ['Cn' if x == 'Ci' else x for x in score['HomeTeam'].values]\n",
    "score['HomeTeam'] = ['Dt' if x == 'De' else x for x in score['HomeTeam'].values]\n",
    "score['HomeTeam'] = ['Cn' if x == 'Ri' else x for x in score['HomeTeam'].values]\n",
    "score['HomeTeam'] = ['La' if x == 'St' else x for x in score['HomeTeam'].values]\n",
    "score['HomeTeam'] = ['W' if x == 'Wa' else x for x in score['HomeTeam'].values]\n",
    "score['HomeTeam'] = ['Tn' if x == 'Te' else x for x in score['HomeTeam'].values]\n",
    "score['HomeTeam'] = ['Jk' if x == 'Ja' else x for x in score['HomeTeam'].values]\n",
    "# score['HomeTeam'] = ['W' if x == 'Ap' else x for x in score['HomeTeam'].values]\n",
    "score['HomeTeam'] = ['Az' if x == 'Ar' else x for x in score['HomeTeam'].values]\n",
    "# score['HomeTeam'] = ['Jk' if x == 'Cr' else x for x in score['HomeTeam'].values]"
   ]
  },
  {
   "cell_type": "code",
   "execution_count": 24,
   "metadata": {},
   "outputs": [
    {
     "data": {
      "text/plain": [
       "array(['ARI', 'ATL', 'BAL', 'BUF', 'CAR', 'CHI', 'CIN', 'CLE', 'CRT',\n",
       "       'DAL', 'Dn', 'Dt', 'GB', 'Gi', 'HOU', 'IND', 'JAC', 'JAX', 'Jt',\n",
       "       'KC', 'LA', 'Mi', 'Mn', 'NE', 'NO', 'OAK', 'PHI', 'PIT', 'SD',\n",
       "       'SEA', 'SF', 'STL', 'Sd', 'TB', 'TEN', 'WAS'], dtype=object)"
      ]
     },
     "execution_count": 24,
     "metadata": {},
     "output_type": "execute_result"
    }
   ],
   "source": [
    "np.sort(score['home_team'].unique())"
   ]
  },
  {
   "cell_type": "code",
   "execution_count": 25,
   "metadata": {},
   "outputs": [
    {
     "data": {
      "text/html": [
       "<div>\n",
       "<style scoped>\n",
       "    .dataframe tbody tr th:only-of-type {\n",
       "        vertical-align: middle;\n",
       "    }\n",
       "\n",
       "    .dataframe tbody tr th {\n",
       "        vertical-align: top;\n",
       "    }\n",
       "\n",
       "    .dataframe thead th {\n",
       "        text-align: right;\n",
       "    }\n",
       "</style>\n",
       "<table border=\"1\" class=\"dataframe\">\n",
       "  <thead>\n",
       "    <tr style=\"text-align: right;\">\n",
       "      <th></th>\n",
       "      <th>type</th>\n",
       "      <th>game_id</th>\n",
       "      <th>home_team</th>\n",
       "      <th>away_team</th>\n",
       "      <th>week</th>\n",
       "      <th>season</th>\n",
       "      <th>state_of_game</th>\n",
       "      <th>game_url</th>\n",
       "      <th>home_score</th>\n",
       "      <th>away_score</th>\n",
       "      <th>HomeTeam</th>\n",
       "      <th>AwayTeam</th>\n",
       "    </tr>\n",
       "  </thead>\n",
       "  <tbody>\n",
       "    <tr>\n",
       "      <th>0</th>\n",
       "      <td>post</td>\n",
       "      <td>2017010700</td>\n",
       "      <td>HOU</td>\n",
       "      <td>OAK</td>\n",
       "      <td>18</td>\n",
       "      <td>2016</td>\n",
       "      <td>POST</td>\n",
       "      <td>http://www.nfl.com/liveupdate/game-center/2017...</td>\n",
       "      <td>27.0</td>\n",
       "      <td>14.0</td>\n",
       "      <td>Ho</td>\n",
       "      <td>Oa</td>\n",
       "    </tr>\n",
       "    <tr>\n",
       "      <th>1</th>\n",
       "      <td>post</td>\n",
       "      <td>2017010701</td>\n",
       "      <td>SEA</td>\n",
       "      <td>Dt</td>\n",
       "      <td>18</td>\n",
       "      <td>2016</td>\n",
       "      <td>POST</td>\n",
       "      <td>http://www.nfl.com/liveupdate/game-center/2017...</td>\n",
       "      <td>26.0</td>\n",
       "      <td>6.0</td>\n",
       "      <td>Se</td>\n",
       "      <td>Dt</td>\n",
       "    </tr>\n",
       "    <tr>\n",
       "      <th>2</th>\n",
       "      <td>post</td>\n",
       "      <td>2017010800</td>\n",
       "      <td>PIT</td>\n",
       "      <td>Mi</td>\n",
       "      <td>18</td>\n",
       "      <td>2016</td>\n",
       "      <td>POST</td>\n",
       "      <td>http://www.nfl.com/liveupdate/game-center/2017...</td>\n",
       "      <td>30.0</td>\n",
       "      <td>12.0</td>\n",
       "      <td>Pt</td>\n",
       "      <td>Mi</td>\n",
       "    </tr>\n",
       "    <tr>\n",
       "      <th>3</th>\n",
       "      <td>post</td>\n",
       "      <td>2017010801</td>\n",
       "      <td>GB</td>\n",
       "      <td>Gi</td>\n",
       "      <td>18</td>\n",
       "      <td>2016</td>\n",
       "      <td>POST</td>\n",
       "      <td>http://www.nfl.com/liveupdate/game-center/2017...</td>\n",
       "      <td>38.0</td>\n",
       "      <td>13.0</td>\n",
       "      <td>Gb</td>\n",
       "      <td>Gi</td>\n",
       "    </tr>\n",
       "    <tr>\n",
       "      <th>4</th>\n",
       "      <td>post</td>\n",
       "      <td>2017011400</td>\n",
       "      <td>ATL</td>\n",
       "      <td>SEA</td>\n",
       "      <td>18</td>\n",
       "      <td>2016</td>\n",
       "      <td>POST</td>\n",
       "      <td>http://www.nfl.com/liveupdate/game-center/2017...</td>\n",
       "      <td>36.0</td>\n",
       "      <td>20.0</td>\n",
       "      <td>At</td>\n",
       "      <td>Se</td>\n",
       "    </tr>\n",
       "  </tbody>\n",
       "</table>\n",
       "</div>"
      ],
      "text/plain": [
       "   type     game_id home_team away_team  week  season state_of_game  \\\n",
       "0  post  2017010700       HOU       OAK    18    2016          POST   \n",
       "1  post  2017010701       SEA        Dt    18    2016          POST   \n",
       "2  post  2017010800       PIT        Mi    18    2016          POST   \n",
       "3  post  2017010801        GB        Gi    18    2016          POST   \n",
       "4  post  2017011400       ATL       SEA    18    2016          POST   \n",
       "\n",
       "                                            game_url  home_score  away_score  \\\n",
       "0  http://www.nfl.com/liveupdate/game-center/2017...        27.0        14.0   \n",
       "1  http://www.nfl.com/liveupdate/game-center/2017...        26.0         6.0   \n",
       "2  http://www.nfl.com/liveupdate/game-center/2017...        30.0        12.0   \n",
       "3  http://www.nfl.com/liveupdate/game-center/2017...        38.0        13.0   \n",
       "4  http://www.nfl.com/liveupdate/game-center/2017...        36.0        20.0   \n",
       "\n",
       "  HomeTeam AwayTeam  \n",
       "0       Ho       Oa  \n",
       "1       Se       Dt  \n",
       "2       Pt       Mi  \n",
       "3       Gb       Gi  \n",
       "4       At       Se  "
      ]
     },
     "execution_count": 25,
     "metadata": {},
     "output_type": "execute_result"
    }
   ],
   "source": [
    "score.head()"
   ]
  },
  {
   "cell_type": "markdown",
   "metadata": {},
   "source": [
    "#### Join Them"
   ]
  },
  {
   "cell_type": "code",
   "execution_count": 26,
   "metadata": {},
   "outputs": [],
   "source": [
    "score['game_id'] = score['game_id'].astype(str)"
   ]
  },
  {
   "cell_type": "code",
   "execution_count": 27,
   "metadata": {},
   "outputs": [],
   "source": [
    "df = df.merge(score, how='left', \n",
    "         left_on=['season', 'week', 'Home Team', 'Away Team'],\n",
    "        right_on=['season', 'week', 'HomeTeam', 'AwayTeam'])"
   ]
  },
  {
   "cell_type": "code",
   "execution_count": 28,
   "metadata": {},
   "outputs": [
    {
     "data": {
      "text/plain": [
       "Index(['season', 'week', 'Away Team', 'Home Team', 'Gel', 'Hector', 'Emilio',\n",
       "       'Sonny', 'ganador', 'type', 'game_id', 'home_team', 'away_team',\n",
       "       'state_of_game', 'game_url', 'home_score', 'away_score', 'HomeTeam',\n",
       "       'AwayTeam'],\n",
       "      dtype='object')"
      ]
     },
     "execution_count": 28,
     "metadata": {},
     "output_type": "execute_result"
    }
   ],
   "source": [
    "df.columns"
   ]
  },
  {
   "cell_type": "code",
   "execution_count": 29,
   "metadata": {},
   "outputs": [],
   "source": [
    "df = df[['Away Team', 'Emilio', 'Gel', 'Hector', 'Home Team', 'Sonny',\n",
    "         'ganador', 'season', \n",
    "         'week','game_id', 'home_score', 'away_score']]\n",
    "\n"
   ]
  },
  {
   "cell_type": "code",
   "execution_count": 30,
   "metadata": {},
   "outputs": [],
   "source": [
    "df = df.loc[~(df['Home Team'].isnull())].reset_index(drop=False)"
   ]
  },
  {
   "cell_type": "code",
   "execution_count": 31,
   "metadata": {},
   "outputs": [
    {
     "data": {
      "text/html": [
       "<div>\n",
       "<style scoped>\n",
       "    .dataframe tbody tr th:only-of-type {\n",
       "        vertical-align: middle;\n",
       "    }\n",
       "\n",
       "    .dataframe tbody tr th {\n",
       "        vertical-align: top;\n",
       "    }\n",
       "\n",
       "    .dataframe thead th {\n",
       "        text-align: right;\n",
       "    }\n",
       "</style>\n",
       "<table border=\"1\" class=\"dataframe\">\n",
       "  <thead>\n",
       "    <tr style=\"text-align: right;\">\n",
       "      <th></th>\n",
       "      <th>index</th>\n",
       "      <th>Away Team</th>\n",
       "      <th>Emilio</th>\n",
       "      <th>Gel</th>\n",
       "      <th>Hector</th>\n",
       "      <th>Home Team</th>\n",
       "      <th>Sonny</th>\n",
       "      <th>ganador</th>\n",
       "      <th>season</th>\n",
       "      <th>week</th>\n",
       "      <th>game_id</th>\n",
       "      <th>home_score</th>\n",
       "      <th>away_score</th>\n",
       "    </tr>\n",
       "  </thead>\n",
       "  <tbody>\n",
       "    <tr>\n",
       "      <th>0</th>\n",
       "      <td>0</td>\n",
       "      <td>Ca</td>\n",
       "      <td>Ca</td>\n",
       "      <td>Dn</td>\n",
       "      <td>Ca</td>\n",
       "      <td>Dn</td>\n",
       "      <td>Ca</td>\n",
       "      <td>Dn</td>\n",
       "      <td>2016.0</td>\n",
       "      <td>1.0</td>\n",
       "      <td>2016090800</td>\n",
       "      <td>21.0</td>\n",
       "      <td>20.0</td>\n",
       "    </tr>\n",
       "    <tr>\n",
       "      <th>1</th>\n",
       "      <td>1</td>\n",
       "      <td>Tb</td>\n",
       "      <td>At</td>\n",
       "      <td>Tb</td>\n",
       "      <td>At</td>\n",
       "      <td>At</td>\n",
       "      <td>At</td>\n",
       "      <td>Tb</td>\n",
       "      <td>2016.0</td>\n",
       "      <td>1.0</td>\n",
       "      <td>2016091100</td>\n",
       "      <td>24.0</td>\n",
       "      <td>31.0</td>\n",
       "    </tr>\n",
       "    <tr>\n",
       "      <th>2</th>\n",
       "      <td>2</td>\n",
       "      <td>Mn</td>\n",
       "      <td>Tn</td>\n",
       "      <td>Tn</td>\n",
       "      <td>Tn</td>\n",
       "      <td>Tn</td>\n",
       "      <td>Tn</td>\n",
       "      <td>Mn</td>\n",
       "      <td>2016.0</td>\n",
       "      <td>1.0</td>\n",
       "      <td>2016091108</td>\n",
       "      <td>16.0</td>\n",
       "      <td>25.0</td>\n",
       "    </tr>\n",
       "    <tr>\n",
       "      <th>3</th>\n",
       "      <td>3</td>\n",
       "      <td>Cl</td>\n",
       "      <td>Ph</td>\n",
       "      <td>Ph</td>\n",
       "      <td>Ph</td>\n",
       "      <td>Ph</td>\n",
       "      <td>Ph</td>\n",
       "      <td>Ph</td>\n",
       "      <td>2016.0</td>\n",
       "      <td>1.0</td>\n",
       "      <td>2016091107</td>\n",
       "      <td>29.0</td>\n",
       "      <td>10.0</td>\n",
       "    </tr>\n",
       "    <tr>\n",
       "      <th>4</th>\n",
       "      <td>4</td>\n",
       "      <td>Cn</td>\n",
       "      <td>Cn</td>\n",
       "      <td>Cn</td>\n",
       "      <td>Cn</td>\n",
       "      <td>Jt</td>\n",
       "      <td>Cn</td>\n",
       "      <td>Cn</td>\n",
       "      <td>2016.0</td>\n",
       "      <td>1.0</td>\n",
       "      <td>2016091106</td>\n",
       "      <td>22.0</td>\n",
       "      <td>23.0</td>\n",
       "    </tr>\n",
       "  </tbody>\n",
       "</table>\n",
       "</div>"
      ],
      "text/plain": [
       "   index Away Team Emilio Gel Hector Home Team Sonny ganador  season  week  \\\n",
       "0      0        Ca     Ca  Dn     Ca        Dn    Ca      Dn  2016.0   1.0   \n",
       "1      1        Tb     At  Tb     At        At    At      Tb  2016.0   1.0   \n",
       "2      2        Mn     Tn  Tn     Tn        Tn    Tn      Mn  2016.0   1.0   \n",
       "3      3        Cl     Ph  Ph     Ph        Ph    Ph      Ph  2016.0   1.0   \n",
       "4      4        Cn     Cn  Cn     Cn        Jt    Cn      Cn  2016.0   1.0   \n",
       "\n",
       "      game_id  home_score  away_score  \n",
       "0  2016090800        21.0        20.0  \n",
       "1  2016091100        24.0        31.0  \n",
       "2  2016091108        16.0        25.0  \n",
       "3  2016091107        29.0        10.0  \n",
       "4  2016091106        22.0        23.0  "
      ]
     },
     "execution_count": 31,
     "metadata": {},
     "output_type": "execute_result"
    }
   ],
   "source": [
    "df.head()"
   ]
  },
  {
   "cell_type": "markdown",
   "metadata": {},
   "source": [
    "## Get wins Per Season"
   ]
  },
  {
   "cell_type": "code",
   "execution_count": 36,
   "metadata": {},
   "outputs": [],
   "source": [
    "df['HomeWin'] = [1 if g == h else 0 for g, h in df[['ganador', 'Home Team']].values]\n",
    "df['AwayWin'] = [1 if g == h else 0 for g, h in df[['ganador', 'Away Team']].values]\n",
    "df['Game'] = [1 for x in df['Emilio'].values]\n",
    "df['CorrectPredEmilio'] = [1 if x == g else 0 for x, g in df[['Emilio', 'ganador']].values]\n",
    "df['CorrectPredSonny'] = [1 if x == g else 0 for x, g in df[['Sonny', 'ganador']].values]\n",
    "df['CorrectPredGel'] = [1 if x == g else 0 for x, g in df[['Gel', 'ganador']].values]\n",
    "df['CorrectPredHector'] = [1 if x == g else 0 for x, g in df[['Hector', 'ganador']].values]"
   ]
  },
  {
   "cell_type": "code",
   "execution_count": null,
   "metadata": {},
   "outputs": [],
   "source": [
    "df[['season', 'week','CorrectPredEmilio', 'CorrectPredSonny', 'CorrectPredGel', 'CorrectPredHector']].groupby(['season', 'week']).sum().sort_values(['CorrectPredEmilio'])"
   ]
  },
  {
   "cell_type": "code",
   "execution_count": 42,
   "metadata": {},
   "outputs": [
    {
     "data": {
      "text/html": [
       "<div>\n",
       "<style scoped>\n",
       "    .dataframe tbody tr th:only-of-type {\n",
       "        vertical-align: middle;\n",
       "    }\n",
       "\n",
       "    .dataframe tbody tr th {\n",
       "        vertical-align: top;\n",
       "    }\n",
       "\n",
       "    .dataframe thead th {\n",
       "        text-align: right;\n",
       "    }\n",
       "</style>\n",
       "<table border=\"1\" class=\"dataframe\">\n",
       "  <thead>\n",
       "    <tr style=\"text-align: right;\">\n",
       "      <th></th>\n",
       "      <th></th>\n",
       "      <th>CorrectPredEmilio</th>\n",
       "      <th>CorrectPredSonny</th>\n",
       "      <th>CorrectPredGel</th>\n",
       "      <th>CorrectPredHector</th>\n",
       "    </tr>\n",
       "    <tr>\n",
       "      <th>season</th>\n",
       "      <th>week</th>\n",
       "      <th></th>\n",
       "      <th></th>\n",
       "      <th></th>\n",
       "      <th></th>\n",
       "    </tr>\n",
       "  </thead>\n",
       "  <tbody>\n",
       "    <tr>\n",
       "      <th>2008.0</th>\n",
       "      <th>18.0</th>\n",
       "      <td>7</td>\n",
       "      <td>4</td>\n",
       "      <td>5</td>\n",
       "      <td>1</td>\n",
       "    </tr>\n",
       "    <tr>\n",
       "      <th>2017.0</th>\n",
       "      <th>18.0</th>\n",
       "      <td>9</td>\n",
       "      <td>4</td>\n",
       "      <td>5</td>\n",
       "      <td>4</td>\n",
       "    </tr>\n",
       "    <tr>\n",
       "      <th>2019.0</th>\n",
       "      <th>18.0</th>\n",
       "      <td>5</td>\n",
       "      <td>5</td>\n",
       "      <td>5</td>\n",
       "      <td>6</td>\n",
       "    </tr>\n",
       "    <tr>\n",
       "      <th>2003.0</th>\n",
       "      <th>18.0</th>\n",
       "      <td>2</td>\n",
       "      <td>5</td>\n",
       "      <td>7</td>\n",
       "      <td>5</td>\n",
       "    </tr>\n",
       "    <tr>\n",
       "      <th>2011.0</th>\n",
       "      <th>18.0</th>\n",
       "      <td>6</td>\n",
       "      <td>5</td>\n",
       "      <td>5</td>\n",
       "      <td>6</td>\n",
       "    </tr>\n",
       "    <tr>\n",
       "      <th>...</th>\n",
       "      <th>...</th>\n",
       "      <td>...</td>\n",
       "      <td>...</td>\n",
       "      <td>...</td>\n",
       "      <td>...</td>\n",
       "    </tr>\n",
       "    <tr>\n",
       "      <th rowspan=\"2\" valign=\"top\">2003.0</th>\n",
       "      <th>12.0</th>\n",
       "      <td>12</td>\n",
       "      <td>14</td>\n",
       "      <td>13</td>\n",
       "      <td>14</td>\n",
       "    </tr>\n",
       "    <tr>\n",
       "      <th>14.0</th>\n",
       "      <td>9</td>\n",
       "      <td>14</td>\n",
       "      <td>9</td>\n",
       "      <td>9</td>\n",
       "    </tr>\n",
       "    <tr>\n",
       "      <th>2015.0</th>\n",
       "      <th>15.0</th>\n",
       "      <td>9</td>\n",
       "      <td>14</td>\n",
       "      <td>13</td>\n",
       "      <td>12</td>\n",
       "    </tr>\n",
       "    <tr>\n",
       "      <th>2013.0</th>\n",
       "      <th>17.0</th>\n",
       "      <td>13</td>\n",
       "      <td>15</td>\n",
       "      <td>12</td>\n",
       "      <td>13</td>\n",
       "    </tr>\n",
       "    <tr>\n",
       "      <th>2017.0</th>\n",
       "      <th>15.0</th>\n",
       "      <td>10</td>\n",
       "      <td>15</td>\n",
       "      <td>13</td>\n",
       "      <td>10</td>\n",
       "    </tr>\n",
       "  </tbody>\n",
       "</table>\n",
       "<p>306 rows × 4 columns</p>\n",
       "</div>"
      ],
      "text/plain": [
       "             CorrectPredEmilio  CorrectPredSonny  CorrectPredGel  \\\n",
       "season week                                                        \n",
       "2008.0 18.0                  7                 4               5   \n",
       "2017.0 18.0                  9                 4               5   \n",
       "2019.0 18.0                  5                 5               5   \n",
       "2003.0 18.0                  2                 5               7   \n",
       "2011.0 18.0                  6                 5               5   \n",
       "...                        ...               ...             ...   \n",
       "2003.0 12.0                 12                14              13   \n",
       "       14.0                  9                14               9   \n",
       "2015.0 15.0                  9                14              13   \n",
       "2013.0 17.0                 13                15              12   \n",
       "2017.0 15.0                 10                15              13   \n",
       "\n",
       "             CorrectPredHector  \n",
       "season week                     \n",
       "2008.0 18.0                  1  \n",
       "2017.0 18.0                  4  \n",
       "2019.0 18.0                  6  \n",
       "2003.0 18.0                  5  \n",
       "2011.0 18.0                  6  \n",
       "...                        ...  \n",
       "2003.0 12.0                 14  \n",
       "       14.0                  9  \n",
       "2015.0 15.0                 12  \n",
       "2013.0 17.0                 13  \n",
       "2017.0 15.0                 10  \n",
       "\n",
       "[306 rows x 4 columns]"
      ]
     },
     "execution_count": 42,
     "metadata": {},
     "output_type": "execute_result"
    }
   ],
   "source": [
    "df[['season', 'week','CorrectPredEmilio', 'CorrectPredSonny', 'CorrectPredGel', 'CorrectPredHector']].groupby(['season', 'week']).sum().sort_values(['CorrectPredSonny'])"
   ]
  },
  {
   "cell_type": "code",
   "execution_count": null,
   "metadata": {},
   "outputs": [],
   "source": [
    "df[['season', 'week','CorrectPredEmilio', 'CorrectPredSonny', 'CorrectPredGel', 'CorrectPredHector']].groupby(['season', 'week']).sum().sort_values(['CorrectPredEmilio', 'CorrectPredSonny', 'CorrectPredGel', 'CorrectPredHector'])"
   ]
  },
  {
   "cell_type": "code",
   "execution_count": 41,
   "metadata": {},
   "outputs": [
    {
     "data": {
      "text/html": [
       "<div>\n",
       "<style scoped>\n",
       "    .dataframe tbody tr th:only-of-type {\n",
       "        vertical-align: middle;\n",
       "    }\n",
       "\n",
       "    .dataframe tbody tr th {\n",
       "        vertical-align: top;\n",
       "    }\n",
       "\n",
       "    .dataframe thead th {\n",
       "        text-align: right;\n",
       "    }\n",
       "</style>\n",
       "<table border=\"1\" class=\"dataframe\">\n",
       "  <thead>\n",
       "    <tr style=\"text-align: right;\">\n",
       "      <th></th>\n",
       "      <th></th>\n",
       "      <th>CorrectPredEmilio</th>\n",
       "      <th>CorrectPredSonny</th>\n",
       "      <th>CorrectPredGel</th>\n",
       "      <th>CorrectPredHector</th>\n",
       "    </tr>\n",
       "    <tr>\n",
       "      <th>season</th>\n",
       "      <th>week</th>\n",
       "      <th></th>\n",
       "      <th></th>\n",
       "      <th></th>\n",
       "      <th></th>\n",
       "    </tr>\n",
       "  </thead>\n",
       "  <tbody>\n",
       "    <tr>\n",
       "      <th>2003.0</th>\n",
       "      <th>18.0</th>\n",
       "      <td>2</td>\n",
       "      <td>5</td>\n",
       "      <td>7</td>\n",
       "      <td>5</td>\n",
       "    </tr>\n",
       "    <tr>\n",
       "      <th>2004.0</th>\n",
       "      <th>5.0</th>\n",
       "      <td>4</td>\n",
       "      <td>9</td>\n",
       "      <td>7</td>\n",
       "      <td>8</td>\n",
       "    </tr>\n",
       "    <tr>\n",
       "      <th>2019.0</th>\n",
       "      <th>18.0</th>\n",
       "      <td>5</td>\n",
       "      <td>5</td>\n",
       "      <td>5</td>\n",
       "      <td>6</td>\n",
       "    </tr>\n",
       "    <tr>\n",
       "      <th>2007.0</th>\n",
       "      <th>18.0</th>\n",
       "      <td>5</td>\n",
       "      <td>5</td>\n",
       "      <td>7</td>\n",
       "      <td>5</td>\n",
       "    </tr>\n",
       "    <tr>\n",
       "      <th>2015.0</th>\n",
       "      <th>18.0</th>\n",
       "      <td>5</td>\n",
       "      <td>5</td>\n",
       "      <td>8</td>\n",
       "      <td>7</td>\n",
       "    </tr>\n",
       "    <tr>\n",
       "      <th>...</th>\n",
       "      <th>...</th>\n",
       "      <td>...</td>\n",
       "      <td>...</td>\n",
       "      <td>...</td>\n",
       "      <td>...</td>\n",
       "    </tr>\n",
       "    <tr>\n",
       "      <th rowspan=\"2\" valign=\"top\">2016.0</th>\n",
       "      <th>17.0</th>\n",
       "      <td>13</td>\n",
       "      <td>11</td>\n",
       "      <td>11</td>\n",
       "      <td>10</td>\n",
       "    </tr>\n",
       "    <tr>\n",
       "      <th>15.0</th>\n",
       "      <td>13</td>\n",
       "      <td>11</td>\n",
       "      <td>12</td>\n",
       "      <td>13</td>\n",
       "    </tr>\n",
       "    <tr>\n",
       "      <th>2009.0</th>\n",
       "      <th>1.0</th>\n",
       "      <td>13</td>\n",
       "      <td>12</td>\n",
       "      <td>15</td>\n",
       "      <td>12</td>\n",
       "    </tr>\n",
       "    <tr>\n",
       "      <th>2013.0</th>\n",
       "      <th>17.0</th>\n",
       "      <td>13</td>\n",
       "      <td>15</td>\n",
       "      <td>12</td>\n",
       "      <td>13</td>\n",
       "    </tr>\n",
       "    <tr>\n",
       "      <th>2007.0</th>\n",
       "      <th>16.0</th>\n",
       "      <td>14</td>\n",
       "      <td>12</td>\n",
       "      <td>11</td>\n",
       "      <td>15</td>\n",
       "    </tr>\n",
       "  </tbody>\n",
       "</table>\n",
       "<p>306 rows × 4 columns</p>\n",
       "</div>"
      ],
      "text/plain": [
       "             CorrectPredEmilio  CorrectPredSonny  CorrectPredGel  \\\n",
       "season week                                                        \n",
       "2003.0 18.0                  2                 5               7   \n",
       "2004.0 5.0                   4                 9               7   \n",
       "2019.0 18.0                  5                 5               5   \n",
       "2007.0 18.0                  5                 5               7   \n",
       "2015.0 18.0                  5                 5               8   \n",
       "...                        ...               ...             ...   \n",
       "2016.0 17.0                 13                11              11   \n",
       "       15.0                 13                11              12   \n",
       "2009.0 1.0                  13                12              15   \n",
       "2013.0 17.0                 13                15              12   \n",
       "2007.0 16.0                 14                12              11   \n",
       "\n",
       "             CorrectPredHector  \n",
       "season week                     \n",
       "2003.0 18.0                  5  \n",
       "2004.0 5.0                   8  \n",
       "2019.0 18.0                  6  \n",
       "2007.0 18.0                  5  \n",
       "2015.0 18.0                  7  \n",
       "...                        ...  \n",
       "2016.0 17.0                 10  \n",
       "       15.0                 13  \n",
       "2009.0 1.0                  12  \n",
       "2013.0 17.0                 13  \n",
       "2007.0 16.0                 15  \n",
       "\n",
       "[306 rows x 4 columns]"
      ]
     },
     "execution_count": 41,
     "metadata": {},
     "output_type": "execute_result"
    }
   ],
   "source": [
    "df[['season', 'week','CorrectPredEmilio', 'CorrectPredSonny', 'CorrectPredGel', 'CorrectPredHector']].groupby(['season', 'week']).sum().sort_values(['CorrectPredEmilio', 'CorrectPredSonny', 'CorrectPredGel', 'CorrectPredHector'])"
   ]
  },
  {
   "cell_type": "code",
   "execution_count": 39,
   "metadata": {},
   "outputs": [
    {
     "data": {
      "text/plain": [
       "CorrectPredEmilio    2\n",
       "CorrectPredSonny     4\n",
       "CorrectPredGel       4\n",
       "CorrectPredHector    1\n",
       "dtype: int64"
      ]
     },
     "execution_count": 39,
     "metadata": {},
     "output_type": "execute_result"
    }
   ],
   "source": [
    "df[['season', 'week','CorrectPredEmilio', 'CorrectPredSonny', 'CorrectPredGel', 'CorrectPredHector']].groupby(['season', 'week']).sum().min()"
   ]
  },
  {
   "cell_type": "code",
   "execution_count": 33,
   "metadata": {},
   "outputs": [
    {
     "data": {
      "text/html": [
       "<div>\n",
       "<style scoped>\n",
       "    .dataframe tbody tr th:only-of-type {\n",
       "        vertical-align: middle;\n",
       "    }\n",
       "\n",
       "    .dataframe tbody tr th {\n",
       "        vertical-align: top;\n",
       "    }\n",
       "\n",
       "    .dataframe thead th {\n",
       "        text-align: right;\n",
       "    }\n",
       "</style>\n",
       "<table border=\"1\" class=\"dataframe\">\n",
       "  <thead>\n",
       "    <tr style=\"text-align: right;\">\n",
       "      <th></th>\n",
       "      <th>CorrectPredEmilio</th>\n",
       "      <th>CorrectPredSonny</th>\n",
       "      <th>CorrectPredGel</th>\n",
       "      <th>CorrectPredHector</th>\n",
       "    </tr>\n",
       "    <tr>\n",
       "      <th>season</th>\n",
       "      <th></th>\n",
       "      <th></th>\n",
       "      <th></th>\n",
       "      <th></th>\n",
       "    </tr>\n",
       "  </thead>\n",
       "  <tbody>\n",
       "    <tr>\n",
       "      <th>2003.0</th>\n",
       "      <td>147</td>\n",
       "      <td>171</td>\n",
       "      <td>168</td>\n",
       "      <td>159</td>\n",
       "    </tr>\n",
       "    <tr>\n",
       "      <th>2004.0</th>\n",
       "      <td>140</td>\n",
       "      <td>170</td>\n",
       "      <td>160</td>\n",
       "      <td>162</td>\n",
       "    </tr>\n",
       "    <tr>\n",
       "      <th>2005.0</th>\n",
       "      <td>166</td>\n",
       "      <td>174</td>\n",
       "      <td>173</td>\n",
       "      <td>161</td>\n",
       "    </tr>\n",
       "    <tr>\n",
       "      <th>2006.0</th>\n",
       "      <td>154</td>\n",
       "      <td>155</td>\n",
       "      <td>149</td>\n",
       "      <td>161</td>\n",
       "    </tr>\n",
       "    <tr>\n",
       "      <th>2007.0</th>\n",
       "      <td>170</td>\n",
       "      <td>173</td>\n",
       "      <td>172</td>\n",
       "      <td>168</td>\n",
       "    </tr>\n",
       "    <tr>\n",
       "      <th>2008.0</th>\n",
       "      <td>161</td>\n",
       "      <td>171</td>\n",
       "      <td>182</td>\n",
       "      <td>169</td>\n",
       "    </tr>\n",
       "    <tr>\n",
       "      <th>2009.0</th>\n",
       "      <td>174</td>\n",
       "      <td>163</td>\n",
       "      <td>168</td>\n",
       "      <td>174</td>\n",
       "    </tr>\n",
       "    <tr>\n",
       "      <th>2010.0</th>\n",
       "      <td>167</td>\n",
       "      <td>170</td>\n",
       "      <td>160</td>\n",
       "      <td>160</td>\n",
       "    </tr>\n",
       "    <tr>\n",
       "      <th>2011.0</th>\n",
       "      <td>169</td>\n",
       "      <td>167</td>\n",
       "      <td>163</td>\n",
       "      <td>175</td>\n",
       "    </tr>\n",
       "    <tr>\n",
       "      <th>2012.0</th>\n",
       "      <td>169</td>\n",
       "      <td>165</td>\n",
       "      <td>149</td>\n",
       "      <td>171</td>\n",
       "    </tr>\n",
       "    <tr>\n",
       "      <th>2013.0</th>\n",
       "      <td>150</td>\n",
       "      <td>168</td>\n",
       "      <td>167</td>\n",
       "      <td>161</td>\n",
       "    </tr>\n",
       "    <tr>\n",
       "      <th>2014.0</th>\n",
       "      <td>162</td>\n",
       "      <td>171</td>\n",
       "      <td>180</td>\n",
       "      <td>151</td>\n",
       "    </tr>\n",
       "    <tr>\n",
       "      <th>2015.0</th>\n",
       "      <td>149</td>\n",
       "      <td>162</td>\n",
       "      <td>162</td>\n",
       "      <td>170</td>\n",
       "    </tr>\n",
       "    <tr>\n",
       "      <th>2016.0</th>\n",
       "      <td>168</td>\n",
       "      <td>169</td>\n",
       "      <td>171</td>\n",
       "      <td>165</td>\n",
       "    </tr>\n",
       "    <tr>\n",
       "      <th>2017.0</th>\n",
       "      <td>155</td>\n",
       "      <td>177</td>\n",
       "      <td>169</td>\n",
       "      <td>172</td>\n",
       "    </tr>\n",
       "    <tr>\n",
       "      <th>2018.0</th>\n",
       "      <td>141</td>\n",
       "      <td>166</td>\n",
       "      <td>153</td>\n",
       "      <td>162</td>\n",
       "    </tr>\n",
       "    <tr>\n",
       "      <th>2019.0</th>\n",
       "      <td>163</td>\n",
       "      <td>163</td>\n",
       "      <td>169</td>\n",
       "      <td>173</td>\n",
       "    </tr>\n",
       "  </tbody>\n",
       "</table>\n",
       "</div>"
      ],
      "text/plain": [
       "        CorrectPredEmilio  CorrectPredSonny  CorrectPredGel  CorrectPredHector\n",
       "season                                                                        \n",
       "2003.0                147               171             168                159\n",
       "2004.0                140               170             160                162\n",
       "2005.0                166               174             173                161\n",
       "2006.0                154               155             149                161\n",
       "2007.0                170               173             172                168\n",
       "2008.0                161               171             182                169\n",
       "2009.0                174               163             168                174\n",
       "2010.0                167               170             160                160\n",
       "2011.0                169               167             163                175\n",
       "2012.0                169               165             149                171\n",
       "2013.0                150               168             167                161\n",
       "2014.0                162               171             180                151\n",
       "2015.0                149               162             162                170\n",
       "2016.0                168               169             171                165\n",
       "2017.0                155               177             169                172\n",
       "2018.0                141               166             153                162\n",
       "2019.0                163               163             169                173"
      ]
     },
     "execution_count": 33,
     "metadata": {},
     "output_type": "execute_result"
    }
   ],
   "source": [
    "df[['season', 'CorrectPredEmilio', 'CorrectPredSonny', 'CorrectPredGel', 'CorrectPredHector']].groupby(['season']).sum()"
   ]
  },
  {
   "cell_type": "code",
   "execution_count": 34,
   "metadata": {},
   "outputs": [],
   "source": [
    "count  = df[['season',  'Game','Home Team', 'HomeWin', 'AwayWin', 'Game']].loc[(df['week'] <18) & (df['season'] < 2019)].groupby(['season', 'Home Team']).sum()"
   ]
  },
  {
   "cell_type": "code",
   "execution_count": 32,
   "metadata": {},
   "outputs": [],
   "source": [
    "perWeek = df[['season',  'Game', 'week', 'CorrectPredEmilio', 'CorrectPredSonny', 'CorrectPredGel', 'CorrectPredHector']].groupby(['season', 'week']).sum().reset_index(drop=False)"
   ]
  },
  {
   "cell_type": "code",
   "execution_count": 33,
   "metadata": {},
   "outputs": [
    {
     "data": {
      "text/html": [
       "<div>\n",
       "<style scoped>\n",
       "    .dataframe tbody tr th:only-of-type {\n",
       "        vertical-align: middle;\n",
       "    }\n",
       "\n",
       "    .dataframe tbody tr th {\n",
       "        vertical-align: top;\n",
       "    }\n",
       "\n",
       "    .dataframe thead th {\n",
       "        text-align: right;\n",
       "    }\n",
       "</style>\n",
       "<table border=\"1\" class=\"dataframe\">\n",
       "  <thead>\n",
       "    <tr style=\"text-align: right;\">\n",
       "      <th></th>\n",
       "      <th>season</th>\n",
       "      <th>week</th>\n",
       "      <th>Game</th>\n",
       "      <th>CorrectPredEmilio</th>\n",
       "      <th>CorrectPredSonny</th>\n",
       "      <th>CorrectPredGel</th>\n",
       "      <th>CorrectPredHector</th>\n",
       "    </tr>\n",
       "  </thead>\n",
       "  <tbody>\n",
       "    <tr>\n",
       "      <th>0</th>\n",
       "      <td>2003.0</td>\n",
       "      <td>1.0</td>\n",
       "      <td>16</td>\n",
       "      <td>6</td>\n",
       "      <td>8</td>\n",
       "      <td>11</td>\n",
       "      <td>10</td>\n",
       "    </tr>\n",
       "    <tr>\n",
       "      <th>1</th>\n",
       "      <td>2003.0</td>\n",
       "      <td>2.0</td>\n",
       "      <td>16</td>\n",
       "      <td>9</td>\n",
       "      <td>10</td>\n",
       "      <td>8</td>\n",
       "      <td>8</td>\n",
       "    </tr>\n",
       "    <tr>\n",
       "      <th>2</th>\n",
       "      <td>2003.0</td>\n",
       "      <td>3.0</td>\n",
       "      <td>14</td>\n",
       "      <td>7</td>\n",
       "      <td>8</td>\n",
       "      <td>8</td>\n",
       "      <td>8</td>\n",
       "    </tr>\n",
       "    <tr>\n",
       "      <th>3</th>\n",
       "      <td>2003.0</td>\n",
       "      <td>4.0</td>\n",
       "      <td>14</td>\n",
       "      <td>10</td>\n",
       "      <td>10</td>\n",
       "      <td>12</td>\n",
       "      <td>8</td>\n",
       "    </tr>\n",
       "    <tr>\n",
       "      <th>4</th>\n",
       "      <td>2003.0</td>\n",
       "      <td>5.0</td>\n",
       "      <td>14</td>\n",
       "      <td>6</td>\n",
       "      <td>8</td>\n",
       "      <td>11</td>\n",
       "      <td>6</td>\n",
       "    </tr>\n",
       "  </tbody>\n",
       "</table>\n",
       "</div>"
      ],
      "text/plain": [
       "   season  week  Game  CorrectPredEmilio  CorrectPredSonny  CorrectPredGel  \\\n",
       "0  2003.0   1.0    16                  6                 8              11   \n",
       "1  2003.0   2.0    16                  9                10               8   \n",
       "2  2003.0   3.0    14                  7                 8               8   \n",
       "3  2003.0   4.0    14                 10                10              12   \n",
       "4  2003.0   5.0    14                  6                 8              11   \n",
       "\n",
       "   CorrectPredHector  \n",
       "0                 10  \n",
       "1                  8  \n",
       "2                  8  \n",
       "3                  8  \n",
       "4                  6  "
      ]
     },
     "execution_count": 33,
     "metadata": {},
     "output_type": "execute_result"
    }
   ],
   "source": [
    "perWeek.head()"
   ]
  },
  {
   "cell_type": "code",
   "execution_count": 34,
   "metadata": {},
   "outputs": [
    {
     "data": {
      "text/plain": [
       "(0, 14)"
      ]
     },
     "execution_count": 34,
     "metadata": {},
     "output_type": "execute_result"
    },
    {
     "data": {
      "image/png": "[encoded data removed]",
      "text/plain": [
       "<matplotlib.figure.Figure at 0x10d01b860>"
      ]
     },
     "metadata": {},
     "output_type": "display_data"
    }
   ],
   "source": [
    "plt.figure(figsize=(10,5))\n",
    "plt.plot(perWeek.CorrectPredEmilio.loc[:len(perWeek.CorrectPredEmilio)].loc[perWeek['season'] == 2019], label='Emilio', color='red')\n",
    "plt.plot(perWeek.CorrectPredSonny.loc[:len(perWeek.CorrectPredEmilio)].loc[perWeek['season'] == 2019], label='Sonny', color='blue')\n",
    "plt.plot(perWeek.CorrectPredGel.loc[:len(perWeek.CorrectPredEmilio)].loc[perWeek['season'] == 2019], label='Gel', color='pink')\n",
    "plt.plot(perWeek.CorrectPredHector.loc[:len(perWeek.CorrectPredEmilio)].loc[perWeek['season'] == 2019], label='Hector', color='green')\n",
    "plt.legend()\n",
    "lenWeek = len(perWeek.CorrectPredEmilio.loc[:len(perWeek.CorrectPredEmilio)].loc[perWeek['season'] == 2019].index.values)\n",
    "plt.xticks(perWeek.CorrectPredEmilio.loc[:len(perWeek.CorrectPredEmilio)].loc[perWeek['season'] == 2019].index, np.arange(0, lenWeek))\n",
    "plt.xlabel('Week')\n",
    "plt.ylabel('Correct Predictions')\n",
    "plt.title('Correct Prediction Per Week for 2019')\n",
    "plt.ylim(0, 14)"
   ]
  },
  {
   "cell_type": "code",
   "execution_count": 35,
   "metadata": {},
   "outputs": [
    {
     "data": {
      "text/html": [
       "<div>\n",
       "<style scoped>\n",
       "    .dataframe tbody tr th:only-of-type {\n",
       "        vertical-align: middle;\n",
       "    }\n",
       "\n",
       "    .dataframe tbody tr th {\n",
       "        vertical-align: top;\n",
       "    }\n",
       "\n",
       "    .dataframe thead th {\n",
       "        text-align: right;\n",
       "    }\n",
       "</style>\n",
       "<table border=\"1\" class=\"dataframe\">\n",
       "  <thead>\n",
       "    <tr style=\"text-align: right;\">\n",
       "      <th></th>\n",
       "      <th>CorrectPredEmilio</th>\n",
       "      <th>CorrectPredSonny</th>\n",
       "      <th>CorrectPredGel</th>\n",
       "      <th>CorrectPredHector</th>\n",
       "    </tr>\n",
       "    <tr>\n",
       "      <th>season</th>\n",
       "      <th></th>\n",
       "      <th></th>\n",
       "      <th></th>\n",
       "      <th></th>\n",
       "    </tr>\n",
       "  </thead>\n",
       "  <tbody>\n",
       "    <tr>\n",
       "      <th>2003.0</th>\n",
       "      <td>8.166667</td>\n",
       "      <td>9.500000</td>\n",
       "      <td>9.333333</td>\n",
       "      <td>8.833333</td>\n",
       "    </tr>\n",
       "    <tr>\n",
       "      <th>2004.0</th>\n",
       "      <td>7.777778</td>\n",
       "      <td>9.444444</td>\n",
       "      <td>8.888889</td>\n",
       "      <td>9.000000</td>\n",
       "    </tr>\n",
       "    <tr>\n",
       "      <th>2005.0</th>\n",
       "      <td>9.222222</td>\n",
       "      <td>9.666667</td>\n",
       "      <td>9.611111</td>\n",
       "      <td>8.944444</td>\n",
       "    </tr>\n",
       "    <tr>\n",
       "      <th>2006.0</th>\n",
       "      <td>8.555556</td>\n",
       "      <td>8.611111</td>\n",
       "      <td>8.277778</td>\n",
       "      <td>8.944444</td>\n",
       "    </tr>\n",
       "    <tr>\n",
       "      <th>2007.0</th>\n",
       "      <td>9.444444</td>\n",
       "      <td>9.611111</td>\n",
       "      <td>9.555556</td>\n",
       "      <td>9.333333</td>\n",
       "    </tr>\n",
       "    <tr>\n",
       "      <th>2008.0</th>\n",
       "      <td>8.944444</td>\n",
       "      <td>9.500000</td>\n",
       "      <td>10.111111</td>\n",
       "      <td>9.388889</td>\n",
       "    </tr>\n",
       "    <tr>\n",
       "      <th>2009.0</th>\n",
       "      <td>9.666667</td>\n",
       "      <td>9.055556</td>\n",
       "      <td>9.333333</td>\n",
       "      <td>9.666667</td>\n",
       "    </tr>\n",
       "    <tr>\n",
       "      <th>2010.0</th>\n",
       "      <td>9.277778</td>\n",
       "      <td>9.444444</td>\n",
       "      <td>8.888889</td>\n",
       "      <td>8.888889</td>\n",
       "    </tr>\n",
       "    <tr>\n",
       "      <th>2011.0</th>\n",
       "      <td>9.388889</td>\n",
       "      <td>9.277778</td>\n",
       "      <td>9.055556</td>\n",
       "      <td>9.722222</td>\n",
       "    </tr>\n",
       "    <tr>\n",
       "      <th>2012.0</th>\n",
       "      <td>9.388889</td>\n",
       "      <td>9.166667</td>\n",
       "      <td>8.277778</td>\n",
       "      <td>9.500000</td>\n",
       "    </tr>\n",
       "    <tr>\n",
       "      <th>2013.0</th>\n",
       "      <td>8.333333</td>\n",
       "      <td>9.333333</td>\n",
       "      <td>9.277778</td>\n",
       "      <td>8.944444</td>\n",
       "    </tr>\n",
       "    <tr>\n",
       "      <th>2014.0</th>\n",
       "      <td>9.000000</td>\n",
       "      <td>9.500000</td>\n",
       "      <td>10.000000</td>\n",
       "      <td>8.388889</td>\n",
       "    </tr>\n",
       "    <tr>\n",
       "      <th>2015.0</th>\n",
       "      <td>8.277778</td>\n",
       "      <td>9.000000</td>\n",
       "      <td>9.000000</td>\n",
       "      <td>9.444444</td>\n",
       "    </tr>\n",
       "    <tr>\n",
       "      <th>2016.0</th>\n",
       "      <td>9.333333</td>\n",
       "      <td>9.388889</td>\n",
       "      <td>9.500000</td>\n",
       "      <td>9.166667</td>\n",
       "    </tr>\n",
       "    <tr>\n",
       "      <th>2017.0</th>\n",
       "      <td>8.611111</td>\n",
       "      <td>9.833333</td>\n",
       "      <td>9.388889</td>\n",
       "      <td>9.555556</td>\n",
       "    </tr>\n",
       "    <tr>\n",
       "      <th>2018.0</th>\n",
       "      <td>7.833333</td>\n",
       "      <td>9.222222</td>\n",
       "      <td>8.500000</td>\n",
       "      <td>9.000000</td>\n",
       "    </tr>\n",
       "    <tr>\n",
       "      <th>2019.0</th>\n",
       "      <td>9.055556</td>\n",
       "      <td>9.055556</td>\n",
       "      <td>9.388889</td>\n",
       "      <td>9.611111</td>\n",
       "    </tr>\n",
       "  </tbody>\n",
       "</table>\n",
       "</div>"
      ],
      "text/plain": [
       "        CorrectPredEmilio  CorrectPredSonny  CorrectPredGel  CorrectPredHector\n",
       "season                                                                        \n",
       "2003.0           8.166667          9.500000        9.333333           8.833333\n",
       "2004.0           7.777778          9.444444        8.888889           9.000000\n",
       "2005.0           9.222222          9.666667        9.611111           8.944444\n",
       "2006.0           8.555556          8.611111        8.277778           8.944444\n",
       "2007.0           9.444444          9.611111        9.555556           9.333333\n",
       "2008.0           8.944444          9.500000       10.111111           9.388889\n",
       "2009.0           9.666667          9.055556        9.333333           9.666667\n",
       "2010.0           9.277778          9.444444        8.888889           8.888889\n",
       "2011.0           9.388889          9.277778        9.055556           9.722222\n",
       "2012.0           9.388889          9.166667        8.277778           9.500000\n",
       "2013.0           8.333333          9.333333        9.277778           8.944444\n",
       "2014.0           9.000000          9.500000       10.000000           8.388889\n",
       "2015.0           8.277778          9.000000        9.000000           9.444444\n",
       "2016.0           9.333333          9.388889        9.500000           9.166667\n",
       "2017.0           8.611111          9.833333        9.388889           9.555556\n",
       "2018.0           7.833333          9.222222        8.500000           9.000000\n",
       "2019.0           9.055556          9.055556        9.388889           9.611111"
      ]
     },
     "execution_count": 35,
     "metadata": {},
     "output_type": "execute_result"
    }
   ],
   "source": [
    "perWeek[['season', 'CorrectPredEmilio', 'CorrectPredSonny', 'CorrectPredGel', 'CorrectPredHector']].groupby(['season']).mean()"
   ]
  },
  {
   "cell_type": "markdown",
   "metadata": {},
   "source": [
    "## Is being home more likely to win?"
   ]
  },
  {
   "cell_type": "code",
   "execution_count": 36,
   "metadata": {},
   "outputs": [
    {
     "data": {
      "text/html": [
       "<div>\n",
       "<style scoped>\n",
       "    .dataframe tbody tr th:only-of-type {\n",
       "        vertical-align: middle;\n",
       "    }\n",
       "\n",
       "    .dataframe tbody tr th {\n",
       "        vertical-align: top;\n",
       "    }\n",
       "\n",
       "    .dataframe thead th {\n",
       "        text-align: right;\n",
       "    }\n",
       "</style>\n",
       "<table border=\"1\" class=\"dataframe\">\n",
       "  <thead>\n",
       "    <tr style=\"text-align: right;\">\n",
       "      <th></th>\n",
       "      <th>index</th>\n",
       "      <th>Away Team</th>\n",
       "      <th>Emilio</th>\n",
       "      <th>Gel</th>\n",
       "      <th>Hector</th>\n",
       "      <th>Home Team</th>\n",
       "      <th>Sonny</th>\n",
       "      <th>ganador</th>\n",
       "      <th>season</th>\n",
       "      <th>week</th>\n",
       "      <th>game_id</th>\n",
       "      <th>home_score</th>\n",
       "      <th>away_score</th>\n",
       "      <th>HomeWin</th>\n",
       "      <th>AwayWin</th>\n",
       "      <th>Game</th>\n",
       "      <th>CorrectPredEmilio</th>\n",
       "      <th>CorrectPredSonny</th>\n",
       "      <th>CorrectPredGel</th>\n",
       "      <th>CorrectPredHector</th>\n",
       "    </tr>\n",
       "  </thead>\n",
       "  <tbody>\n",
       "    <tr>\n",
       "      <th>0</th>\n",
       "      <td>0</td>\n",
       "      <td>Ca</td>\n",
       "      <td>Ca</td>\n",
       "      <td>Dn</td>\n",
       "      <td>Ca</td>\n",
       "      <td>Dn</td>\n",
       "      <td>Ca</td>\n",
       "      <td>Dn</td>\n",
       "      <td>2016</td>\n",
       "      <td>1</td>\n",
       "      <td>2016090800</td>\n",
       "      <td>21.0</td>\n",
       "      <td>20.0</td>\n",
       "      <td>1</td>\n",
       "      <td>0</td>\n",
       "      <td>1</td>\n",
       "      <td>0</td>\n",
       "      <td>0</td>\n",
       "      <td>1</td>\n",
       "      <td>0</td>\n",
       "    </tr>\n",
       "    <tr>\n",
       "      <th>1</th>\n",
       "      <td>1</td>\n",
       "      <td>Tb</td>\n",
       "      <td>At</td>\n",
       "      <td>Tb</td>\n",
       "      <td>At</td>\n",
       "      <td>At</td>\n",
       "      <td>At</td>\n",
       "      <td>Tb</td>\n",
       "      <td>2016</td>\n",
       "      <td>1</td>\n",
       "      <td>2016091100</td>\n",
       "      <td>24.0</td>\n",
       "      <td>31.0</td>\n",
       "      <td>0</td>\n",
       "      <td>1</td>\n",
       "      <td>1</td>\n",
       "      <td>0</td>\n",
       "      <td>0</td>\n",
       "      <td>1</td>\n",
       "      <td>0</td>\n",
       "    </tr>\n",
       "    <tr>\n",
       "      <th>2</th>\n",
       "      <td>2</td>\n",
       "      <td>Mn</td>\n",
       "      <td>Tn</td>\n",
       "      <td>Tn</td>\n",
       "      <td>Tn</td>\n",
       "      <td>Tn</td>\n",
       "      <td>Tn</td>\n",
       "      <td>Mn</td>\n",
       "      <td>2016</td>\n",
       "      <td>1</td>\n",
       "      <td>2016091108</td>\n",
       "      <td>16.0</td>\n",
       "      <td>25.0</td>\n",
       "      <td>0</td>\n",
       "      <td>1</td>\n",
       "      <td>1</td>\n",
       "      <td>0</td>\n",
       "      <td>0</td>\n",
       "      <td>0</td>\n",
       "      <td>0</td>\n",
       "    </tr>\n",
       "    <tr>\n",
       "      <th>3</th>\n",
       "      <td>3</td>\n",
       "      <td>Cl</td>\n",
       "      <td>Ph</td>\n",
       "      <td>Ph</td>\n",
       "      <td>Ph</td>\n",
       "      <td>Ph</td>\n",
       "      <td>Ph</td>\n",
       "      <td>Ph</td>\n",
       "      <td>2016</td>\n",
       "      <td>1</td>\n",
       "      <td>2016091107</td>\n",
       "      <td>29.0</td>\n",
       "      <td>10.0</td>\n",
       "      <td>1</td>\n",
       "      <td>0</td>\n",
       "      <td>1</td>\n",
       "      <td>1</td>\n",
       "      <td>1</td>\n",
       "      <td>1</td>\n",
       "      <td>1</td>\n",
       "    </tr>\n",
       "    <tr>\n",
       "      <th>4</th>\n",
       "      <td>4</td>\n",
       "      <td>Cn</td>\n",
       "      <td>Cn</td>\n",
       "      <td>Cn</td>\n",
       "      <td>Cn</td>\n",
       "      <td>Jt</td>\n",
       "      <td>Cn</td>\n",
       "      <td>Cn</td>\n",
       "      <td>2016</td>\n",
       "      <td>1</td>\n",
       "      <td>2016091106</td>\n",
       "      <td>22.0</td>\n",
       "      <td>23.0</td>\n",
       "      <td>0</td>\n",
       "      <td>1</td>\n",
       "      <td>1</td>\n",
       "      <td>1</td>\n",
       "      <td>1</td>\n",
       "      <td>1</td>\n",
       "      <td>1</td>\n",
       "    </tr>\n",
       "  </tbody>\n",
       "</table>\n",
       "</div>"
      ],
      "text/plain": [
       "   index Away Team Emilio Gel Hector Home Team Sonny ganador season week  \\\n",
       "0      0        Ca     Ca  Dn     Ca        Dn    Ca      Dn   2016    1   \n",
       "1      1        Tb     At  Tb     At        At    At      Tb   2016    1   \n",
       "2      2        Mn     Tn  Tn     Tn        Tn    Tn      Mn   2016    1   \n",
       "3      3        Cl     Ph  Ph     Ph        Ph    Ph      Ph   2016    1   \n",
       "4      4        Cn     Cn  Cn     Cn        Jt    Cn      Cn   2016    1   \n",
       "\n",
       "      game_id  home_score  away_score  HomeWin  AwayWin  Game  \\\n",
       "0  2016090800        21.0        20.0        1        0     1   \n",
       "1  2016091100        24.0        31.0        0        1     1   \n",
       "2  2016091108        16.0        25.0        0        1     1   \n",
       "3  2016091107        29.0        10.0        1        0     1   \n",
       "4  2016091106        22.0        23.0        0        1     1   \n",
       "\n",
       "   CorrectPredEmilio  CorrectPredSonny  CorrectPredGel  CorrectPredHector  \n",
       "0                  0                 0               1                  0  \n",
       "1                  0                 0               1                  0  \n",
       "2                  0                 0               0                  0  \n",
       "3                  1                 1               1                  1  \n",
       "4                  1                 1               1                  1  "
      ]
     },
     "execution_count": 36,
     "metadata": {},
     "output_type": "execute_result"
    }
   ],
   "source": [
    "df.head()"
   ]
  },
  {
   "cell_type": "code",
   "execution_count": 37,
   "metadata": {},
   "outputs": [
    {
     "data": {
      "text/plain": [
       "Index(['index', 'Away Team', 'Emilio', 'Gel', 'Hector', 'Home Team', 'Sonny',\n",
       "       'ganador', 'season', 'week', 'game_id', 'home_score', 'away_score',\n",
       "       'HomeWin', 'AwayWin', 'Game', 'CorrectPredEmilio', 'CorrectPredSonny',\n",
       "       'CorrectPredGel', 'CorrectPredHector'],\n",
       "      dtype='object')"
      ]
     },
     "execution_count": 37,
     "metadata": {},
     "output_type": "execute_result"
    }
   ],
   "source": [
    "df.columns"
   ]
  },
  {
   "cell_type": "code",
   "execution_count": 38,
   "metadata": {},
   "outputs": [
    {
     "name": "stdout",
     "output_type": "stream",
     "text": [
      "Home Loses 1954\n",
      "Home Wins 2585\n"
     ]
    }
   ],
   "source": [
    "homeLoses = len(df.HomeWin) - len(df.HomeWin.loc[df['HomeWin']==1])\n",
    "homeWins = len(df.HomeWin.loc[df['HomeWin']==1])\n",
    "print('Home Loses', homeLoses)\n",
    "print('Home Wins', homeWins)"
   ]
  },
  {
   "cell_type": "code",
   "execution_count": 39,
   "metadata": {},
   "outputs": [
    {
     "name": "stdout",
     "output_type": "stream",
     "text": [
      "Away Loses 2594\n",
      "Away Wins 1945\n"
     ]
    }
   ],
   "source": [
    "awayLoses = len(df.AwayWin) - len(df.AwayWin.loc[df['AwayWin']==1])\n",
    "awayWins = len(df.AwayWin.loc[df['AwayWin']==1])\n",
    "print('Away Loses', awayLoses)\n",
    "print('Away Wins', awayWins)"
   ]
  },
  {
   "cell_type": "code",
   "execution_count": 40,
   "metadata": {},
   "outputs": [],
   "source": [
    "perS = df[['season','CorrectPredGel', 'CorrectPredHector', 'CorrectPredEmilio', 'CorrectPredSonny']].groupby(['season']).sum()"
   ]
  },
  {
   "cell_type": "code",
   "execution_count": 41,
   "metadata": {},
   "outputs": [
    {
     "data": {
      "text/html": [
       "<div>\n",
       "<style scoped>\n",
       "    .dataframe tbody tr th:only-of-type {\n",
       "        vertical-align: middle;\n",
       "    }\n",
       "\n",
       "    .dataframe tbody tr th {\n",
       "        vertical-align: top;\n",
       "    }\n",
       "\n",
       "    .dataframe thead th {\n",
       "        text-align: right;\n",
       "    }\n",
       "</style>\n",
       "<table border=\"1\" class=\"dataframe\">\n",
       "  <thead>\n",
       "    <tr style=\"text-align: right;\">\n",
       "      <th></th>\n",
       "      <th>CorrectPredGel</th>\n",
       "      <th>CorrectPredHector</th>\n",
       "      <th>CorrectPredEmilio</th>\n",
       "      <th>CorrectPredSonny</th>\n",
       "    </tr>\n",
       "    <tr>\n",
       "      <th>season</th>\n",
       "      <th></th>\n",
       "      <th></th>\n",
       "      <th></th>\n",
       "      <th></th>\n",
       "    </tr>\n",
       "  </thead>\n",
       "  <tbody>\n",
       "    <tr>\n",
       "      <th>2003.0</th>\n",
       "      <td>168</td>\n",
       "      <td>159</td>\n",
       "      <td>147</td>\n",
       "      <td>171</td>\n",
       "    </tr>\n",
       "    <tr>\n",
       "      <th>2004.0</th>\n",
       "      <td>160</td>\n",
       "      <td>162</td>\n",
       "      <td>140</td>\n",
       "      <td>170</td>\n",
       "    </tr>\n",
       "    <tr>\n",
       "      <th>2005.0</th>\n",
       "      <td>173</td>\n",
       "      <td>161</td>\n",
       "      <td>166</td>\n",
       "      <td>174</td>\n",
       "    </tr>\n",
       "    <tr>\n",
       "      <th>2006.0</th>\n",
       "      <td>149</td>\n",
       "      <td>161</td>\n",
       "      <td>154</td>\n",
       "      <td>155</td>\n",
       "    </tr>\n",
       "    <tr>\n",
       "      <th>2007.0</th>\n",
       "      <td>172</td>\n",
       "      <td>168</td>\n",
       "      <td>170</td>\n",
       "      <td>173</td>\n",
       "    </tr>\n",
       "    <tr>\n",
       "      <th>2008.0</th>\n",
       "      <td>182</td>\n",
       "      <td>169</td>\n",
       "      <td>161</td>\n",
       "      <td>171</td>\n",
       "    </tr>\n",
       "    <tr>\n",
       "      <th>2009.0</th>\n",
       "      <td>168</td>\n",
       "      <td>174</td>\n",
       "      <td>174</td>\n",
       "      <td>163</td>\n",
       "    </tr>\n",
       "    <tr>\n",
       "      <th>2010.0</th>\n",
       "      <td>160</td>\n",
       "      <td>160</td>\n",
       "      <td>167</td>\n",
       "      <td>170</td>\n",
       "    </tr>\n",
       "    <tr>\n",
       "      <th>2011.0</th>\n",
       "      <td>163</td>\n",
       "      <td>175</td>\n",
       "      <td>169</td>\n",
       "      <td>167</td>\n",
       "    </tr>\n",
       "    <tr>\n",
       "      <th>2012.0</th>\n",
       "      <td>149</td>\n",
       "      <td>171</td>\n",
       "      <td>169</td>\n",
       "      <td>165</td>\n",
       "    </tr>\n",
       "    <tr>\n",
       "      <th>2013.0</th>\n",
       "      <td>167</td>\n",
       "      <td>161</td>\n",
       "      <td>150</td>\n",
       "      <td>168</td>\n",
       "    </tr>\n",
       "    <tr>\n",
       "      <th>2014.0</th>\n",
       "      <td>180</td>\n",
       "      <td>151</td>\n",
       "      <td>162</td>\n",
       "      <td>171</td>\n",
       "    </tr>\n",
       "    <tr>\n",
       "      <th>2015.0</th>\n",
       "      <td>162</td>\n",
       "      <td>170</td>\n",
       "      <td>149</td>\n",
       "      <td>162</td>\n",
       "    </tr>\n",
       "    <tr>\n",
       "      <th>2016.0</th>\n",
       "      <td>171</td>\n",
       "      <td>165</td>\n",
       "      <td>168</td>\n",
       "      <td>169</td>\n",
       "    </tr>\n",
       "    <tr>\n",
       "      <th>2017.0</th>\n",
       "      <td>169</td>\n",
       "      <td>172</td>\n",
       "      <td>155</td>\n",
       "      <td>177</td>\n",
       "    </tr>\n",
       "    <tr>\n",
       "      <th>2018.0</th>\n",
       "      <td>153</td>\n",
       "      <td>162</td>\n",
       "      <td>141</td>\n",
       "      <td>166</td>\n",
       "    </tr>\n",
       "    <tr>\n",
       "      <th>2019.0</th>\n",
       "      <td>169</td>\n",
       "      <td>173</td>\n",
       "      <td>163</td>\n",
       "      <td>163</td>\n",
       "    </tr>\n",
       "  </tbody>\n",
       "</table>\n",
       "</div>"
      ],
      "text/plain": [
       "        CorrectPredGel  CorrectPredHector  CorrectPredEmilio  CorrectPredSonny\n",
       "season                                                                        \n",
       "2003.0             168                159                147               171\n",
       "2004.0             160                162                140               170\n",
       "2005.0             173                161                166               174\n",
       "2006.0             149                161                154               155\n",
       "2007.0             172                168                170               173\n",
       "2008.0             182                169                161               171\n",
       "2009.0             168                174                174               163\n",
       "2010.0             160                160                167               170\n",
       "2011.0             163                175                169               167\n",
       "2012.0             149                171                169               165\n",
       "2013.0             167                161                150               168\n",
       "2014.0             180                151                162               171\n",
       "2015.0             162                170                149               162\n",
       "2016.0             171                165                168               169\n",
       "2017.0             169                172                155               177\n",
       "2018.0             153                162                141               166\n",
       "2019.0             169                173                163               163"
      ]
     },
     "execution_count": 41,
     "metadata": {},
     "output_type": "execute_result"
    }
   ],
   "source": [
    "perS"
   ]
  },
  {
   "cell_type": "code",
   "execution_count": 63,
   "metadata": {},
   "outputs": [
    {
     "data": {
      "text/plain": [
       "CorrectPredGel       2815\n",
       "CorrectPredHector    2814\n",
       "CorrectPredEmilio    2705\n",
       "CorrectPredSonny     2855\n",
       "dtype: int64"
      ]
     },
     "execution_count": 63,
     "metadata": {},
     "output_type": "execute_result"
    }
   ],
   "source": [
    "perS.sum()"
   ]
  },
  {
   "cell_type": "code",
   "execution_count": 42,
   "metadata": {},
   "outputs": [
    {
     "data": {
      "text/plain": [
       "Text(0.5,1,'Correct Prediction Per Season')"
      ]
     },
     "execution_count": 42,
     "metadata": {},
     "output_type": "execute_result"
    },
    {
     "data": {
      "image/png": "[encoded data removed]",
      "text/plain": [
       "<matplotlib.figure.Figure at 0x10d01f710>"
      ]
     },
     "metadata": {},
     "output_type": "display_data"
    }
   ],
   "source": [
    "plt.figure(figsize=(16,5))\n",
    "width = 0.35\n",
    "plt.bar(perS.index - width/4, perS.CorrectPredEmilio, width = width/2,label='Emilio')\n",
    "plt.bar(perS.index - 3*width/4, perS.CorrectPredSonny, width = width/2, label='Sonny')\n",
    "plt.bar(perS.index + 3*width/4, perS.CorrectPredGel, width = width/2, label='Gel')\n",
    "plt.bar(perS.index + width/4, perS.CorrectPredHector, width = width/2, label='Hector')\n",
    "plt.legend()\n",
    "plt.ylim(125, 185)\n",
    "plt.xticks(perS.index, perS.index)\n",
    "plt.xlabel('Season')\n",
    "plt.ylabel('Correct Predictions')\n",
    "plt.title('Correct Prediction Per Season')"
   ]
  },
  {
   "cell_type": "markdown",
   "metadata": {},
   "source": [
    "## Line Graphs for Old Seasons"
   ]
  },
  {
   "cell_type": "code",
   "execution_count": 43,
   "metadata": {},
   "outputs": [
    {
     "data": {
      "text/html": [
       "<div>\n",
       "<style scoped>\n",
       "    .dataframe tbody tr th:only-of-type {\n",
       "        vertical-align: middle;\n",
       "    }\n",
       "\n",
       "    .dataframe tbody tr th {\n",
       "        vertical-align: top;\n",
       "    }\n",
       "\n",
       "    .dataframe thead th {\n",
       "        text-align: right;\n",
       "    }\n",
       "</style>\n",
       "<table border=\"1\" class=\"dataframe\">\n",
       "  <thead>\n",
       "    <tr style=\"text-align: right;\">\n",
       "      <th></th>\n",
       "      <th>season</th>\n",
       "      <th>week</th>\n",
       "      <th>Game</th>\n",
       "      <th>CorrectPredEmilio</th>\n",
       "      <th>CorrectPredSonny</th>\n",
       "      <th>CorrectPredGel</th>\n",
       "      <th>CorrectPredHector</th>\n",
       "    </tr>\n",
       "  </thead>\n",
       "  <tbody>\n",
       "    <tr>\n",
       "      <th>0</th>\n",
       "      <td>2003.0</td>\n",
       "      <td>1.0</td>\n",
       "      <td>16</td>\n",
       "      <td>6</td>\n",
       "      <td>8</td>\n",
       "      <td>11</td>\n",
       "      <td>10</td>\n",
       "    </tr>\n",
       "    <tr>\n",
       "      <th>1</th>\n",
       "      <td>2003.0</td>\n",
       "      <td>2.0</td>\n",
       "      <td>16</td>\n",
       "      <td>9</td>\n",
       "      <td>10</td>\n",
       "      <td>8</td>\n",
       "      <td>8</td>\n",
       "    </tr>\n",
       "    <tr>\n",
       "      <th>2</th>\n",
       "      <td>2003.0</td>\n",
       "      <td>3.0</td>\n",
       "      <td>14</td>\n",
       "      <td>7</td>\n",
       "      <td>8</td>\n",
       "      <td>8</td>\n",
       "      <td>8</td>\n",
       "    </tr>\n",
       "    <tr>\n",
       "      <th>3</th>\n",
       "      <td>2003.0</td>\n",
       "      <td>4.0</td>\n",
       "      <td>14</td>\n",
       "      <td>10</td>\n",
       "      <td>10</td>\n",
       "      <td>12</td>\n",
       "      <td>8</td>\n",
       "    </tr>\n",
       "    <tr>\n",
       "      <th>4</th>\n",
       "      <td>2003.0</td>\n",
       "      <td>5.0</td>\n",
       "      <td>14</td>\n",
       "      <td>6</td>\n",
       "      <td>8</td>\n",
       "      <td>11</td>\n",
       "      <td>6</td>\n",
       "    </tr>\n",
       "  </tbody>\n",
       "</table>\n",
       "</div>"
      ],
      "text/plain": [
       "   season  week  Game  CorrectPredEmilio  CorrectPredSonny  CorrectPredGel  \\\n",
       "0  2003.0   1.0    16                  6                 8              11   \n",
       "1  2003.0   2.0    16                  9                10               8   \n",
       "2  2003.0   3.0    14                  7                 8               8   \n",
       "3  2003.0   4.0    14                 10                10              12   \n",
       "4  2003.0   5.0    14                  6                 8              11   \n",
       "\n",
       "   CorrectPredHector  \n",
       "0                 10  \n",
       "1                  8  \n",
       "2                  8  \n",
       "3                  8  \n",
       "4                  6  "
      ]
     },
     "execution_count": 43,
     "metadata": {},
     "output_type": "execute_result"
    }
   ],
   "source": [
    "perWeek.head()"
   ]
  },
  {
   "cell_type": "code",
   "execution_count": 44,
   "metadata": {},
   "outputs": [],
   "source": [
    "perWeek['Xbar'] = np.mean(perWeek[['CorrectPredEmilio', 'CorrectPredSonny', 'CorrectPredGel', 'CorrectPredHector']], axis=1)"
   ]
  },
  {
   "cell_type": "code",
   "execution_count": 45,
   "metadata": {},
   "outputs": [],
   "source": [
    "perWeek['R'] = np.max(perWeek[['CorrectPredEmilio', 'CorrectPredSonny', 'CorrectPredGel', 'CorrectPredHector']], axis=1) - np.min(perWeek[['CorrectPredEmilio', 'CorrectPredSonny', 'CorrectPredGel', 'CorrectPredHector']], axis=1)"
   ]
  },
  {
   "cell_type": "code",
   "execution_count": 46,
   "metadata": {},
   "outputs": [],
   "source": [
    "Rbar=perWeek['R'].sum()/len(perWeek['R']) ## mean value of range of each lot \n",
    "UCL_R=2.114*Rbar     ## upper control limit of range\n",
    "LCL_R=0*Rbar"
   ]
  },
  {
   "cell_type": "code",
   "execution_count": 47,
   "metadata": {},
   "outputs": [],
   "source": [
    "perWeek.insert(2,'Rbar',Rbar)\n",
    "perWeek.insert(3,'UCL_R',UCL_R)\n",
    "perWeek.insert(4,'LCL_R',LCL_R)"
   ]
  },
  {
   "cell_type": "code",
   "execution_count": 48,
   "metadata": {},
   "outputs": [
    {
     "data": {
      "text/plain": [
       "<matplotlib.axes._subplots.AxesSubplot at 0x10f9a3ef0>"
      ]
     },
     "execution_count": 48,
     "metadata": {},
     "output_type": "execute_result"
    },
    {
     "data": {
      "image/png": "[encoded data removed]",
      "text/plain": [
       "<matplotlib.figure.Figure at 0x10d01e080>"
      ]
     },
     "metadata": {},
     "output_type": "display_data"
    }
   ],
   "source": [
    "perWeek[\"R\"].plot(marker=\"o\")\n",
    "perWeek[\"UCL_R\"].plot(color='b')\n",
    "perWeek[\"LCL_R\"].plot(color='k')\n",
    "perWeek[\"Rbar\"].plot(color='r')"
   ]
  },
  {
   "cell_type": "code",
   "execution_count": 49,
   "metadata": {},
   "outputs": [
    {
     "data": {
      "text/plain": [
       "Text(0.5,1,'Correct Prediction Per Week for 2018')"
      ]
     },
     "execution_count": 49,
     "metadata": {},
     "output_type": "execute_result"
    },
    {
     "data": {
      "image/png": "[encoded data removed]",
      "text/plain": [
       "<matplotlib.figure.Figure at 0x10f9d4908>"
      ]
     },
     "metadata": {},
     "output_type": "display_data"
    }
   ],
   "source": [
    "plt.figure(figsize=(10,5))\n",
    "plt.plot(perWeek.CorrectPredEmilio.loc[:len(perWeek.CorrectPredEmilio)].loc[perWeek['season'] != 2019], label='Emilio', color='red')\n",
    "plt.legend()\n",
    "plt.xlabel('Week')\n",
    "plt.ylabel('Correct Predictions')\n",
    "plt.title('Correct Prediction Per Week for 2018')\n"
   ]
  },
  {
   "cell_type": "markdown",
   "metadata": {},
   "source": [
    "## Pivot Table By Team"
   ]
  },
  {
   "cell_type": "code",
   "execution_count": 50,
   "metadata": {},
   "outputs": [
    {
     "data": {
      "text/html": [
       "<div>\n",
       "<style scoped>\n",
       "    .dataframe tbody tr th:only-of-type {\n",
       "        vertical-align: middle;\n",
       "    }\n",
       "\n",
       "    .dataframe tbody tr th {\n",
       "        vertical-align: top;\n",
       "    }\n",
       "\n",
       "    .dataframe thead th {\n",
       "        text-align: right;\n",
       "    }\n",
       "</style>\n",
       "<table border=\"1\" class=\"dataframe\">\n",
       "  <thead>\n",
       "    <tr style=\"text-align: right;\">\n",
       "      <th></th>\n",
       "      <th>index</th>\n",
       "      <th>Away Team</th>\n",
       "      <th>Emilio</th>\n",
       "      <th>Gel</th>\n",
       "      <th>Hector</th>\n",
       "      <th>Home Team</th>\n",
       "      <th>Sonny</th>\n",
       "      <th>ganador</th>\n",
       "      <th>season</th>\n",
       "      <th>week</th>\n",
       "      <th>game_id</th>\n",
       "      <th>home_score</th>\n",
       "      <th>away_score</th>\n",
       "      <th>HomeWin</th>\n",
       "      <th>AwayWin</th>\n",
       "      <th>Game</th>\n",
       "      <th>CorrectPredEmilio</th>\n",
       "      <th>CorrectPredSonny</th>\n",
       "      <th>CorrectPredGel</th>\n",
       "      <th>CorrectPredHector</th>\n",
       "    </tr>\n",
       "  </thead>\n",
       "  <tbody>\n",
       "    <tr>\n",
       "      <th>0</th>\n",
       "      <td>0</td>\n",
       "      <td>Ca</td>\n",
       "      <td>Ca</td>\n",
       "      <td>Dn</td>\n",
       "      <td>Ca</td>\n",
       "      <td>Dn</td>\n",
       "      <td>Ca</td>\n",
       "      <td>Dn</td>\n",
       "      <td>2016</td>\n",
       "      <td>1</td>\n",
       "      <td>2016090800</td>\n",
       "      <td>21.0</td>\n",
       "      <td>20.0</td>\n",
       "      <td>1</td>\n",
       "      <td>0</td>\n",
       "      <td>1</td>\n",
       "      <td>0</td>\n",
       "      <td>0</td>\n",
       "      <td>1</td>\n",
       "      <td>0</td>\n",
       "    </tr>\n",
       "    <tr>\n",
       "      <th>1</th>\n",
       "      <td>1</td>\n",
       "      <td>Tb</td>\n",
       "      <td>At</td>\n",
       "      <td>Tb</td>\n",
       "      <td>At</td>\n",
       "      <td>At</td>\n",
       "      <td>At</td>\n",
       "      <td>Tb</td>\n",
       "      <td>2016</td>\n",
       "      <td>1</td>\n",
       "      <td>2016091100</td>\n",
       "      <td>24.0</td>\n",
       "      <td>31.0</td>\n",
       "      <td>0</td>\n",
       "      <td>1</td>\n",
       "      <td>1</td>\n",
       "      <td>0</td>\n",
       "      <td>0</td>\n",
       "      <td>1</td>\n",
       "      <td>0</td>\n",
       "    </tr>\n",
       "    <tr>\n",
       "      <th>2</th>\n",
       "      <td>2</td>\n",
       "      <td>Mn</td>\n",
       "      <td>Tn</td>\n",
       "      <td>Tn</td>\n",
       "      <td>Tn</td>\n",
       "      <td>Tn</td>\n",
       "      <td>Tn</td>\n",
       "      <td>Mn</td>\n",
       "      <td>2016</td>\n",
       "      <td>1</td>\n",
       "      <td>2016091108</td>\n",
       "      <td>16.0</td>\n",
       "      <td>25.0</td>\n",
       "      <td>0</td>\n",
       "      <td>1</td>\n",
       "      <td>1</td>\n",
       "      <td>0</td>\n",
       "      <td>0</td>\n",
       "      <td>0</td>\n",
       "      <td>0</td>\n",
       "    </tr>\n",
       "    <tr>\n",
       "      <th>3</th>\n",
       "      <td>3</td>\n",
       "      <td>Cl</td>\n",
       "      <td>Ph</td>\n",
       "      <td>Ph</td>\n",
       "      <td>Ph</td>\n",
       "      <td>Ph</td>\n",
       "      <td>Ph</td>\n",
       "      <td>Ph</td>\n",
       "      <td>2016</td>\n",
       "      <td>1</td>\n",
       "      <td>2016091107</td>\n",
       "      <td>29.0</td>\n",
       "      <td>10.0</td>\n",
       "      <td>1</td>\n",
       "      <td>0</td>\n",
       "      <td>1</td>\n",
       "      <td>1</td>\n",
       "      <td>1</td>\n",
       "      <td>1</td>\n",
       "      <td>1</td>\n",
       "    </tr>\n",
       "    <tr>\n",
       "      <th>4</th>\n",
       "      <td>4</td>\n",
       "      <td>Cn</td>\n",
       "      <td>Cn</td>\n",
       "      <td>Cn</td>\n",
       "      <td>Cn</td>\n",
       "      <td>Jt</td>\n",
       "      <td>Cn</td>\n",
       "      <td>Cn</td>\n",
       "      <td>2016</td>\n",
       "      <td>1</td>\n",
       "      <td>2016091106</td>\n",
       "      <td>22.0</td>\n",
       "      <td>23.0</td>\n",
       "      <td>0</td>\n",
       "      <td>1</td>\n",
       "      <td>1</td>\n",
       "      <td>1</td>\n",
       "      <td>1</td>\n",
       "      <td>1</td>\n",
       "      <td>1</td>\n",
       "    </tr>\n",
       "  </tbody>\n",
       "</table>\n",
       "</div>"
      ],
      "text/plain": [
       "   index Away Team Emilio Gel Hector Home Team Sonny ganador season week  \\\n",
       "0      0        Ca     Ca  Dn     Ca        Dn    Ca      Dn   2016    1   \n",
       "1      1        Tb     At  Tb     At        At    At      Tb   2016    1   \n",
       "2      2        Mn     Tn  Tn     Tn        Tn    Tn      Mn   2016    1   \n",
       "3      3        Cl     Ph  Ph     Ph        Ph    Ph      Ph   2016    1   \n",
       "4      4        Cn     Cn  Cn     Cn        Jt    Cn      Cn   2016    1   \n",
       "\n",
       "      game_id  home_score  away_score  HomeWin  AwayWin  Game  \\\n",
       "0  2016090800        21.0        20.0        1        0     1   \n",
       "1  2016091100        24.0        31.0        0        1     1   \n",
       "2  2016091108        16.0        25.0        0        1     1   \n",
       "3  2016091107        29.0        10.0        1        0     1   \n",
       "4  2016091106        22.0        23.0        0        1     1   \n",
       "\n",
       "   CorrectPredEmilio  CorrectPredSonny  CorrectPredGel  CorrectPredHector  \n",
       "0                  0                 0               1                  0  \n",
       "1                  0                 0               1                  0  \n",
       "2                  0                 0               0                  0  \n",
       "3                  1                 1               1                  1  \n",
       "4                  1                 1               1                  1  "
      ]
     },
     "execution_count": 50,
     "metadata": {},
     "output_type": "execute_result"
    }
   ],
   "source": [
    "df.head()"
   ]
  },
  {
   "cell_type": "code",
   "execution_count": 51,
   "metadata": {},
   "outputs": [],
   "source": [
    "teams = list(set(list(df['Away Team'].unique()) + list(df['Home Team'].unique())))"
   ]
  },
  {
   "cell_type": "code",
   "execution_count": 52,
   "metadata": {},
   "outputs": [],
   "source": [
    "parms = ['Away Team', 'CorrectPredEmilio', 'CorrectPredSonny','CorrectPredGel', 'CorrectPredHector']"
   ]
  },
  {
   "cell_type": "code",
   "execution_count": 53,
   "metadata": {},
   "outputs": [],
   "source": [
    "players = ['Gel', 'Hector', 'Emilio', 'Sonny']"
   ]
  },
  {
   "cell_type": "code",
   "execution_count": 80,
   "metadata": {},
   "outputs": [
    {
     "name": "stdout",
     "output_type": "stream",
     "text": [
      "CorrectPredGel\n",
      "CorrectPredHector\n",
      "CorrectPredEmilio\n",
      "CorrectPredSonny\n"
     ]
    }
   ],
   "source": [
    "teamStats = []\n",
    "teamStatsHome = []\n",
    "teamStatsAway = []\n",
    "\n",
    "teamStatsOverall = []\n",
    "teamStatsHomeOverall = []\n",
    "teamStatsAwayOverall = []\n",
    "\n",
    "playerStats = []\n",
    "playerStatsHome = []\n",
    "playerStatsAway = []\n",
    "for p, i in zip(players, range(len(players))):\n",
    "    \n",
    "    colGood = 'CorrectPred'+str(p)\n",
    "    print(colGood)\n",
    "    \n",
    "    teamStats.append(np.zeros(len(teams)))\n",
    "    teamStatsHome.append(np.zeros(len(teams)))\n",
    "    teamStatsAway.append(np.zeros(len(teams)))\n",
    "    \n",
    "    playerStats.append(np.zeros(len(teams)))\n",
    "    playerStatsHome.append(np.zeros(len(teams)))\n",
    "    playerStatsAway.append(np.zeros(len(teams)))\n",
    "    \n",
    "    teamStatsOverall.append(np.zeros(len(teams)))\n",
    "    teamStatsHomeOverall.append(np.zeros(len(teams)))\n",
    "    teamStatsAwayOverall.append(np.zeros(len(teams)))\n",
    "    \n",
    "    for t, j in zip(teams, range(len(teams))):\n",
    "#         print(\"\\t \", t)\n",
    "        allCor = df.loc[(df[p] == t) & ((df['Away Team'] == t) | (df['Home Team'] == t))]\n",
    "        homeCor = df.loc[(df[p] == t) & (df['Home Team'] == t)]\n",
    "        awayCor = df.loc[(df[p] == t) & (df['Away Team'] == t)]\n",
    "        \n",
    "        teamStats[i][j] = allCor[colGood].sum()\n",
    "        teamStatsHome[i][j] = homeCor[colGood].sum()\n",
    "        teamStatsAway[i][j] = awayCor[colGood].sum()\n",
    "        \n",
    "        allP = df.loc[(df[p] == t) & ((df['Away Team'] == t) | (df['Home Team'] == t))]\n",
    "        homeP = df.loc[(df[p] == t) & (df['Home Team'] == t)]\n",
    "        awayP = df.loc[(df[p] == t) & (df['Away Team'] == t)]\n",
    "        \n",
    "        playerStats[i][j] = allP[p].count()\n",
    "        playerStatsHome[i][j] = homeP[p].count()\n",
    "        playerStatsAway[i][j] = awayP[p].count()\n",
    "        \n",
    "        allO = df.loc[(df['Away Team'] == t) | (df['Home Team'] == t)]\n",
    "        homeO = df.loc[(df['Home Team'] == t)]\n",
    "        awayO = df.loc[(df['Away Team'] == t)]\n",
    "        \n",
    "        teamStatsOverall[i][j] = allO[colGood].sum()\n",
    "        teamStatsHomeOverall[i][j] = homeO[colGood].sum()\n",
    "        teamStatsAwayOverall[i][j] = awayO[colGood].sum()\n",
    "        "
   ]
  },
  {
   "cell_type": "code",
   "execution_count": 81,
   "metadata": {},
   "outputs": [],
   "source": [
    "teamStats = pd.DataFrame(np.transpose(teamStats), columns= ['GelCorrect', 'HectorCorrect', 'EmilioCorrect', 'SonnyCorrect'])\n",
    "teamStats['Teams'] = teams\n",
    "\n",
    "teamStatsHome = pd.DataFrame(np.transpose(teamStatsHome), columns= ['GelCorrectHome', 'HectorCorrectHome', 'EmilioCorrectHome', 'SonnyCorrectHome'])\n",
    "teamStatsHome['Teams'] = teams\n",
    "\n",
    "teamStatsAway = pd.DataFrame(np.transpose(teamStatsAway), columns= ['GelCorrectAway', 'HectorCorrectAway', 'EmilioCorrectAway', 'SonnyCorrectAway'])\n",
    "teamStatsAway['Teams'] = teams\n",
    "\n",
    "playerStats = pd.DataFrame(np.transpose(playerStats), columns= ['GelNoPick', 'HectorNoPick', 'EmilioNoPick', 'SonnyNoPick'])\n",
    "playerStats['Teams'] = teams\n",
    "\n",
    "playerStatsHome = pd.DataFrame(np.transpose(playerStatsHome), columns= ['GelNoPickHome', 'HectorNoPickHome', 'EmilioNoPickHome', 'SonnyNoPickHome'])\n",
    "playerStatsHome['Teams'] = teams\n",
    "\n",
    "playerStatsAway = pd.DataFrame(np.transpose(playerStatsAway), columns= ['GelNoPickAway', 'HectorNoPickAway', 'EmilioNoPickAway', 'SonnyNoPickAway'])\n",
    "playerStatsAway['Teams'] = teams\n",
    "\n",
    "teamStatsOverall = pd.DataFrame(np.transpose(teamStatsOverall), columns= ['GelTotalCorrect', 'HectorTotalCorrect', 'EmilioTotalCorrect', 'SonnyTotalCorrect'])\n",
    "teamStatsOverall['Teams'] = teams\n",
    "\n",
    "teamStatsHomeOverall = pd.DataFrame(np.transpose(teamStatsHomeOverall), columns= ['GelTotalCorrectHome', 'HectorTotalCorrectHome', 'EmilioTotalCorrectHome', 'SonnyTotalCorrectHome'])\n",
    "teamStatsHomeOverall['Teams'] = teams\n",
    "\n",
    "teamStatsAwayOverall = pd.DataFrame(np.transpose(teamStatsAwayOverall), columns= ['GelTotalCorrectAway', 'HectorTotalCorrectAway', 'EmilioTotalCorrectAway', 'SonnyTotalCorrectAway'])\n",
    "teamStatsAwayOverall['Teams'] = teams"
   ]
  },
  {
   "cell_type": "code",
   "execution_count": 82,
   "metadata": {},
   "outputs": [],
   "source": [
    "statsTeams = teamStats.merge(teamStatsHome, how='left', on='Teams')\n",
    "statsTeams = statsTeams.merge(teamStatsAway, how='left', on='Teams')\n",
    "\n",
    "statsTeams = statsTeams.merge(playerStats, how='left', on='Teams')\n",
    "statsTeams = statsTeams.merge(playerStatsHome, how='left', on='Teams')\n",
    "statsTeams = statsTeams.merge(playerStatsAway, how='left', on='Teams')\n",
    "\n",
    "statsTeams = statsTeams.merge(teamStatsOverall, how='left', on='Teams')\n",
    "statsTeams = statsTeams.merge(teamStatsHomeOverall, how='left', on='Teams')\n",
    "statsTeams = statsTeams.merge(teamStatsAwayOverall, how='left', on='Teams')"
   ]
  },
  {
   "cell_type": "code",
   "execution_count": 83,
   "metadata": {},
   "outputs": [
    {
     "data": {
      "text/plain": [
       "Index(['GelCorrect', 'HectorCorrect', 'EmilioCorrect', 'SonnyCorrect', 'Teams',\n",
       "       'GelCorrectHome', 'HectorCorrectHome', 'EmilioCorrectHome',\n",
       "       'SonnyCorrectHome', 'GelCorrectAway', 'HectorCorrectAway',\n",
       "       'EmilioCorrectAway', 'SonnyCorrectAway', 'GelNoPick', 'HectorNoPick',\n",
       "       'EmilioNoPick', 'SonnyNoPick', 'GelNoPickHome', 'HectorNoPickHome',\n",
       "       'EmilioNoPickHome', 'SonnyNoPickHome', 'GelNoPickAway',\n",
       "       'HectorNoPickAway', 'EmilioNoPickAway', 'SonnyNoPickAway',\n",
       "       'GelTotalCorrect', 'HectorTotalCorrect', 'EmilioTotalCorrect',\n",
       "       'SonnyTotalCorrect', 'GelTotalCorrectHome', 'HectorTotalCorrectHome',\n",
       "       'EmilioTotalCorrectHome', 'SonnyTotalCorrectHome',\n",
       "       'GelTotalCorrectAway', 'HectorTotalCorrectAway',\n",
       "       'EmilioTotalCorrectAway', 'SonnyTotalCorrectAway'],\n",
       "      dtype='object')"
      ]
     },
     "execution_count": 83,
     "metadata": {},
     "output_type": "execute_result"
    }
   ],
   "source": [
    "statsTeams.columns"
   ]
  },
  {
   "cell_type": "code",
   "execution_count": 87,
   "metadata": {},
   "outputs": [],
   "source": [
    "parms = ['Teams',\n",
    "        'GelTotalCorrect', 'HectorTotalCorrect', 'EmilioTotalCorrect','SonnyTotalCorrect', \n",
    "        'GelTotalCorrectHome', 'HectorTotalCorrectHome', 'EmilioTotalCorrectHome', 'SonnyTotalCorrectHome',\n",
    "        'GelTotalCorrectAway', 'HectorTotalCorrectAway', 'EmilioTotalCorrectAway', 'SonnyTotalCorrectAway',\n",
    "        'GelCorrect', 'HectorCorrect', 'EmilioCorrect', 'SonnyCorrect',\n",
    "        'GelCorrectHome', 'HectorCorrectHome', 'EmilioCorrectHome','SonnyCorrectHome', \n",
    "        'GelCorrectAway', 'HectorCorrectAway', 'EmilioCorrectAway', 'SonnyCorrectAway', \n",
    "        'GelNoPick', 'HectorNoPick', 'EmilioNoPick', 'SonnyNoPick', \n",
    "        'GelNoPickHome', 'HectorNoPickHome', 'EmilioNoPickHome', 'SonnyNoPickHome', \n",
    "        'GelNoPickAway','HectorNoPickAway', 'EmilioNoPickAway', 'SonnyNoPickAway']"
   ]
  },
  {
   "cell_type": "code",
   "execution_count": 88,
   "metadata": {},
   "outputs": [],
   "source": [
    "statsTeams = statsTeams[parms]"
   ]
  },
  {
   "cell_type": "code",
   "execution_count": 89,
   "metadata": {},
   "outputs": [],
   "source": [
    "statsTeams.to_csv(path + '/TeamStatsAndPicks.csv')"
   ]
  },
  {
   "cell_type": "markdown",
   "metadata": {},
   "source": [
    "## What is the most important parameter in the Number of Points that theyre going to score?"
   ]
  },
  {
   "cell_type": "code",
   "execution_count": 62,
   "metadata": {},
   "outputs": [
    {
     "ename": "NameError",
     "evalue": "name 'xxx' is not defined",
     "output_type": "error",
     "traceback": [
      "\u001b[0;31m---------------------------------------------------------------------------\u001b[0m",
      "\u001b[0;31mNameError\u001b[0m                                 Traceback (most recent call last)",
      "\u001b[0;32m<ipython-input-62-38170c08cb45>\u001b[0m in \u001b[0;36m<module>\u001b[0;34m()\u001b[0m\n\u001b[0;32m----> 1\u001b[0;31m \u001b[0mxxx\u001b[0m\u001b[0;34m\u001b[0m\u001b[0m\n\u001b[0m",
      "\u001b[0;31mNameError\u001b[0m: name 'xxx' is not defined"
     ]
    }
   ],
   "source": [
    "xxx"
   ]
  },
  {
   "cell_type": "code",
   "execution_count": null,
   "metadata": {},
   "outputs": [],
   "source": [
    "len(df)"
   ]
  },
  {
   "cell_type": "code",
   "execution_count": null,
   "metadata": {},
   "outputs": [],
   "source": [
    "df.columns"
   ]
  },
  {
   "cell_type": "code",
   "execution_count": null,
   "metadata": {},
   "outputs": [],
   "source": [
    "def getLastScore(team, week, season):\n",
    "    print(team, week, season)\n",
    "    temp  = df.loc[(df['week'] == week-1) & (df['season'] == season)  & ((df['Away Team'] == team) | (df['Home Team'] == team))]\n",
    "    print(temp)\n",
    "    if temp.empty:\n",
    "        temp  = df.loc[(df['week'] == week-2) & (df['season'] == season)  & ((df['Away Team'] == team) | (df['Home Team'] == team))]\n",
    "    \n",
    "    if temp['Away Team'].values[0] == team:\n",
    "        return temp['home_score'].values[0], temp['away_score'].values[0], temp['AwayWin'].values[0]\n",
    "    else:\n",
    "        return temp['home_score'].values[0], temp['away_score'].values[0], temp['AwayWin'].values[0]   "
   ]
  },
  {
   "cell_type": "code",
   "execution_count": null,
   "metadata": {},
   "outputs": [],
   "source": [
    "scoreFHomeLag = []\n",
    "scoreAHomeLag = []\n",
    "scoreFAwayLag = []\n",
    "scoreAAwayLag = []\n",
    "wonAwayLag = []\n",
    "wonHomeLag = []\n",
    "\n",
    "for idx, row in df.iterrows():\n",
    "    if (row.week == 1) | (row.week == 18):\n",
    "        \n",
    "        scoreFHomeLag.append(np.nan)\n",
    "        scoreAHomeLag.append(np.nan)\n",
    "        wonHomeLag.append(np.nan)\n",
    "        scoreFAwayLag.append(np.nan)\n",
    "        scoreAAwayLag.append(np.nan)\n",
    "        wonAwayLag.append(np.nan)\n",
    "        \n",
    "        continue\n",
    "    else: \n",
    "        ptAgainst, ptFor, won = getLastScore(row['Home Team'], row['week'], row['season'])\n",
    "\n",
    "        scoreFHomeLag.append(ptFor)\n",
    "        scoreAHomeLag.append(ptAgainst)\n",
    "        wonHomeLag.append(won)\n",
    "\n",
    "        ptAgainst, ptFor, won = getLastScore(row['Away Team'], row['week'], row['season'])\n",
    "\n",
    "        scoreFAwayLag.append(ptFor)\n",
    "        scoreAAwayLag.append(ptAgainst)\n",
    "        wonAwayLag.append(won)"
   ]
  },
  {
   "cell_type": "code",
   "execution_count": null,
   "metadata": {},
   "outputs": [],
   "source": [
    "df['HomeScoreForLag'] = scoreFHomeLag\n",
    "df['HomeScoreAgainstLag'] = scoreAHomeLag\n",
    "df['AwayScoreForLag'] = scoreFAwayLag\n",
    "df['AwayScoreAgainstLag'] = scoreAAwayLag\n",
    "df['HomeWinLag'] = wonHomeLag\n",
    "df['AwayWinLag'] = wonAwayLag\n"
   ]
  },
  {
   "cell_type": "code",
   "execution_count": null,
   "metadata": {},
   "outputs": [],
   "source": [
    "df.columns"
   ]
  },
  {
   "cell_type": "code",
   "execution_count": null,
   "metadata": {},
   "outputs": [],
   "source": [
    "df[['index', 'Away Team','Home Team','week', \n",
    "       'ganador','home_score', 'away_score',\n",
    "       'HomeWin', 'AwayWin', 'HomeScoreForLag',\n",
    "       'HomeScoreAgainstLag', 'HomeWinLag', 'AwayWinLag', 'AwayScoreForLag',\n",
    "       'AwayScoreAgainstLag']].loc[(df['week'] != 1) & (df['week'] != 18) \n",
    "                                   & ~(df['AwayScoreForLag'].isnull()) & ~(df['home_score'].isnull())].to_csv('howtowin.csv')"
   ]
  },
  {
   "cell_type": "code",
   "execution_count": null,
   "metadata": {},
   "outputs": [],
   "source": [
    "df.head(100)"
   ]
  },
  {
   "cell_type": "markdown",
   "metadata": {},
   "source": [
    "## NP - Chart"
   ]
  },
  {
   "cell_type": "code",
   "execution_count": null,
   "metadata": {},
   "outputs": [],
   "source": [
    "npDataOld = perWeek[['season', 'week', 'Game', 'CorrectPredEmilio']].loc[perWeek['season']<2019]"
   ]
  },
  {
   "cell_type": "code",
   "execution_count": null,
   "metadata": {},
   "outputs": [],
   "source": [
    "npDataOld.head()"
   ]
  },
  {
   "cell_type": "code",
   "execution_count": null,
   "metadata": {
    "scrolled": true
   },
   "outputs": [],
   "source": [
    "npDataOld.Game.describe()"
   ]
  },
  {
   "cell_type": "code",
   "execution_count": null,
   "metadata": {},
   "outputs": [],
   "source": [
    "npDataNew = perWeek[['season', 'week', 'Game', 'CorrectPredEmilio']].loc[perWeek['season']>=2019]"
   ]
  },
  {
   "cell_type": "code",
   "execution_count": null,
   "metadata": {},
   "outputs": [],
   "source": [
    "npDataNew.head()"
   ]
  },
  {
   "cell_type": "code",
   "execution_count": null,
   "metadata": {},
   "outputs": [],
   "source": [
    "p0 = np.mean(npDataOld.CorrectPredEmilio/npDataOld.Game)"
   ]
  },
  {
   "cell_type": "code",
   "execution_count": null,
   "metadata": {},
   "outputs": [],
   "source": [
    "print(p0)"
   ]
  },
  {
   "cell_type": "code",
   "execution_count": null,
   "metadata": {},
   "outputs": [],
   "source": [
    "centralLine = 15*p0"
   ]
  },
  {
   "cell_type": "code",
   "execution_count": null,
   "metadata": {},
   "outputs": [],
   "source": [
    "npDataOld['UCL'] = centralLine+np.sqrt(centralLine*(1-p0))"
   ]
  },
  {
   "cell_type": "code",
   "execution_count": null,
   "metadata": {},
   "outputs": [],
   "source": [
    "npDataOld['LCL'] = centralLine-np.sqrt(centralLine*(1-p0))"
   ]
  },
  {
   "cell_type": "code",
   "execution_count": null,
   "metadata": {},
   "outputs": [],
   "source": [
    "npDataNew['UCL']  = centralLine+np.sqrt(centralLine*(1-p0))"
   ]
  },
  {
   "cell_type": "code",
   "execution_count": null,
   "metadata": {},
   "outputs": [],
   "source": [
    "npDataNew['LCL'] = centralLine-np.sqrt(centralLine*(1-p0))"
   ]
  },
  {
   "cell_type": "code",
   "execution_count": null,
   "metadata": {},
   "outputs": [],
   "source": [
    "plt.figure(figsize=(10,10))\n",
    "oldN = len(npDataOld)\n",
    "newN = len(npDataNew)-4\n",
    "plt.plot(np.arange(oldN), npDataOld['UCL'], color ='red')\n",
    "plt.plot(np.arange(oldN), npDataOld['LCL'], color ='red')\n",
    "plt.plot(np.arange(newN)+oldN, npDataNew['UCL'].values[:newN], color ='red')\n",
    "plt.plot(np.arange(newN)+oldN, npDataNew['LCL'].values[:newN], color ='red')\n",
    "\n",
    "plt.plot(np.arange(oldN), npDataOld['CorrectPredEmilio'], color ='blue', marker='x', markersize=6, label='Previous Years')\n",
    "plt.plot(np.arange(newN)+oldN, npDataNew['CorrectPredEmilio'].values[:newN], color ='green', marker='*', markersize=6, label='2019 Season')\n",
    "\n",
    "plt.title('NP Chart of Correct Predictions Over Time')\n",
    "plt.ylabel('Number of Correct Predictions')\n",
    "plt.legend()\n"
   ]
  },
  {
   "cell_type": "code",
   "execution_count": null,
   "metadata": {},
   "outputs": [],
   "source": []
  },
  {
   "cell_type": "code",
   "execution_count": null,
   "metadata": {},
   "outputs": [],
   "source": [
    "perWeek.head()"
   ]
  },
  {
   "cell_type": "markdown",
   "metadata": {},
   "source": [
    "## Calculate SQL"
   ]
  },
  {
   "cell_type": "code",
   "execution_count": null,
   "metadata": {},
   "outputs": [],
   "source": [
    "perWeek.groupby(['season']).sum()"
   ]
  },
  {
   "cell_type": "code",
   "execution_count": null,
   "metadata": {},
   "outputs": [],
   "source": [
    "perWeek.loc[(perWeek['season']==2019)& (perWeek['week']<14)].sum()"
   ]
  },
  {
   "cell_type": "markdown",
   "metadata": {},
   "source": [
    "#### For 2018"
   ]
  },
  {
   "cell_type": "code",
   "execution_count": null,
   "metadata": {},
   "outputs": [],
   "source": [
    "numberOfGames = 267\n",
    "numberCorrect = 140\n",
    "\n",
    "d = 15\n",
    "u = 18\n",
    "du = d*u\n",
    "a = numberOfGames - numberCorrect\n",
    "dpo = a/du\n",
    "dpmo = dpo*1000000\n",
    "print(du)\n",
    "print(a)\n",
    "print(dpo)\n",
    "print(dpmo)"
   ]
  },
  {
   "cell_type": "markdown",
   "metadata": {},
   "source": [
    "##### SQL ~= 1.55"
   ]
  },
  {
   "cell_type": "markdown",
   "metadata": {},
   "source": [
    "#### For 2019"
   ]
  },
  {
   "cell_type": "code",
   "execution_count": null,
   "metadata": {},
   "outputs": [],
   "source": [
    "numberOfGames = 192\n",
    "numberCorrect = 114\n",
    "\n",
    "d = 15\n",
    "u = 13\n",
    "du = d*u\n",
    "a = numberOfGames - numberCorrect\n",
    "dpo = a/du\n",
    "dpmo = dpo*1000000\n",
    "print(du)\n",
    "print(a)\n",
    "print(dpo)\n",
    "print(dpmo)"
   ]
  },
  {
   "cell_type": "markdown",
   "metadata": {},
   "source": [
    "##### SQL ~= 1.75"
   ]
  },
  {
   "cell_type": "markdown",
   "metadata": {},
   "source": [
    "## Max"
   ]
  },
  {
   "cell_type": "code",
   "execution_count": null,
   "metadata": {},
   "outputs": [],
   "source": [
    "perWeek.columns"
   ]
  },
  {
   "cell_type": "code",
   "execution_count": null,
   "metadata": {},
   "outputs": [],
   "source": [
    "perWeek[['CorrectPredSonny', 'CorrectPredEmilio', 'CorrectPredGel', 'CorrectPredHector']].max()"
   ]
  },
  {
   "cell_type": "code",
   "execution_count": null,
   "metadata": {},
   "outputs": [],
   "source": [
    "perWeek.loc[perWeek['CorrectPredSonny'] == 15]"
   ]
  },
  {
   "cell_type": "code",
   "execution_count": null,
   "metadata": {},
   "outputs": [],
   "source": [
    "perWeek.loc[perWeek['CorrectPredEmilio'] == 14]"
   ]
  },
  {
   "cell_type": "code",
   "execution_count": null,
   "metadata": {},
   "outputs": [],
   "source": [
    "perWeek.loc[perWeek['CorrectPredGel'] == 15]"
   ]
  },
  {
   "cell_type": "code",
   "execution_count": null,
   "metadata": {},
   "outputs": [],
   "source": [
    "perWeek.loc[perWeek['CorrectPredHector'] == 15]"
   ]
  },
  {
   "cell_type": "code",
   "execution_count": null,
   "metadata": {},
   "outputs": [],
   "source": []
  }
 ],
 "metadata": {
  "kernelspec": {
   "display_name": "Python 3",
   "language": "python",
   "name": "python3"
  },
  "language_info": {
   "codemirror_mode": {
    "name": "ipython",
    "version": 3
   },
   "file_extension": ".py",
   "mimetype": "text/x-python",
   "name": "python",
   "nbconvert_exporter": "python",
   "pygments_lexer": "ipython3",
   "version": "3.7.4"
  }
 },
 "nbformat": 4,
 "nbformat_minor": 4
}
