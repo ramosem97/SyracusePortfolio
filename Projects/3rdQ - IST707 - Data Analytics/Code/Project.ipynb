{
 "cells": [
  {
   "cell_type": "markdown",
   "metadata": {},
   "source": [
    "## Imports"
   ]
  },
  {
   "cell_type": "code",
   "execution_count": 74,
   "metadata": {},
   "outputs": [],
   "source": [
    "import pandas as pd\n",
    "import numpy as np\n",
    "import matplotlib.pyplot as plt\n",
    "import graphviz \n",
    "from sklearn.svm import SVC\n",
    "from sklearn.neighbors import KNeighborsClassifier\n",
    "from sklearn.model_selection import GridSearchCV\n",
    "from sklearn.preprocessing import StandardScaler\n",
    "from sklearn.pipeline import make_pipeline\n",
    "from sklearn.ensemble import RandomForestClassifier\n",
    "from sklearn import tree\n",
    "from sklearn import preprocessing\n",
    "from sklearn.tree import DecisionTreeClassifier"
   ]
  },
  {
   "cell_type": "markdown",
   "metadata": {},
   "source": [
    "## Path"
   ]
  },
  {
   "cell_type": "code",
   "execution_count": 2,
   "metadata": {},
   "outputs": [
    {
     "data": {
      "text/plain": [
       "'/Users/ramosem/Documents/SyracuseUniversity/3rd_Quarter/IST707/Project'"
      ]
     },
     "execution_count": 2,
     "metadata": {},
     "output_type": "execute_result"
    }
   ],
   "source": [
    "pwd"
   ]
  },
  {
   "cell_type": "code",
   "execution_count": 3,
   "metadata": {},
   "outputs": [],
   "source": [
    "path = '/Users/ramosem/Documents/SyracuseUniversity/3rd_Quarter/IST707/Project/'"
   ]
  },
  {
   "cell_type": "markdown",
   "metadata": {},
   "source": [
    "## Read Data"
   ]
  },
  {
   "cell_type": "code",
   "execution_count": 4,
   "metadata": {},
   "outputs": [],
   "source": [
    "df = pd.read_csv(path + 'kaggle_Interests_group.csv')"
   ]
  },
  {
   "cell_type": "code",
   "execution_count": 5,
   "metadata": {
    "scrolled": true
   },
   "outputs": [
    {
     "data": {
      "text/html": [
       "<div>\n",
       "<style scoped>\n",
       "    .dataframe tbody tr th:only-of-type {\n",
       "        vertical-align: middle;\n",
       "    }\n",
       "\n",
       "    .dataframe tbody tr th {\n",
       "        vertical-align: top;\n",
       "    }\n",
       "\n",
       "    .dataframe thead th {\n",
       "        text-align: right;\n",
       "    }\n",
       "</style>\n",
       "<table border=\"1\" class=\"dataframe\">\n",
       "  <thead>\n",
       "    <tr style=\"text-align: right;\">\n",
       "      <th></th>\n",
       "      <th>group</th>\n",
       "      <th>grand_tot_interests</th>\n",
       "      <th>interest1</th>\n",
       "      <th>interest2</th>\n",
       "      <th>interest3</th>\n",
       "      <th>interest4</th>\n",
       "      <th>interest5</th>\n",
       "      <th>interest6</th>\n",
       "      <th>interest7</th>\n",
       "      <th>interest8</th>\n",
       "      <th>...</th>\n",
       "      <th>interest208</th>\n",
       "      <th>interest209</th>\n",
       "      <th>interest210</th>\n",
       "      <th>interest211</th>\n",
       "      <th>interest212</th>\n",
       "      <th>interest213</th>\n",
       "      <th>interest214</th>\n",
       "      <th>interest215</th>\n",
       "      <th>interest216</th>\n",
       "      <th>interest217</th>\n",
       "    </tr>\n",
       "  </thead>\n",
       "  <tbody>\n",
       "    <tr>\n",
       "      <th>0</th>\n",
       "      <td>C</td>\n",
       "      <td>17</td>\n",
       "      <td>NaN</td>\n",
       "      <td>NaN</td>\n",
       "      <td>NaN</td>\n",
       "      <td>NaN</td>\n",
       "      <td>NaN</td>\n",
       "      <td>NaN</td>\n",
       "      <td>NaN</td>\n",
       "      <td>NaN</td>\n",
       "      <td>...</td>\n",
       "      <td>NaN</td>\n",
       "      <td>NaN</td>\n",
       "      <td>NaN</td>\n",
       "      <td>NaN</td>\n",
       "      <td>NaN</td>\n",
       "      <td>NaN</td>\n",
       "      <td>NaN</td>\n",
       "      <td>NaN</td>\n",
       "      <td>NaN</td>\n",
       "      <td>NaN</td>\n",
       "    </tr>\n",
       "    <tr>\n",
       "      <th>1</th>\n",
       "      <td>C</td>\n",
       "      <td>43</td>\n",
       "      <td>1.0</td>\n",
       "      <td>NaN</td>\n",
       "      <td>NaN</td>\n",
       "      <td>NaN</td>\n",
       "      <td>1.0</td>\n",
       "      <td>NaN</td>\n",
       "      <td>NaN</td>\n",
       "      <td>NaN</td>\n",
       "      <td>...</td>\n",
       "      <td>NaN</td>\n",
       "      <td>NaN</td>\n",
       "      <td>1.0</td>\n",
       "      <td>NaN</td>\n",
       "      <td>NaN</td>\n",
       "      <td>NaN</td>\n",
       "      <td>NaN</td>\n",
       "      <td>1.0</td>\n",
       "      <td>1.0</td>\n",
       "      <td>NaN</td>\n",
       "    </tr>\n",
       "    <tr>\n",
       "      <th>2</th>\n",
       "      <td>C</td>\n",
       "      <td>27</td>\n",
       "      <td>NaN</td>\n",
       "      <td>NaN</td>\n",
       "      <td>NaN</td>\n",
       "      <td>NaN</td>\n",
       "      <td>NaN</td>\n",
       "      <td>NaN</td>\n",
       "      <td>NaN</td>\n",
       "      <td>NaN</td>\n",
       "      <td>...</td>\n",
       "      <td>NaN</td>\n",
       "      <td>NaN</td>\n",
       "      <td>1.0</td>\n",
       "      <td>NaN</td>\n",
       "      <td>NaN</td>\n",
       "      <td>NaN</td>\n",
       "      <td>NaN</td>\n",
       "      <td>1.0</td>\n",
       "      <td>1.0</td>\n",
       "      <td>NaN</td>\n",
       "    </tr>\n",
       "    <tr>\n",
       "      <th>3</th>\n",
       "      <td>C</td>\n",
       "      <td>34</td>\n",
       "      <td>NaN</td>\n",
       "      <td>NaN</td>\n",
       "      <td>NaN</td>\n",
       "      <td>NaN</td>\n",
       "      <td>NaN</td>\n",
       "      <td>NaN</td>\n",
       "      <td>NaN</td>\n",
       "      <td>NaN</td>\n",
       "      <td>...</td>\n",
       "      <td>NaN</td>\n",
       "      <td>NaN</td>\n",
       "      <td>NaN</td>\n",
       "      <td>1.0</td>\n",
       "      <td>NaN</td>\n",
       "      <td>NaN</td>\n",
       "      <td>NaN</td>\n",
       "      <td>1.0</td>\n",
       "      <td>1.0</td>\n",
       "      <td>NaN</td>\n",
       "    </tr>\n",
       "    <tr>\n",
       "      <th>4</th>\n",
       "      <td>C</td>\n",
       "      <td>36</td>\n",
       "      <td>NaN</td>\n",
       "      <td>NaN</td>\n",
       "      <td>NaN</td>\n",
       "      <td>NaN</td>\n",
       "      <td>1.0</td>\n",
       "      <td>NaN</td>\n",
       "      <td>NaN</td>\n",
       "      <td>NaN</td>\n",
       "      <td>...</td>\n",
       "      <td>NaN</td>\n",
       "      <td>NaN</td>\n",
       "      <td>1.0</td>\n",
       "      <td>NaN</td>\n",
       "      <td>NaN</td>\n",
       "      <td>NaN</td>\n",
       "      <td>NaN</td>\n",
       "      <td>1.0</td>\n",
       "      <td>1.0</td>\n",
       "      <td>NaN</td>\n",
       "    </tr>\n",
       "  </tbody>\n",
       "</table>\n",
       "<p>5 rows × 219 columns</p>\n",
       "</div>"
      ],
      "text/plain": [
       "  group  grand_tot_interests  interest1  interest2  interest3  interest4  \\\n",
       "0     C                   17        NaN        NaN        NaN        NaN   \n",
       "1     C                   43        1.0        NaN        NaN        NaN   \n",
       "2     C                   27        NaN        NaN        NaN        NaN   \n",
       "3     C                   34        NaN        NaN        NaN        NaN   \n",
       "4     C                   36        NaN        NaN        NaN        NaN   \n",
       "\n",
       "   interest5  interest6  interest7  interest8  ...  interest208  interest209  \\\n",
       "0        NaN        NaN        NaN        NaN  ...          NaN          NaN   \n",
       "1        1.0        NaN        NaN        NaN  ...          NaN          NaN   \n",
       "2        NaN        NaN        NaN        NaN  ...          NaN          NaN   \n",
       "3        NaN        NaN        NaN        NaN  ...          NaN          NaN   \n",
       "4        1.0        NaN        NaN        NaN  ...          NaN          NaN   \n",
       "\n",
       "   interest210  interest211  interest212  interest213  interest214  \\\n",
       "0          NaN          NaN          NaN          NaN          NaN   \n",
       "1          1.0          NaN          NaN          NaN          NaN   \n",
       "2          1.0          NaN          NaN          NaN          NaN   \n",
       "3          NaN          1.0          NaN          NaN          NaN   \n",
       "4          1.0          NaN          NaN          NaN          NaN   \n",
       "\n",
       "   interest215  interest216  interest217  \n",
       "0          NaN          NaN          NaN  \n",
       "1          1.0          1.0          NaN  \n",
       "2          1.0          1.0          NaN  \n",
       "3          1.0          1.0          NaN  \n",
       "4          1.0          1.0          NaN  \n",
       "\n",
       "[5 rows x 219 columns]"
      ]
     },
     "execution_count": 5,
     "metadata": {},
     "output_type": "execute_result"
    }
   ],
   "source": [
    "df.head()"
   ]
  },
  {
   "cell_type": "code",
   "execution_count": 154,
   "metadata": {},
   "outputs": [
    {
     "data": {
      "text/plain": [
       "224"
      ]
     },
     "execution_count": 154,
     "metadata": {},
     "output_type": "execute_result"
    }
   ],
   "source": [
    "len(df.columns)"
   ]
  },
  {
   "cell_type": "code",
   "execution_count": 6,
   "metadata": {
    "scrolled": true
   },
   "outputs": [
    {
     "data": {
      "text/plain": [
       "6340"
      ]
     },
     "execution_count": 6,
     "metadata": {},
     "output_type": "execute_result"
    }
   ],
   "source": [
    "len(df)"
   ]
  },
  {
   "cell_type": "markdown",
   "metadata": {},
   "source": [
    "# Preprocessing"
   ]
  },
  {
   "cell_type": "code",
   "execution_count": 7,
   "metadata": {},
   "outputs": [],
   "source": [
    "cat = df['group'].value_counts().reset_index(drop=False)"
   ]
  },
  {
   "cell_type": "code",
   "execution_count": 8,
   "metadata": {},
   "outputs": [],
   "source": [
    "cat.columns= ['group', 'count']"
   ]
  },
  {
   "cell_type": "code",
   "execution_count": 9,
   "metadata": {
    "scrolled": true
   },
   "outputs": [],
   "source": [
    "cat['GroupPerc'] = cat['count']/cat['count'].sum()"
   ]
  },
  {
   "cell_type": "code",
   "execution_count": 10,
   "metadata": {},
   "outputs": [
    {
     "data": {
      "text/html": [
       "<div>\n",
       "<style scoped>\n",
       "    .dataframe tbody tr th:only-of-type {\n",
       "        vertical-align: middle;\n",
       "    }\n",
       "\n",
       "    .dataframe tbody tr th {\n",
       "        vertical-align: top;\n",
       "    }\n",
       "\n",
       "    .dataframe thead th {\n",
       "        text-align: right;\n",
       "    }\n",
       "</style>\n",
       "<table border=\"1\" class=\"dataframe\">\n",
       "  <thead>\n",
       "    <tr style=\"text-align: right;\">\n",
       "      <th></th>\n",
       "      <th>group</th>\n",
       "      <th>count</th>\n",
       "      <th>GroupPerc</th>\n",
       "    </tr>\n",
       "  </thead>\n",
       "  <tbody>\n",
       "    <tr>\n",
       "      <th>0</th>\n",
       "      <td>I</td>\n",
       "      <td>1809</td>\n",
       "      <td>0.285331</td>\n",
       "    </tr>\n",
       "    <tr>\n",
       "      <th>1</th>\n",
       "      <td>P</td>\n",
       "      <td>1731</td>\n",
       "      <td>0.273028</td>\n",
       "    </tr>\n",
       "    <tr>\n",
       "      <th>2</th>\n",
       "      <td>C</td>\n",
       "      <td>1725</td>\n",
       "      <td>0.272082</td>\n",
       "    </tr>\n",
       "    <tr>\n",
       "      <th>3</th>\n",
       "      <td>R</td>\n",
       "      <td>1075</td>\n",
       "      <td>0.169558</td>\n",
       "    </tr>\n",
       "  </tbody>\n",
       "</table>\n",
       "</div>"
      ],
      "text/plain": [
       "  group  count  GroupPerc\n",
       "0     I   1809   0.285331\n",
       "1     P   1731   0.273028\n",
       "2     C   1725   0.272082\n",
       "3     R   1075   0.169558"
      ]
     },
     "execution_count": 10,
     "metadata": {},
     "output_type": "execute_result"
    }
   ],
   "source": [
    "cat"
   ]
  },
  {
   "cell_type": "code",
   "execution_count": 11,
   "metadata": {},
   "outputs": [
    {
     "data": {
      "text/html": [
       "<div>\n",
       "<style scoped>\n",
       "    .dataframe tbody tr th:only-of-type {\n",
       "        vertical-align: middle;\n",
       "    }\n",
       "\n",
       "    .dataframe tbody tr th {\n",
       "        vertical-align: top;\n",
       "    }\n",
       "\n",
       "    .dataframe thead th {\n",
       "        text-align: right;\n",
       "    }\n",
       "</style>\n",
       "<table border=\"1\" class=\"dataframe\">\n",
       "  <thead>\n",
       "    <tr style=\"text-align: right;\">\n",
       "      <th></th>\n",
       "      <th>grand_tot_interests</th>\n",
       "      <th>interest1</th>\n",
       "      <th>interest2</th>\n",
       "      <th>interest3</th>\n",
       "      <th>interest4</th>\n",
       "      <th>interest5</th>\n",
       "      <th>interest6</th>\n",
       "      <th>interest7</th>\n",
       "      <th>interest8</th>\n",
       "      <th>interest9</th>\n",
       "      <th>...</th>\n",
       "      <th>interest208</th>\n",
       "      <th>interest209</th>\n",
       "      <th>interest210</th>\n",
       "      <th>interest211</th>\n",
       "      <th>interest212</th>\n",
       "      <th>interest213</th>\n",
       "      <th>interest214</th>\n",
       "      <th>interest215</th>\n",
       "      <th>interest216</th>\n",
       "      <th>interest217</th>\n",
       "    </tr>\n",
       "  </thead>\n",
       "  <tbody>\n",
       "    <tr>\n",
       "      <th>count</th>\n",
       "      <td>6340.000000</td>\n",
       "      <td>993.0</td>\n",
       "      <td>1.0</td>\n",
       "      <td>35.0</td>\n",
       "      <td>25.0</td>\n",
       "      <td>798.000000</td>\n",
       "      <td>3394.000000</td>\n",
       "      <td>1.0</td>\n",
       "      <td>93.0</td>\n",
       "      <td>333.000000</td>\n",
       "      <td>...</td>\n",
       "      <td>118.000000</td>\n",
       "      <td>110.0</td>\n",
       "      <td>5037.000000</td>\n",
       "      <td>2474.000000</td>\n",
       "      <td>877.000000</td>\n",
       "      <td>2.0</td>\n",
       "      <td>72.0</td>\n",
       "      <td>4943.000000</td>\n",
       "      <td>4058.000000</td>\n",
       "      <td>147.0</td>\n",
       "    </tr>\n",
       "    <tr>\n",
       "      <th>mean</th>\n",
       "      <td>37.312303</td>\n",
       "      <td>1.0</td>\n",
       "      <td>1.0</td>\n",
       "      <td>1.0</td>\n",
       "      <td>1.0</td>\n",
       "      <td>1.001253</td>\n",
       "      <td>1.000589</td>\n",
       "      <td>1.0</td>\n",
       "      <td>1.0</td>\n",
       "      <td>1.003003</td>\n",
       "      <td>...</td>\n",
       "      <td>1.008475</td>\n",
       "      <td>1.0</td>\n",
       "      <td>1.000596</td>\n",
       "      <td>1.000808</td>\n",
       "      <td>1.002281</td>\n",
       "      <td>1.0</td>\n",
       "      <td>1.0</td>\n",
       "      <td>1.000202</td>\n",
       "      <td>1.000246</td>\n",
       "      <td>1.0</td>\n",
       "    </tr>\n",
       "    <tr>\n",
       "      <th>std</th>\n",
       "      <td>15.729872</td>\n",
       "      <td>0.0</td>\n",
       "      <td>NaN</td>\n",
       "      <td>0.0</td>\n",
       "      <td>0.0</td>\n",
       "      <td>0.035400</td>\n",
       "      <td>0.024271</td>\n",
       "      <td>NaN</td>\n",
       "      <td>0.0</td>\n",
       "      <td>0.054800</td>\n",
       "      <td>...</td>\n",
       "      <td>0.092057</td>\n",
       "      <td>0.0</td>\n",
       "      <td>0.024400</td>\n",
       "      <td>0.028427</td>\n",
       "      <td>0.047727</td>\n",
       "      <td>0.0</td>\n",
       "      <td>0.0</td>\n",
       "      <td>0.014223</td>\n",
       "      <td>0.015698</td>\n",
       "      <td>0.0</td>\n",
       "    </tr>\n",
       "    <tr>\n",
       "      <th>min</th>\n",
       "      <td>1.000000</td>\n",
       "      <td>1.0</td>\n",
       "      <td>1.0</td>\n",
       "      <td>1.0</td>\n",
       "      <td>1.0</td>\n",
       "      <td>1.000000</td>\n",
       "      <td>1.000000</td>\n",
       "      <td>1.0</td>\n",
       "      <td>1.0</td>\n",
       "      <td>1.000000</td>\n",
       "      <td>...</td>\n",
       "      <td>1.000000</td>\n",
       "      <td>1.0</td>\n",
       "      <td>1.000000</td>\n",
       "      <td>1.000000</td>\n",
       "      <td>1.000000</td>\n",
       "      <td>1.0</td>\n",
       "      <td>1.0</td>\n",
       "      <td>1.000000</td>\n",
       "      <td>1.000000</td>\n",
       "      <td>1.0</td>\n",
       "    </tr>\n",
       "    <tr>\n",
       "      <th>25%</th>\n",
       "      <td>28.000000</td>\n",
       "      <td>1.0</td>\n",
       "      <td>1.0</td>\n",
       "      <td>1.0</td>\n",
       "      <td>1.0</td>\n",
       "      <td>1.000000</td>\n",
       "      <td>1.000000</td>\n",
       "      <td>1.0</td>\n",
       "      <td>1.0</td>\n",
       "      <td>1.000000</td>\n",
       "      <td>...</td>\n",
       "      <td>1.000000</td>\n",
       "      <td>1.0</td>\n",
       "      <td>1.000000</td>\n",
       "      <td>1.000000</td>\n",
       "      <td>1.000000</td>\n",
       "      <td>1.0</td>\n",
       "      <td>1.0</td>\n",
       "      <td>1.000000</td>\n",
       "      <td>1.000000</td>\n",
       "      <td>1.0</td>\n",
       "    </tr>\n",
       "    <tr>\n",
       "      <th>50%</th>\n",
       "      <td>39.000000</td>\n",
       "      <td>1.0</td>\n",
       "      <td>1.0</td>\n",
       "      <td>1.0</td>\n",
       "      <td>1.0</td>\n",
       "      <td>1.000000</td>\n",
       "      <td>1.000000</td>\n",
       "      <td>1.0</td>\n",
       "      <td>1.0</td>\n",
       "      <td>1.000000</td>\n",
       "      <td>...</td>\n",
       "      <td>1.000000</td>\n",
       "      <td>1.0</td>\n",
       "      <td>1.000000</td>\n",
       "      <td>1.000000</td>\n",
       "      <td>1.000000</td>\n",
       "      <td>1.0</td>\n",
       "      <td>1.0</td>\n",
       "      <td>1.000000</td>\n",
       "      <td>1.000000</td>\n",
       "      <td>1.0</td>\n",
       "    </tr>\n",
       "    <tr>\n",
       "      <th>75%</th>\n",
       "      <td>48.000000</td>\n",
       "      <td>1.0</td>\n",
       "      <td>1.0</td>\n",
       "      <td>1.0</td>\n",
       "      <td>1.0</td>\n",
       "      <td>1.000000</td>\n",
       "      <td>1.000000</td>\n",
       "      <td>1.0</td>\n",
       "      <td>1.0</td>\n",
       "      <td>1.000000</td>\n",
       "      <td>...</td>\n",
       "      <td>1.000000</td>\n",
       "      <td>1.0</td>\n",
       "      <td>1.000000</td>\n",
       "      <td>1.000000</td>\n",
       "      <td>1.000000</td>\n",
       "      <td>1.0</td>\n",
       "      <td>1.0</td>\n",
       "      <td>1.000000</td>\n",
       "      <td>1.000000</td>\n",
       "      <td>1.0</td>\n",
       "    </tr>\n",
       "    <tr>\n",
       "      <th>max</th>\n",
       "      <td>104.000000</td>\n",
       "      <td>1.0</td>\n",
       "      <td>1.0</td>\n",
       "      <td>1.0</td>\n",
       "      <td>1.0</td>\n",
       "      <td>2.000000</td>\n",
       "      <td>2.000000</td>\n",
       "      <td>1.0</td>\n",
       "      <td>1.0</td>\n",
       "      <td>2.000000</td>\n",
       "      <td>...</td>\n",
       "      <td>2.000000</td>\n",
       "      <td>1.0</td>\n",
       "      <td>2.000000</td>\n",
       "      <td>2.000000</td>\n",
       "      <td>2.000000</td>\n",
       "      <td>1.0</td>\n",
       "      <td>1.0</td>\n",
       "      <td>2.000000</td>\n",
       "      <td>2.000000</td>\n",
       "      <td>1.0</td>\n",
       "    </tr>\n",
       "  </tbody>\n",
       "</table>\n",
       "<p>8 rows × 218 columns</p>\n",
       "</div>"
      ],
      "text/plain": [
       "       grand_tot_interests  interest1  interest2  interest3  interest4  \\\n",
       "count          6340.000000      993.0        1.0       35.0       25.0   \n",
       "mean             37.312303        1.0        1.0        1.0        1.0   \n",
       "std              15.729872        0.0        NaN        0.0        0.0   \n",
       "min               1.000000        1.0        1.0        1.0        1.0   \n",
       "25%              28.000000        1.0        1.0        1.0        1.0   \n",
       "50%              39.000000        1.0        1.0        1.0        1.0   \n",
       "75%              48.000000        1.0        1.0        1.0        1.0   \n",
       "max             104.000000        1.0        1.0        1.0        1.0   \n",
       "\n",
       "        interest5    interest6  interest7  interest8   interest9  ...  \\\n",
       "count  798.000000  3394.000000        1.0       93.0  333.000000  ...   \n",
       "mean     1.001253     1.000589        1.0        1.0    1.003003  ...   \n",
       "std      0.035400     0.024271        NaN        0.0    0.054800  ...   \n",
       "min      1.000000     1.000000        1.0        1.0    1.000000  ...   \n",
       "25%      1.000000     1.000000        1.0        1.0    1.000000  ...   \n",
       "50%      1.000000     1.000000        1.0        1.0    1.000000  ...   \n",
       "75%      1.000000     1.000000        1.0        1.0    1.000000  ...   \n",
       "max      2.000000     2.000000        1.0        1.0    2.000000  ...   \n",
       "\n",
       "       interest208  interest209  interest210  interest211  interest212  \\\n",
       "count   118.000000        110.0  5037.000000  2474.000000   877.000000   \n",
       "mean      1.008475          1.0     1.000596     1.000808     1.002281   \n",
       "std       0.092057          0.0     0.024400     0.028427     0.047727   \n",
       "min       1.000000          1.0     1.000000     1.000000     1.000000   \n",
       "25%       1.000000          1.0     1.000000     1.000000     1.000000   \n",
       "50%       1.000000          1.0     1.000000     1.000000     1.000000   \n",
       "75%       1.000000          1.0     1.000000     1.000000     1.000000   \n",
       "max       2.000000          1.0     2.000000     2.000000     2.000000   \n",
       "\n",
       "       interest213  interest214  interest215  interest216  interest217  \n",
       "count          2.0         72.0  4943.000000  4058.000000        147.0  \n",
       "mean           1.0          1.0     1.000202     1.000246          1.0  \n",
       "std            0.0          0.0     0.014223     0.015698          0.0  \n",
       "min            1.0          1.0     1.000000     1.000000          1.0  \n",
       "25%            1.0          1.0     1.000000     1.000000          1.0  \n",
       "50%            1.0          1.0     1.000000     1.000000          1.0  \n",
       "75%            1.0          1.0     1.000000     1.000000          1.0  \n",
       "max            1.0          1.0     2.000000     2.000000          1.0  \n",
       "\n",
       "[8 rows x 218 columns]"
      ]
     },
     "execution_count": 11,
     "metadata": {},
     "output_type": "execute_result"
    }
   ],
   "source": [
    "df.describe()"
   ]
  },
  {
   "cell_type": "markdown",
   "metadata": {},
   "source": [
    " ## Columns"
   ]
  },
  {
   "cell_type": "code",
   "execution_count": 12,
   "metadata": {},
   "outputs": [],
   "source": [
    "yParm = ['group']\n",
    "yParmStr = 'group'\n",
    "xParm = df.columns[2:]"
   ]
  },
  {
   "cell_type": "markdown",
   "metadata": {},
   "source": [
    "### Get rid of the ones with a small and big amounts of positive responses "
   ]
  },
  {
   "cell_type": "code",
   "execution_count": 13,
   "metadata": {},
   "outputs": [
    {
     "name": "stdout",
     "output_type": "stream",
     "text": [
      "interest162\n",
      "interest183\n"
     ]
    }
   ],
   "source": [
    "goodCols = []\n",
    "for col in xParm:\n",
    "    if (df[col].count() < 10):\n",
    "#         print(col)\n",
    "        continue\n",
    "    elif (df[col].count() > 5990):\n",
    "        print(col)\n",
    "        continue\n",
    "    else:\n",
    "        goodCols.append(col)"
   ]
  },
  {
   "cell_type": "code",
   "execution_count": 14,
   "metadata": {},
   "outputs": [
    {
     "data": {
      "text/plain": [
       "175"
      ]
     },
     "execution_count": 14,
     "metadata": {},
     "output_type": "execute_result"
    }
   ],
   "source": [
    "len(goodCols)"
   ]
  },
  {
   "cell_type": "code",
   "execution_count": 15,
   "metadata": {},
   "outputs": [
    {
     "data": {
      "text/plain": [
       "42"
      ]
     },
     "execution_count": 15,
     "metadata": {},
     "output_type": "execute_result"
    }
   ],
   "source": [
    "len(xParm) - len(goodCols)"
   ]
  },
  {
   "cell_type": "code",
   "execution_count": 16,
   "metadata": {},
   "outputs": [],
   "source": [
    "xParm = goodCols"
   ]
  },
  {
   "cell_type": "markdown",
   "metadata": {},
   "source": [
    "### Change twos to ones"
   ]
  },
  {
   "cell_type": "code",
   "execution_count": 17,
   "metadata": {},
   "outputs": [],
   "source": [
    "for col in xParm:\n",
    "    df[col] = [x if pd.isnull(x) else 1 for x in df[col].values]"
   ]
  },
  {
   "cell_type": "markdown",
   "metadata": {},
   "source": [
    "### Get rid off of well distributed interests among all categories."
   ]
  },
  {
   "cell_type": "code",
   "execution_count": 18,
   "metadata": {},
   "outputs": [],
   "source": [
    "catCount = df[xParm + yParm].groupby(yParmStr).count().transpose()"
   ]
  },
  {
   "cell_type": "code",
   "execution_count": 19,
   "metadata": {},
   "outputs": [],
   "source": [
    "catCount['Total'] = catCount[['C', 'I', 'P', 'R']].sum(axis=1)"
   ]
  },
  {
   "cell_type": "code",
   "execution_count": 20,
   "metadata": {},
   "outputs": [],
   "source": [
    "for col in ['C', 'I', 'P', 'R']:\n",
    "    catCount[col+'_perc'] = catCount[col]*100/cat.loc[cat['group']==col]['count'].values[0]"
   ]
  },
  {
   "cell_type": "code",
   "execution_count": 21,
   "metadata": {},
   "outputs": [],
   "source": [
    "catCount['TotalPerc'] = catCount[['C_perc', 'I_perc', 'P_perc', 'R_perc']].sum(axis=1)"
   ]
  },
  {
   "cell_type": "code",
   "execution_count": 22,
   "metadata": {},
   "outputs": [],
   "source": [
    "for col in ['C', 'I', 'P', 'R']:\n",
    "    catCount[col+'_norm'] = catCount[col+'_perc']*100/catCount['TotalPerc'] "
   ]
  },
  {
   "cell_type": "code",
   "execution_count": 23,
   "metadata": {},
   "outputs": [],
   "source": [
    "badRow = []\n",
    "goodRow = []\n",
    "for idx, row in catCount.iterrows():\n",
    "    if (row['C_norm'] > 30) | (row['C_norm'] < 20):\n",
    "        goodRow.append(idx)\n",
    "        continue\n",
    "    elif (row['I_norm'] > 30) | (row['I_norm'] < 20):\n",
    "        goodRow.append(idx)\n",
    "        continue\n",
    "    elif (row['P_norm'] > 30) | (row['P_norm'] < 20):\n",
    "        goodRow.append(idx)\n",
    "        continue\n",
    "    elif (row['R_norm'] > 30) | (row['R_norm'] < 20):\n",
    "        goodRow.append(idx)\n",
    "        continue\n",
    "    else:\n",
    "        badRow.append(idx)"
   ]
  },
  {
   "cell_type": "code",
   "execution_count": 24,
   "metadata": {},
   "outputs": [
    {
     "data": {
      "text/plain": [
       "51"
      ]
     },
     "execution_count": 24,
     "metadata": {},
     "output_type": "execute_result"
    }
   ],
   "source": [
    "len(badRow)"
   ]
  },
  {
   "cell_type": "code",
   "execution_count": 25,
   "metadata": {},
   "outputs": [
    {
     "data": {
      "text/html": [
       "<div>\n",
       "<style scoped>\n",
       "    .dataframe tbody tr th:only-of-type {\n",
       "        vertical-align: middle;\n",
       "    }\n",
       "\n",
       "    .dataframe tbody tr th {\n",
       "        vertical-align: top;\n",
       "    }\n",
       "\n",
       "    .dataframe thead th {\n",
       "        text-align: right;\n",
       "    }\n",
       "</style>\n",
       "<table border=\"1\" class=\"dataframe\">\n",
       "  <thead>\n",
       "    <tr style=\"text-align: right;\">\n",
       "      <th>group</th>\n",
       "      <th>C</th>\n",
       "      <th>I</th>\n",
       "      <th>P</th>\n",
       "      <th>R</th>\n",
       "      <th>Total</th>\n",
       "      <th>C_perc</th>\n",
       "      <th>I_perc</th>\n",
       "      <th>P_perc</th>\n",
       "      <th>R_perc</th>\n",
       "      <th>TotalPerc</th>\n",
       "      <th>C_norm</th>\n",
       "      <th>I_norm</th>\n",
       "      <th>P_norm</th>\n",
       "      <th>R_norm</th>\n",
       "    </tr>\n",
       "  </thead>\n",
       "  <tbody>\n",
       "    <tr>\n",
       "      <th>interest6</th>\n",
       "      <td>859</td>\n",
       "      <td>1032</td>\n",
       "      <td>888</td>\n",
       "      <td>615</td>\n",
       "      <td>3394</td>\n",
       "      <td>49.797101</td>\n",
       "      <td>57.048093</td>\n",
       "      <td>51.299827</td>\n",
       "      <td>57.209302</td>\n",
       "      <td>215.354323</td>\n",
       "      <td>23.123335</td>\n",
       "      <td>26.490340</td>\n",
       "      <td>23.821127</td>\n",
       "      <td>26.565198</td>\n",
       "    </tr>\n",
       "    <tr>\n",
       "      <th>interest12</th>\n",
       "      <td>1211</td>\n",
       "      <td>1235</td>\n",
       "      <td>1248</td>\n",
       "      <td>825</td>\n",
       "      <td>4519</td>\n",
       "      <td>70.202899</td>\n",
       "      <td>68.269762</td>\n",
       "      <td>72.097054</td>\n",
       "      <td>76.744186</td>\n",
       "      <td>287.313901</td>\n",
       "      <td>24.434216</td>\n",
       "      <td>23.761385</td>\n",
       "      <td>25.093479</td>\n",
       "      <td>26.710920</td>\n",
       "    </tr>\n",
       "    <tr>\n",
       "      <th>interest14</th>\n",
       "      <td>86</td>\n",
       "      <td>111</td>\n",
       "      <td>100</td>\n",
       "      <td>68</td>\n",
       "      <td>365</td>\n",
       "      <td>4.985507</td>\n",
       "      <td>6.135987</td>\n",
       "      <td>5.777008</td>\n",
       "      <td>6.325581</td>\n",
       "      <td>23.224083</td>\n",
       "      <td>21.466971</td>\n",
       "      <td>26.420792</td>\n",
       "      <td>24.875073</td>\n",
       "      <td>27.237163</td>\n",
       "    </tr>\n",
       "    <tr>\n",
       "      <th>interest15</th>\n",
       "      <td>455</td>\n",
       "      <td>545</td>\n",
       "      <td>559</td>\n",
       "      <td>333</td>\n",
       "      <td>1892</td>\n",
       "      <td>26.376812</td>\n",
       "      <td>30.127142</td>\n",
       "      <td>32.293472</td>\n",
       "      <td>30.976744</td>\n",
       "      <td>119.774170</td>\n",
       "      <td>22.022120</td>\n",
       "      <td>25.153288</td>\n",
       "      <td>26.961967</td>\n",
       "      <td>25.862625</td>\n",
       "    </tr>\n",
       "    <tr>\n",
       "      <th>interest16</th>\n",
       "      <td>1218</td>\n",
       "      <td>1219</td>\n",
       "      <td>1251</td>\n",
       "      <td>823</td>\n",
       "      <td>4511</td>\n",
       "      <td>70.608696</td>\n",
       "      <td>67.385296</td>\n",
       "      <td>72.270364</td>\n",
       "      <td>76.558140</td>\n",
       "      <td>286.822495</td>\n",
       "      <td>24.617559</td>\n",
       "      <td>23.493728</td>\n",
       "      <td>25.196895</td>\n",
       "      <td>26.691818</td>\n",
       "    </tr>\n",
       "  </tbody>\n",
       "</table>\n",
       "</div>"
      ],
      "text/plain": [
       "group          C     I     P    R  Total     C_perc     I_perc     P_perc  \\\n",
       "interest6    859  1032   888  615   3394  49.797101  57.048093  51.299827   \n",
       "interest12  1211  1235  1248  825   4519  70.202899  68.269762  72.097054   \n",
       "interest14    86   111   100   68    365   4.985507   6.135987   5.777008   \n",
       "interest15   455   545   559  333   1892  26.376812  30.127142  32.293472   \n",
       "interest16  1218  1219  1251  823   4511  70.608696  67.385296  72.270364   \n",
       "\n",
       "group          R_perc   TotalPerc     C_norm     I_norm     P_norm     R_norm  \n",
       "interest6   57.209302  215.354323  23.123335  26.490340  23.821127  26.565198  \n",
       "interest12  76.744186  287.313901  24.434216  23.761385  25.093479  26.710920  \n",
       "interest14   6.325581   23.224083  21.466971  26.420792  24.875073  27.237163  \n",
       "interest15  30.976744  119.774170  22.022120  25.153288  26.961967  25.862625  \n",
       "interest16  76.558140  286.822495  24.617559  23.493728  25.196895  26.691818  "
      ]
     },
     "execution_count": 25,
     "metadata": {},
     "output_type": "execute_result"
    }
   ],
   "source": [
    "catCount.loc[catCount.index.isin(badRow)].head()"
   ]
  },
  {
   "cell_type": "code",
   "execution_count": 155,
   "metadata": {},
   "outputs": [
    {
     "data": {
      "text/html": [
       "<div>\n",
       "<style scoped>\n",
       "    .dataframe tbody tr th:only-of-type {\n",
       "        vertical-align: middle;\n",
       "    }\n",
       "\n",
       "    .dataframe tbody tr th {\n",
       "        vertical-align: top;\n",
       "    }\n",
       "\n",
       "    .dataframe thead th {\n",
       "        text-align: right;\n",
       "    }\n",
       "</style>\n",
       "<table border=\"1\" class=\"dataframe\">\n",
       "  <thead>\n",
       "    <tr style=\"text-align: right;\">\n",
       "      <th>group</th>\n",
       "      <th>C_norm</th>\n",
       "      <th>I_norm</th>\n",
       "      <th>P_norm</th>\n",
       "      <th>R_norm</th>\n",
       "    </tr>\n",
       "  </thead>\n",
       "  <tbody>\n",
       "    <tr>\n",
       "      <th>interest6</th>\n",
       "      <td>23.123335</td>\n",
       "      <td>26.490340</td>\n",
       "      <td>23.821127</td>\n",
       "      <td>26.565198</td>\n",
       "    </tr>\n",
       "    <tr>\n",
       "      <th>interest12</th>\n",
       "      <td>24.434216</td>\n",
       "      <td>23.761385</td>\n",
       "      <td>25.093479</td>\n",
       "      <td>26.710920</td>\n",
       "    </tr>\n",
       "    <tr>\n",
       "      <th>interest14</th>\n",
       "      <td>21.466971</td>\n",
       "      <td>26.420792</td>\n",
       "      <td>24.875073</td>\n",
       "      <td>27.237163</td>\n",
       "    </tr>\n",
       "    <tr>\n",
       "      <th>interest15</th>\n",
       "      <td>22.022120</td>\n",
       "      <td>25.153288</td>\n",
       "      <td>26.961967</td>\n",
       "      <td>25.862625</td>\n",
       "    </tr>\n",
       "    <tr>\n",
       "      <th>interest16</th>\n",
       "      <td>24.617559</td>\n",
       "      <td>23.493728</td>\n",
       "      <td>25.196895</td>\n",
       "      <td>26.691818</td>\n",
       "    </tr>\n",
       "  </tbody>\n",
       "</table>\n",
       "</div>"
      ],
      "text/plain": [
       "group          C_norm     I_norm     P_norm     R_norm\n",
       "interest6   23.123335  26.490340  23.821127  26.565198\n",
       "interest12  24.434216  23.761385  25.093479  26.710920\n",
       "interest14  21.466971  26.420792  24.875073  27.237163\n",
       "interest15  22.022120  25.153288  26.961967  25.862625\n",
       "interest16  24.617559  23.493728  25.196895  26.691818"
      ]
     },
     "execution_count": 155,
     "metadata": {},
     "output_type": "execute_result"
    }
   ],
   "source": [
    "catCount.loc[catCount.index.isin(badRow)][['C_norm', 'I_norm', 'P_norm', 'R_norm']].head()"
   ]
  },
  {
   "cell_type": "code",
   "execution_count": 26,
   "metadata": {},
   "outputs": [],
   "source": [
    "xParm = goodRow"
   ]
  },
  {
   "cell_type": "code",
   "execution_count": 27,
   "metadata": {},
   "outputs": [
    {
     "data": {
      "text/plain": [
       "124"
      ]
     },
     "execution_count": 27,
     "metadata": {},
     "output_type": "execute_result"
    }
   ],
   "source": [
    "len(xParm)"
   ]
  },
  {
   "cell_type": "markdown",
   "metadata": {},
   "source": [
    "### Get rid of Anomalous Individuals"
   ]
  },
  {
   "cell_type": "code",
   "execution_count": 28,
   "metadata": {},
   "outputs": [],
   "source": [
    "df['grand_tot_interests'] = df[xParm].sum(axis=1)"
   ]
  },
  {
   "cell_type": "markdown",
   "metadata": {},
   "source": [
    "#### Zero Interests"
   ]
  },
  {
   "cell_type": "code",
   "execution_count": 29,
   "metadata": {},
   "outputs": [],
   "source": [
    "df = df.loc[df['grand_tot_interests']!=0].reset_index(drop=True)"
   ]
  },
  {
   "cell_type": "code",
   "execution_count": 30,
   "metadata": {},
   "outputs": [
    {
     "data": {
      "text/plain": [
       "5788"
      ]
     },
     "execution_count": 30,
     "metadata": {},
     "output_type": "execute_result"
    }
   ],
   "source": [
    "len(df)"
   ]
  },
  {
   "cell_type": "markdown",
   "metadata": {},
   "source": [
    "#### Anomaly in distribution"
   ]
  },
  {
   "cell_type": "code",
   "execution_count": 31,
   "metadata": {},
   "outputs": [
    {
     "data": {
      "text/plain": [
       "count    5788.000000\n",
       "mean        9.720974\n",
       "std         6.236600\n",
       "min         1.000000\n",
       "25%         5.000000\n",
       "50%         9.000000\n",
       "75%        14.000000\n",
       "max        52.000000\n",
       "Name: grand_tot_interests, dtype: float64"
      ]
     },
     "execution_count": 31,
     "metadata": {},
     "output_type": "execute_result"
    }
   ],
   "source": [
    "df['grand_tot_interests'].describe()"
   ]
  },
  {
   "cell_type": "code",
   "execution_count": 32,
   "metadata": {},
   "outputs": [
    {
     "data": {
      "text/plain": [
       "<matplotlib.axes._subplots.AxesSubplot at 0x102865358>"
      ]
     },
     "execution_count": 32,
     "metadata": {},
     "output_type": "execute_result"
    },
    {
     "data": {
      "image/png": "[encoded data removed]",
      "text/plain": [
       "<Figure size 432x288 with 1 Axes>"
      ]
     },
     "metadata": {},
     "output_type": "display_data"
    }
   ],
   "source": [
    "df['grand_tot_interests'].hist(bins=40)"
   ]
  },
  {
   "cell_type": "code",
   "execution_count": 33,
   "metadata": {},
   "outputs": [
    {
     "data": {
      "text/plain": [
       "<matplotlib.axes._subplots.AxesSubplot at 0x1166189b0>"
      ]
     },
     "execution_count": 33,
     "metadata": {},
     "output_type": "execute_result"
    },
    {
     "data": {
      "image/png": "[encoded data removed]",
      "text/plain": [
       "<Figure size 432x288 with 1 Axes>"
      ]
     },
     "metadata": {},
     "output_type": "display_data"
    }
   ],
   "source": [
    "df[['grand_tot_interests']].boxplot()"
   ]
  },
  {
   "cell_type": "code",
   "execution_count": 34,
   "metadata": {},
   "outputs": [
    {
     "data": {
      "text/plain": [
       "1.0    333\n",
       "Name: interest9, dtype: int64"
      ]
     },
     "execution_count": 34,
     "metadata": {},
     "output_type": "execute_result"
    }
   ],
   "source": [
    "df['interest9'].value_counts()"
   ]
  },
  {
   "cell_type": "code",
   "execution_count": 35,
   "metadata": {},
   "outputs": [
    {
     "data": {
      "text/html": [
       "<div>\n",
       "<style scoped>\n",
       "    .dataframe tbody tr th:only-of-type {\n",
       "        vertical-align: middle;\n",
       "    }\n",
       "\n",
       "    .dataframe tbody tr th {\n",
       "        vertical-align: top;\n",
       "    }\n",
       "\n",
       "    .dataframe thead th {\n",
       "        text-align: right;\n",
       "    }\n",
       "</style>\n",
       "<table border=\"1\" class=\"dataframe\">\n",
       "  <thead>\n",
       "    <tr style=\"text-align: right;\">\n",
       "      <th></th>\n",
       "      <th>interest1</th>\n",
       "      <th>interest3</th>\n",
       "      <th>interest4</th>\n",
       "      <th>interest5</th>\n",
       "      <th>interest8</th>\n",
       "      <th>interest9</th>\n",
       "      <th>interest11</th>\n",
       "      <th>interest13</th>\n",
       "      <th>interest19</th>\n",
       "      <th>interest20</th>\n",
       "      <th>...</th>\n",
       "      <th>interest201</th>\n",
       "      <th>interest203</th>\n",
       "      <th>interest204</th>\n",
       "      <th>interest205</th>\n",
       "      <th>interest208</th>\n",
       "      <th>interest209</th>\n",
       "      <th>interest211</th>\n",
       "      <th>interest212</th>\n",
       "      <th>interest214</th>\n",
       "      <th>interest217</th>\n",
       "    </tr>\n",
       "  </thead>\n",
       "  <tbody>\n",
       "    <tr>\n",
       "      <th>count</th>\n",
       "      <td>993.0</td>\n",
       "      <td>35.0</td>\n",
       "      <td>25.0</td>\n",
       "      <td>798.0</td>\n",
       "      <td>93.0</td>\n",
       "      <td>333.0</td>\n",
       "      <td>175.0</td>\n",
       "      <td>18.0</td>\n",
       "      <td>141.0</td>\n",
       "      <td>165.0</td>\n",
       "      <td>...</td>\n",
       "      <td>1671.0</td>\n",
       "      <td>26.0</td>\n",
       "      <td>117.0</td>\n",
       "      <td>134.0</td>\n",
       "      <td>118.0</td>\n",
       "      <td>110.0</td>\n",
       "      <td>2474.0</td>\n",
       "      <td>877.0</td>\n",
       "      <td>72.0</td>\n",
       "      <td>147.0</td>\n",
       "    </tr>\n",
       "    <tr>\n",
       "      <th>mean</th>\n",
       "      <td>1.0</td>\n",
       "      <td>1.0</td>\n",
       "      <td>1.0</td>\n",
       "      <td>1.0</td>\n",
       "      <td>1.0</td>\n",
       "      <td>1.0</td>\n",
       "      <td>1.0</td>\n",
       "      <td>1.0</td>\n",
       "      <td>1.0</td>\n",
       "      <td>1.0</td>\n",
       "      <td>...</td>\n",
       "      <td>1.0</td>\n",
       "      <td>1.0</td>\n",
       "      <td>1.0</td>\n",
       "      <td>1.0</td>\n",
       "      <td>1.0</td>\n",
       "      <td>1.0</td>\n",
       "      <td>1.0</td>\n",
       "      <td>1.0</td>\n",
       "      <td>1.0</td>\n",
       "      <td>1.0</td>\n",
       "    </tr>\n",
       "    <tr>\n",
       "      <th>std</th>\n",
       "      <td>0.0</td>\n",
       "      <td>0.0</td>\n",
       "      <td>0.0</td>\n",
       "      <td>0.0</td>\n",
       "      <td>0.0</td>\n",
       "      <td>0.0</td>\n",
       "      <td>0.0</td>\n",
       "      <td>0.0</td>\n",
       "      <td>0.0</td>\n",
       "      <td>0.0</td>\n",
       "      <td>...</td>\n",
       "      <td>0.0</td>\n",
       "      <td>0.0</td>\n",
       "      <td>0.0</td>\n",
       "      <td>0.0</td>\n",
       "      <td>0.0</td>\n",
       "      <td>0.0</td>\n",
       "      <td>0.0</td>\n",
       "      <td>0.0</td>\n",
       "      <td>0.0</td>\n",
       "      <td>0.0</td>\n",
       "    </tr>\n",
       "    <tr>\n",
       "      <th>min</th>\n",
       "      <td>1.0</td>\n",
       "      <td>1.0</td>\n",
       "      <td>1.0</td>\n",
       "      <td>1.0</td>\n",
       "      <td>1.0</td>\n",
       "      <td>1.0</td>\n",
       "      <td>1.0</td>\n",
       "      <td>1.0</td>\n",
       "      <td>1.0</td>\n",
       "      <td>1.0</td>\n",
       "      <td>...</td>\n",
       "      <td>1.0</td>\n",
       "      <td>1.0</td>\n",
       "      <td>1.0</td>\n",
       "      <td>1.0</td>\n",
       "      <td>1.0</td>\n",
       "      <td>1.0</td>\n",
       "      <td>1.0</td>\n",
       "      <td>1.0</td>\n",
       "      <td>1.0</td>\n",
       "      <td>1.0</td>\n",
       "    </tr>\n",
       "    <tr>\n",
       "      <th>25%</th>\n",
       "      <td>1.0</td>\n",
       "      <td>1.0</td>\n",
       "      <td>1.0</td>\n",
       "      <td>1.0</td>\n",
       "      <td>1.0</td>\n",
       "      <td>1.0</td>\n",
       "      <td>1.0</td>\n",
       "      <td>1.0</td>\n",
       "      <td>1.0</td>\n",
       "      <td>1.0</td>\n",
       "      <td>...</td>\n",
       "      <td>1.0</td>\n",
       "      <td>1.0</td>\n",
       "      <td>1.0</td>\n",
       "      <td>1.0</td>\n",
       "      <td>1.0</td>\n",
       "      <td>1.0</td>\n",
       "      <td>1.0</td>\n",
       "      <td>1.0</td>\n",
       "      <td>1.0</td>\n",
       "      <td>1.0</td>\n",
       "    </tr>\n",
       "    <tr>\n",
       "      <th>50%</th>\n",
       "      <td>1.0</td>\n",
       "      <td>1.0</td>\n",
       "      <td>1.0</td>\n",
       "      <td>1.0</td>\n",
       "      <td>1.0</td>\n",
       "      <td>1.0</td>\n",
       "      <td>1.0</td>\n",
       "      <td>1.0</td>\n",
       "      <td>1.0</td>\n",
       "      <td>1.0</td>\n",
       "      <td>...</td>\n",
       "      <td>1.0</td>\n",
       "      <td>1.0</td>\n",
       "      <td>1.0</td>\n",
       "      <td>1.0</td>\n",
       "      <td>1.0</td>\n",
       "      <td>1.0</td>\n",
       "      <td>1.0</td>\n",
       "      <td>1.0</td>\n",
       "      <td>1.0</td>\n",
       "      <td>1.0</td>\n",
       "    </tr>\n",
       "    <tr>\n",
       "      <th>75%</th>\n",
       "      <td>1.0</td>\n",
       "      <td>1.0</td>\n",
       "      <td>1.0</td>\n",
       "      <td>1.0</td>\n",
       "      <td>1.0</td>\n",
       "      <td>1.0</td>\n",
       "      <td>1.0</td>\n",
       "      <td>1.0</td>\n",
       "      <td>1.0</td>\n",
       "      <td>1.0</td>\n",
       "      <td>...</td>\n",
       "      <td>1.0</td>\n",
       "      <td>1.0</td>\n",
       "      <td>1.0</td>\n",
       "      <td>1.0</td>\n",
       "      <td>1.0</td>\n",
       "      <td>1.0</td>\n",
       "      <td>1.0</td>\n",
       "      <td>1.0</td>\n",
       "      <td>1.0</td>\n",
       "      <td>1.0</td>\n",
       "    </tr>\n",
       "    <tr>\n",
       "      <th>max</th>\n",
       "      <td>1.0</td>\n",
       "      <td>1.0</td>\n",
       "      <td>1.0</td>\n",
       "      <td>1.0</td>\n",
       "      <td>1.0</td>\n",
       "      <td>1.0</td>\n",
       "      <td>1.0</td>\n",
       "      <td>1.0</td>\n",
       "      <td>1.0</td>\n",
       "      <td>1.0</td>\n",
       "      <td>...</td>\n",
       "      <td>1.0</td>\n",
       "      <td>1.0</td>\n",
       "      <td>1.0</td>\n",
       "      <td>1.0</td>\n",
       "      <td>1.0</td>\n",
       "      <td>1.0</td>\n",
       "      <td>1.0</td>\n",
       "      <td>1.0</td>\n",
       "      <td>1.0</td>\n",
       "      <td>1.0</td>\n",
       "    </tr>\n",
       "  </tbody>\n",
       "</table>\n",
       "<p>8 rows × 124 columns</p>\n",
       "</div>"
      ],
      "text/plain": [
       "       interest1  interest3  interest4  interest5  interest8  interest9  \\\n",
       "count      993.0       35.0       25.0      798.0       93.0      333.0   \n",
       "mean         1.0        1.0        1.0        1.0        1.0        1.0   \n",
       "std          0.0        0.0        0.0        0.0        0.0        0.0   \n",
       "min          1.0        1.0        1.0        1.0        1.0        1.0   \n",
       "25%          1.0        1.0        1.0        1.0        1.0        1.0   \n",
       "50%          1.0        1.0        1.0        1.0        1.0        1.0   \n",
       "75%          1.0        1.0        1.0        1.0        1.0        1.0   \n",
       "max          1.0        1.0        1.0        1.0        1.0        1.0   \n",
       "\n",
       "       interest11  interest13  interest19  interest20  ...  interest201  \\\n",
       "count       175.0        18.0       141.0       165.0  ...       1671.0   \n",
       "mean          1.0         1.0         1.0         1.0  ...          1.0   \n",
       "std           0.0         0.0         0.0         0.0  ...          0.0   \n",
       "min           1.0         1.0         1.0         1.0  ...          1.0   \n",
       "25%           1.0         1.0         1.0         1.0  ...          1.0   \n",
       "50%           1.0         1.0         1.0         1.0  ...          1.0   \n",
       "75%           1.0         1.0         1.0         1.0  ...          1.0   \n",
       "max           1.0         1.0         1.0         1.0  ...          1.0   \n",
       "\n",
       "       interest203  interest204  interest205  interest208  interest209  \\\n",
       "count         26.0        117.0        134.0        118.0        110.0   \n",
       "mean           1.0          1.0          1.0          1.0          1.0   \n",
       "std            0.0          0.0          0.0          0.0          0.0   \n",
       "min            1.0          1.0          1.0          1.0          1.0   \n",
       "25%            1.0          1.0          1.0          1.0          1.0   \n",
       "50%            1.0          1.0          1.0          1.0          1.0   \n",
       "75%            1.0          1.0          1.0          1.0          1.0   \n",
       "max            1.0          1.0          1.0          1.0          1.0   \n",
       "\n",
       "       interest211  interest212  interest214  interest217  \n",
       "count       2474.0        877.0         72.0        147.0  \n",
       "mean           1.0          1.0          1.0          1.0  \n",
       "std            0.0          0.0          0.0          0.0  \n",
       "min            1.0          1.0          1.0          1.0  \n",
       "25%            1.0          1.0          1.0          1.0  \n",
       "50%            1.0          1.0          1.0          1.0  \n",
       "75%            1.0          1.0          1.0          1.0  \n",
       "max            1.0          1.0          1.0          1.0  \n",
       "\n",
       "[8 rows x 124 columns]"
      ]
     },
     "execution_count": 35,
     "metadata": {},
     "output_type": "execute_result"
    }
   ],
   "source": [
    "df[xParm].describe()"
   ]
  },
  {
   "cell_type": "code",
   "execution_count": 36,
   "metadata": {},
   "outputs": [
    {
     "data": {
      "text/plain": [
       "<matplotlib.legend.Legend at 0x116724a58>"
      ]
     },
     "execution_count": 36,
     "metadata": {},
     "output_type": "execute_result"
    },
    {
     "data": {
      "image/png": "[encoded data removed]",
      "text/plain": [
       "<Figure size 504x360 with 1 Axes>"
      ]
     },
     "metadata": {},
     "output_type": "display_data"
    }
   ],
   "source": [
    "df['Zscore'] = df.groupby('group')['grand_tot_interests'].apply(lambda x: x.div(x.mean()))\n",
    "\n",
    "plt.figure(figsize=(7,5))\n",
    "df.groupby('group').Zscore.plot.kde()\n",
    "plt.legend()"
   ]
  },
  {
   "cell_type": "code",
   "execution_count": 37,
   "metadata": {},
   "outputs": [
    {
     "data": {
      "text/plain": [
       "0       15.0\n",
       "1        9.0\n",
       "2        7.0\n",
       "3       18.0\n",
       "4        4.0\n",
       "        ... \n",
       "5783    14.0\n",
       "5784     9.0\n",
       "5785    12.0\n",
       "5786    13.0\n",
       "5787    26.0\n",
       "Name: grand_tot_interests, Length: 5788, dtype: float64"
      ]
     },
     "execution_count": 37,
     "metadata": {},
     "output_type": "execute_result"
    }
   ],
   "source": [
    "df['grand_tot_interests']"
   ]
  },
  {
   "cell_type": "code",
   "execution_count": 38,
   "metadata": {},
   "outputs": [
    {
     "data": {
      "text/plain": [
       "<matplotlib.axes._subplots.AxesSubplot at 0x11680dd30>"
      ]
     },
     "execution_count": 38,
     "metadata": {},
     "output_type": "execute_result"
    },
    {
     "data": {
      "image/png": "[encoded data removed]",
      "text/plain": [
       "<Figure size 432x288 with 1 Axes>"
      ]
     },
     "metadata": {},
     "output_type": "display_data"
    }
   ],
   "source": [
    "df.boxplot(column='grand_tot_interests',by='group')"
   ]
  },
  {
   "cell_type": "code",
   "execution_count": 39,
   "metadata": {},
   "outputs": [],
   "source": [
    "df = df.loc[df['grand_tot_interests']<28].reset_index(drop=True)"
   ]
  },
  {
   "cell_type": "code",
   "execution_count": 40,
   "metadata": {},
   "outputs": [
    {
     "data": {
      "text/plain": [
       "5737"
      ]
     },
     "execution_count": 40,
     "metadata": {},
     "output_type": "execute_result"
    }
   ],
   "source": [
    "len(df)"
   ]
  },
  {
   "cell_type": "markdown",
   "metadata": {},
   "source": [
    "# Analysis"
   ]
  },
  {
   "cell_type": "code",
   "execution_count": 45,
   "metadata": {},
   "outputs": [],
   "source": [
    "for col in xParm:\n",
    "    df[col] = [0 if pd.isnull(x) else 1 for x in df[col].values]"
   ]
  },
  {
   "cell_type": "markdown",
   "metadata": {},
   "source": [
    "## Decision Tree"
   ]
  },
  {
   "cell_type": "code",
   "execution_count": 46,
   "metadata": {},
   "outputs": [],
   "source": [
    "parameters = {'n_estimators':[10, 30, 50, 70], 'criterion':['entropy'], \n",
    "              'max_depth':[10, 20, 25]}"
   ]
  },
  {
   "cell_type": "code",
   "execution_count": 47,
   "metadata": {},
   "outputs": [],
   "source": [
    "rf = GridSearchCV(RandomForestClassifier(), parameters, n_jobs=5, cv=5, verbose=10)"
   ]
  },
  {
   "cell_type": "code",
   "execution_count": 48,
   "metadata": {},
   "outputs": [
    {
     "name": "stdout",
     "output_type": "stream",
     "text": [
      "Fitting 5 folds for each of 12 candidates, totalling 60 fits\n"
     ]
    },
    {
     "name": "stderr",
     "output_type": "stream",
     "text": [
      "[Parallel(n_jobs=5)]: Using backend LokyBackend with 5 concurrent workers.\n",
      "[Parallel(n_jobs=5)]: Done   3 tasks      | elapsed:    0.2s\n",
      "[Parallel(n_jobs=5)]: Done   8 tasks      | elapsed:    0.6s\n",
      "[Parallel(n_jobs=5)]: Done  15 tasks      | elapsed:    1.2s\n",
      "[Parallel(n_jobs=5)]: Done  22 tasks      | elapsed:    2.2s\n",
      "[Parallel(n_jobs=5)]: Done  31 tasks      | elapsed:    3.8s\n",
      "[Parallel(n_jobs=5)]: Done  40 tasks      | elapsed:    5.0s\n",
      "[Parallel(n_jobs=5)]: Done  51 tasks      | elapsed:    6.4s\n",
      "[Parallel(n_jobs=5)]: Done  58 out of  60 | elapsed:    7.7s remaining:    0.3s\n",
      "[Parallel(n_jobs=5)]: Done  60 out of  60 | elapsed:    7.7s finished\n",
      "/Users/ramosem/anaconda3/lib/python3.6/site-packages/sklearn/model_selection/_search.py:739: DataConversionWarning: A column-vector y was passed when a 1d array was expected. Please change the shape of y to (n_samples,), for example using ravel().\n",
      "  self.best_estimator_.fit(X, y, **fit_params)\n"
     ]
    }
   ],
   "source": [
    "rf = rf.fit(df[xParm].values, df[yParm].astype(str).values)"
   ]
  },
  {
   "cell_type": "markdown",
   "metadata": {},
   "source": [
    "### Check Out the Best Model"
   ]
  },
  {
   "cell_type": "code",
   "execution_count": 49,
   "metadata": {},
   "outputs": [
    {
     "name": "stdout",
     "output_type": "stream",
     "text": [
      "0.5847999173726948 {'criterion': 'entropy', 'max_depth': 25, 'n_estimators': 70}\n"
     ]
    }
   ],
   "source": [
    "rf_model = rf.best_estimator_\n",
    "print (rf.best_score_, rf.best_params_) "
   ]
  },
  {
   "cell_type": "code",
   "execution_count": 50,
   "metadata": {},
   "outputs": [
    {
     "data": {
      "text/plain": [
       "RandomForestClassifier(bootstrap=True, ccp_alpha=0.0, class_weight=None,\n",
       "                       criterion='entropy', max_depth=25, max_features='auto',\n",
       "                       max_leaf_nodes=None, max_samples=None,\n",
       "                       min_impurity_decrease=0.0, min_impurity_split=None,\n",
       "                       min_samples_leaf=1, min_samples_split=2,\n",
       "                       min_weight_fraction_leaf=0.0, n_estimators=70,\n",
       "                       n_jobs=None, oob_score=False, random_state=None,\n",
       "                       verbose=0, warm_start=False)"
      ]
     },
     "execution_count": 50,
     "metadata": {},
     "output_type": "execute_result"
    }
   ],
   "source": [
    "rf_model"
   ]
  },
  {
   "cell_type": "markdown",
   "metadata": {},
   "source": [
    "### Prediction"
   ]
  },
  {
   "cell_type": "code",
   "execution_count": 51,
   "metadata": {},
   "outputs": [],
   "source": [
    "df['predict_rf'] = rf_model.predict(df[xParm].values)"
   ]
  },
  {
   "cell_type": "code",
   "execution_count": 52,
   "metadata": {},
   "outputs": [
    {
     "data": {
      "text/html": [
       "<div>\n",
       "<style scoped>\n",
       "    .dataframe tbody tr th:only-of-type {\n",
       "        vertical-align: middle;\n",
       "    }\n",
       "\n",
       "    .dataframe tbody tr th {\n",
       "        vertical-align: top;\n",
       "    }\n",
       "\n",
       "    .dataframe thead th {\n",
       "        text-align: right;\n",
       "    }\n",
       "</style>\n",
       "<table border=\"1\" class=\"dataframe\">\n",
       "  <thead>\n",
       "    <tr style=\"text-align: right;\">\n",
       "      <th></th>\n",
       "      <th>predict_rf</th>\n",
       "      <th>group</th>\n",
       "    </tr>\n",
       "  </thead>\n",
       "  <tbody>\n",
       "    <tr>\n",
       "      <th>0</th>\n",
       "      <td>C</td>\n",
       "      <td>C</td>\n",
       "    </tr>\n",
       "    <tr>\n",
       "      <th>1</th>\n",
       "      <td>C</td>\n",
       "      <td>C</td>\n",
       "    </tr>\n",
       "    <tr>\n",
       "      <th>2</th>\n",
       "      <td>C</td>\n",
       "      <td>C</td>\n",
       "    </tr>\n",
       "    <tr>\n",
       "      <th>3</th>\n",
       "      <td>C</td>\n",
       "      <td>C</td>\n",
       "    </tr>\n",
       "    <tr>\n",
       "      <th>4</th>\n",
       "      <td>C</td>\n",
       "      <td>C</td>\n",
       "    </tr>\n",
       "  </tbody>\n",
       "</table>\n",
       "</div>"
      ],
      "text/plain": [
       "  predict_rf group\n",
       "0          C     C\n",
       "1          C     C\n",
       "2          C     C\n",
       "3          C     C\n",
       "4          C     C"
      ]
     },
     "execution_count": 52,
     "metadata": {},
     "output_type": "execute_result"
    }
   ],
   "source": [
    "df[['predict_rf', 'group']].head()"
   ]
  },
  {
   "cell_type": "code",
   "execution_count": 53,
   "metadata": {},
   "outputs": [],
   "source": [
    "df['correct_rf'] = df['predict_rf'] == df['group']"
   ]
  },
  {
   "cell_type": "code",
   "execution_count": 54,
   "metadata": {},
   "outputs": [
    {
     "data": {
      "text/html": [
       "<div>\n",
       "<style scoped>\n",
       "    .dataframe tbody tr th:only-of-type {\n",
       "        vertical-align: middle;\n",
       "    }\n",
       "\n",
       "    .dataframe tbody tr th {\n",
       "        vertical-align: top;\n",
       "    }\n",
       "\n",
       "    .dataframe thead th {\n",
       "        text-align: right;\n",
       "    }\n",
       "</style>\n",
       "<table border=\"1\" class=\"dataframe\">\n",
       "  <thead>\n",
       "    <tr style=\"text-align: right;\">\n",
       "      <th>correct_rf</th>\n",
       "      <th>group</th>\n",
       "      <th>False</th>\n",
       "      <th>True</th>\n",
       "    </tr>\n",
       "  </thead>\n",
       "  <tbody>\n",
       "    <tr>\n",
       "      <th>0</th>\n",
       "      <td>C</td>\n",
       "      <td>156</td>\n",
       "      <td>1364</td>\n",
       "    </tr>\n",
       "    <tr>\n",
       "      <th>1</th>\n",
       "      <td>I</td>\n",
       "      <td>97</td>\n",
       "      <td>1588</td>\n",
       "    </tr>\n",
       "    <tr>\n",
       "      <th>2</th>\n",
       "      <td>P</td>\n",
       "      <td>45</td>\n",
       "      <td>1531</td>\n",
       "    </tr>\n",
       "    <tr>\n",
       "      <th>3</th>\n",
       "      <td>R</td>\n",
       "      <td>144</td>\n",
       "      <td>812</td>\n",
       "    </tr>\n",
       "  </tbody>\n",
       "</table>\n",
       "</div>"
      ],
      "text/plain": [
       "correct_rf group  False  True\n",
       "0              C    156  1364\n",
       "1              I     97  1588\n",
       "2              P     45  1531\n",
       "3              R    144   812"
      ]
     },
     "execution_count": 54,
     "metadata": {},
     "output_type": "execute_result"
    }
   ],
   "source": [
    "df[['group', 'correct_rf']].groupby(['group', 'correct_rf']).size().unstack(fill_value=0).reset_index(drop=False)"
   ]
  },
  {
   "cell_type": "code",
   "execution_count": 55,
   "metadata": {},
   "outputs": [
    {
     "data": {
      "text/plain": [
       "True     5295\n",
       "False     442\n",
       "Name: correct_rf, dtype: int64"
      ]
     },
     "execution_count": 55,
     "metadata": {},
     "output_type": "execute_result"
    }
   ],
   "source": [
    "df['correct_rf'].value_counts()"
   ]
  },
  {
   "cell_type": "code",
   "execution_count": 56,
   "metadata": {},
   "outputs": [
    {
     "name": "stdout",
     "output_type": "stream",
     "text": [
      "Total Correctly Predicted  0.9229562489105805\n"
     ]
    }
   ],
   "source": [
    "print(\"Total Correctly Predicted \", len(df.loc[df['correct_rf']])/len(df))"
   ]
  },
  {
   "cell_type": "markdown",
   "metadata": {},
   "source": [
    "### Find Splits"
   ]
  },
  {
   "cell_type": "code",
   "execution_count": 57,
   "metadata": {},
   "outputs": [],
   "source": [
    "colImp = pd.DataFrame(zip(xParm, rf_model.feature_importances_), columns=['Interest', 'Importance'])"
   ]
  },
  {
   "cell_type": "code",
   "execution_count": 116,
   "metadata": {},
   "outputs": [],
   "source": [
    "xParm = colImp.sort_values('Importance', ascending=False)['Interest'].values[0:30]"
   ]
  },
  {
   "cell_type": "markdown",
   "metadata": {},
   "source": [
    "# Decision Tree"
   ]
  },
  {
   "cell_type": "markdown",
   "metadata": {},
   "source": [
    "## Train"
   ]
  },
  {
   "cell_type": "code",
   "execution_count": 117,
   "metadata": {},
   "outputs": [],
   "source": [
    "parameters = {'criterion':['entropy'],\n",
    "             'max_depth':[5,10,15,20], 'max_features':[5,10,15,20, 30], 'max_leaf_nodes':[5,10,15]}"
   ]
  },
  {
   "cell_type": "code",
   "execution_count": 118,
   "metadata": {},
   "outputs": [],
   "source": [
    "dt = GridSearchCV(DecisionTreeClassifier(), parameters, n_jobs=5, cv=5, verbose=10)"
   ]
  },
  {
   "cell_type": "code",
   "execution_count": 119,
   "metadata": {},
   "outputs": [
    {
     "name": "stdout",
     "output_type": "stream",
     "text": [
      "Fitting 5 folds for each of 60 candidates, totalling 300 fits\n"
     ]
    },
    {
     "name": "stderr",
     "output_type": "stream",
     "text": [
      "[Parallel(n_jobs=5)]: Using backend LokyBackend with 5 concurrent workers.\n",
      "[Parallel(n_jobs=5)]: Batch computation too fast (0.0414s.) Setting batch_size=2.\n",
      "[Parallel(n_jobs=5)]: Done   3 tasks      | elapsed:    0.1s\n",
      "[Parallel(n_jobs=5)]: Done   8 tasks      | elapsed:    0.1s\n",
      "[Parallel(n_jobs=5)]: Batch computation too fast (0.0584s.) Setting batch_size=4.\n",
      "[Parallel(n_jobs=5)]: Done  20 tasks      | elapsed:    0.1s\n",
      "[Parallel(n_jobs=5)]: Batch computation too fast (0.1440s.) Setting batch_size=8.\n",
      "[Parallel(n_jobs=5)]: Done  38 tasks      | elapsed:    0.3s\n",
      "[Parallel(n_jobs=5)]: Done  78 tasks      | elapsed:    0.6s\n",
      "[Parallel(n_jobs=5)]: Done 150 tasks      | elapsed:    0.9s\n",
      "[Parallel(n_jobs=5)]: Done 238 tasks      | elapsed:    1.6s\n",
      "[Parallel(n_jobs=5)]: Done 263 tasks      | elapsed:    1.8s\n",
      "[Parallel(n_jobs=5)]: Done 290 tasks      | elapsed:    1.9s\n",
      "[Parallel(n_jobs=5)]: Done 300 out of 300 | elapsed:    2.0s finished\n"
     ]
    }
   ],
   "source": [
    "dt = dt.fit(df[xParm].values, df[yParm].values)"
   ]
  },
  {
   "cell_type": "markdown",
   "metadata": {},
   "source": [
    "## Check out Best Model"
   ]
  },
  {
   "cell_type": "code",
   "execution_count": 120,
   "metadata": {},
   "outputs": [
    {
     "name": "stdout",
     "output_type": "stream",
     "text": [
      "0.5600478752327691 {'criterion': 'entropy', 'max_depth': 20, 'max_features': 15, 'max_leaf_nodes': 10}\n"
     ]
    }
   ],
   "source": [
    "dt_model = dt.best_estimator_\n",
    "print (dt.best_score_, dt.best_params_) "
   ]
  },
  {
   "cell_type": "code",
   "execution_count": 121,
   "metadata": {},
   "outputs": [
    {
     "data": {
      "text/plain": [
       "DecisionTreeClassifier(ccp_alpha=0.0, class_weight=None, criterion='entropy',\n",
       "                       max_depth=20, max_features=15, max_leaf_nodes=10,\n",
       "                       min_impurity_decrease=0.0, min_impurity_split=None,\n",
       "                       min_samples_leaf=1, min_samples_split=2,\n",
       "                       min_weight_fraction_leaf=0.0, presort='deprecated',\n",
       "                       random_state=None, splitter='best')"
      ]
     },
     "execution_count": 121,
     "metadata": {},
     "output_type": "execute_result"
    }
   ],
   "source": [
    "dt_model"
   ]
  },
  {
   "cell_type": "markdown",
   "metadata": {},
   "source": [
    "## Predict"
   ]
  },
  {
   "cell_type": "code",
   "execution_count": 122,
   "metadata": {},
   "outputs": [],
   "source": [
    "df['predict_dt'] = dt_model.predict(df[xParm].values)"
   ]
  },
  {
   "cell_type": "code",
   "execution_count": 123,
   "metadata": {},
   "outputs": [
    {
     "data": {
      "text/html": [
       "<div>\n",
       "<style scoped>\n",
       "    .dataframe tbody tr th:only-of-type {\n",
       "        vertical-align: middle;\n",
       "    }\n",
       "\n",
       "    .dataframe tbody tr th {\n",
       "        vertical-align: top;\n",
       "    }\n",
       "\n",
       "    .dataframe thead th {\n",
       "        text-align: right;\n",
       "    }\n",
       "</style>\n",
       "<table border=\"1\" class=\"dataframe\">\n",
       "  <thead>\n",
       "    <tr style=\"text-align: right;\">\n",
       "      <th></th>\n",
       "      <th>predict_dt</th>\n",
       "      <th>group</th>\n",
       "    </tr>\n",
       "  </thead>\n",
       "  <tbody>\n",
       "    <tr>\n",
       "      <th>0</th>\n",
       "      <td>C</td>\n",
       "      <td>C</td>\n",
       "    </tr>\n",
       "    <tr>\n",
       "      <th>1</th>\n",
       "      <td>I</td>\n",
       "      <td>C</td>\n",
       "    </tr>\n",
       "    <tr>\n",
       "      <th>2</th>\n",
       "      <td>C</td>\n",
       "      <td>C</td>\n",
       "    </tr>\n",
       "    <tr>\n",
       "      <th>3</th>\n",
       "      <td>C</td>\n",
       "      <td>C</td>\n",
       "    </tr>\n",
       "    <tr>\n",
       "      <th>4</th>\n",
       "      <td>C</td>\n",
       "      <td>C</td>\n",
       "    </tr>\n",
       "  </tbody>\n",
       "</table>\n",
       "</div>"
      ],
      "text/plain": [
       "  predict_dt group\n",
       "0          C     C\n",
       "1          I     C\n",
       "2          C     C\n",
       "3          C     C\n",
       "4          C     C"
      ]
     },
     "execution_count": 123,
     "metadata": {},
     "output_type": "execute_result"
    }
   ],
   "source": [
    "df[['predict_dt', 'group']].head()"
   ]
  },
  {
   "cell_type": "code",
   "execution_count": 124,
   "metadata": {},
   "outputs": [],
   "source": [
    "df['correct_dt'] = df['predict_dt'] == df['group']"
   ]
  },
  {
   "cell_type": "code",
   "execution_count": 125,
   "metadata": {},
   "outputs": [
    {
     "data": {
      "text/html": [
       "<div>\n",
       "<style scoped>\n",
       "    .dataframe tbody tr th:only-of-type {\n",
       "        vertical-align: middle;\n",
       "    }\n",
       "\n",
       "    .dataframe tbody tr th {\n",
       "        vertical-align: top;\n",
       "    }\n",
       "\n",
       "    .dataframe thead th {\n",
       "        text-align: right;\n",
       "    }\n",
       "</style>\n",
       "<table border=\"1\" class=\"dataframe\">\n",
       "  <thead>\n",
       "    <tr style=\"text-align: right;\">\n",
       "      <th>correct_dt</th>\n",
       "      <th>group</th>\n",
       "      <th>False</th>\n",
       "      <th>True</th>\n",
       "    </tr>\n",
       "  </thead>\n",
       "  <tbody>\n",
       "    <tr>\n",
       "      <th>0</th>\n",
       "      <td>C</td>\n",
       "      <td>690</td>\n",
       "      <td>830</td>\n",
       "    </tr>\n",
       "    <tr>\n",
       "      <th>1</th>\n",
       "      <td>I</td>\n",
       "      <td>561</td>\n",
       "      <td>1124</td>\n",
       "    </tr>\n",
       "    <tr>\n",
       "      <th>2</th>\n",
       "      <td>P</td>\n",
       "      <td>388</td>\n",
       "      <td>1188</td>\n",
       "    </tr>\n",
       "    <tr>\n",
       "      <th>3</th>\n",
       "      <td>R</td>\n",
       "      <td>849</td>\n",
       "      <td>107</td>\n",
       "    </tr>\n",
       "  </tbody>\n",
       "</table>\n",
       "</div>"
      ],
      "text/plain": [
       "correct_dt group  False  True\n",
       "0              C    690   830\n",
       "1              I    561  1124\n",
       "2              P    388  1188\n",
       "3              R    849   107"
      ]
     },
     "execution_count": 125,
     "metadata": {},
     "output_type": "execute_result"
    }
   ],
   "source": [
    "df[['group', 'correct_dt']].groupby(['group', 'correct_dt']).size().unstack(fill_value=0).reset_index(drop=False)"
   ]
  },
  {
   "cell_type": "code",
   "execution_count": 126,
   "metadata": {},
   "outputs": [
    {
     "data": {
      "text/plain": [
       "True     3249\n",
       "False    2488\n",
       "Name: correct_dt, dtype: int64"
      ]
     },
     "execution_count": 126,
     "metadata": {},
     "output_type": "execute_result"
    }
   ],
   "source": [
    "df['correct_dt'].value_counts()"
   ]
  },
  {
   "cell_type": "code",
   "execution_count": 127,
   "metadata": {},
   "outputs": [
    {
     "name": "stdout",
     "output_type": "stream",
     "text": [
      "Total Correctly Predicted  0.5663238626459822\n"
     ]
    }
   ],
   "source": [
    "print(\"Total Correctly Predicted \", len(df.loc[df['correct_dt']])/len(df))"
   ]
  },
  {
   "cell_type": "markdown",
   "metadata": {},
   "source": [
    "## Plot Desicion Tree"
   ]
  },
  {
   "cell_type": "code",
   "execution_count": 128,
   "metadata": {},
   "outputs": [
    {
     "data": {
      "text/plain": [
       "'Personality Decision Tree.pdf'"
      ]
     },
     "execution_count": 128,
     "metadata": {},
     "output_type": "execute_result"
    }
   ],
   "source": [
    "dot_data = tree.export_graphviz(dt_model, out_file=None) \n",
    "graph = graphviz.Source(dot_data) \n",
    "graph.render(\"Personality Decision Tree\")"
   ]
  },
  {
   "cell_type": "code",
   "execution_count": 129,
   "metadata": {},
   "outputs": [],
   "source": [
    "dot_data = tree.export_graphviz(dt_model, out_file=None, \n",
    "                                feature_names=xParm,  \n",
    "                                class_names=df['group'].unique(),  \n",
    "                                filled=True, rounded=True,  \n",
    "                                special_characters=True)  \n",
    "graph = graphviz.Source(dot_data)  "
   ]
  },
  {
   "cell_type": "code",
   "execution_count": 153,
   "metadata": {
    "scrolled": true
   },
   "outputs": [],
   "source": [
    "# plt.figure(figsize=(5,5))\n",
    "# graph"
   ]
  },
  {
   "cell_type": "markdown",
   "metadata": {},
   "source": [
    "# Group By Group in Remaining Parameters"
   ]
  },
  {
   "cell_type": "code",
   "execution_count": 150,
   "metadata": {},
   "outputs": [
    {
     "data": {
      "text/html": [
       "<div>\n",
       "<style scoped>\n",
       "    .dataframe tbody tr th:only-of-type {\n",
       "        vertical-align: middle;\n",
       "    }\n",
       "\n",
       "    .dataframe tbody tr th {\n",
       "        vertical-align: top;\n",
       "    }\n",
       "\n",
       "    .dataframe thead th {\n",
       "        text-align: right;\n",
       "    }\n",
       "</style>\n",
       "<table border=\"1\" class=\"dataframe\">\n",
       "  <thead>\n",
       "    <tr style=\"text-align: right;\">\n",
       "      <th>group</th>\n",
       "      <th>index</th>\n",
       "      <th>C</th>\n",
       "      <th>I</th>\n",
       "      <th>P</th>\n",
       "      <th>R</th>\n",
       "    </tr>\n",
       "  </thead>\n",
       "  <tbody>\n",
       "    <tr>\n",
       "      <th>0</th>\n",
       "      <td>interest201</td>\n",
       "      <td>300</td>\n",
       "      <td>1131</td>\n",
       "      <td>94</td>\n",
       "      <td>112</td>\n",
       "    </tr>\n",
       "    <tr>\n",
       "      <th>1</th>\n",
       "      <td>interest200</td>\n",
       "      <td>892</td>\n",
       "      <td>1455</td>\n",
       "      <td>432</td>\n",
       "      <td>497</td>\n",
       "    </tr>\n",
       "    <tr>\n",
       "      <th>2</th>\n",
       "      <td>interest48</td>\n",
       "      <td>174</td>\n",
       "      <td>935</td>\n",
       "      <td>646</td>\n",
       "      <td>100</td>\n",
       "    </tr>\n",
       "    <tr>\n",
       "      <th>3</th>\n",
       "      <td>interest196</td>\n",
       "      <td>550</td>\n",
       "      <td>48</td>\n",
       "      <td>42</td>\n",
       "      <td>42</td>\n",
       "    </tr>\n",
       "    <tr>\n",
       "      <th>4</th>\n",
       "      <td>interest135</td>\n",
       "      <td>560</td>\n",
       "      <td>122</td>\n",
       "      <td>137</td>\n",
       "      <td>66</td>\n",
       "    </tr>\n",
       "    <tr>\n",
       "      <th>5</th>\n",
       "      <td>interest211</td>\n",
       "      <td>471</td>\n",
       "      <td>792</td>\n",
       "      <td>835</td>\n",
       "      <td>330</td>\n",
       "    </tr>\n",
       "    <tr>\n",
       "      <th>6</th>\n",
       "      <td>interest79</td>\n",
       "      <td>548</td>\n",
       "      <td>780</td>\n",
       "      <td>493</td>\n",
       "      <td>332</td>\n",
       "    </tr>\n",
       "    <tr>\n",
       "      <th>7</th>\n",
       "      <td>interest63</td>\n",
       "      <td>778</td>\n",
       "      <td>1143</td>\n",
       "      <td>773</td>\n",
       "      <td>541</td>\n",
       "    </tr>\n",
       "    <tr>\n",
       "      <th>8</th>\n",
       "      <td>interest112</td>\n",
       "      <td>631</td>\n",
       "      <td>803</td>\n",
       "      <td>571</td>\n",
       "      <td>368</td>\n",
       "    </tr>\n",
       "    <tr>\n",
       "      <th>9</th>\n",
       "      <td>interest164</td>\n",
       "      <td>951</td>\n",
       "      <td>1448</td>\n",
       "      <td>1191</td>\n",
       "      <td>583</td>\n",
       "    </tr>\n",
       "  </tbody>\n",
       "</table>\n",
       "</div>"
      ],
      "text/plain": [
       "group        index    C     I     P    R\n",
       "0      interest201  300  1131    94  112\n",
       "1      interest200  892  1455   432  497\n",
       "2       interest48  174   935   646  100\n",
       "3      interest196  550    48    42   42\n",
       "4      interest135  560   122   137   66\n",
       "5      interest211  471   792   835  330\n",
       "6       interest79  548   780   493  332\n",
       "7       interest63  778  1143   773  541\n",
       "8      interest112  631   803   571  368\n",
       "9      interest164  951  1448  1191  583"
      ]
     },
     "execution_count": 150,
     "metadata": {},
     "output_type": "execute_result"
    }
   ],
   "source": [
    "df[np.append(xParm, yParm)].groupby(yParmStr).sum().transpose().reset_index(drop=False).iloc[:10]"
   ]
  },
  {
   "cell_type": "code",
   "execution_count": 151,
   "metadata": {},
   "outputs": [
    {
     "data": {
      "text/html": [
       "<div>\n",
       "<style scoped>\n",
       "    .dataframe tbody tr th:only-of-type {\n",
       "        vertical-align: middle;\n",
       "    }\n",
       "\n",
       "    .dataframe tbody tr th {\n",
       "        vertical-align: top;\n",
       "    }\n",
       "\n",
       "    .dataframe thead th {\n",
       "        text-align: right;\n",
       "    }\n",
       "</style>\n",
       "<table border=\"1\" class=\"dataframe\">\n",
       "  <thead>\n",
       "    <tr style=\"text-align: right;\">\n",
       "      <th>group</th>\n",
       "      <th>index</th>\n",
       "      <th>C</th>\n",
       "      <th>I</th>\n",
       "      <th>P</th>\n",
       "      <th>R</th>\n",
       "    </tr>\n",
       "  </thead>\n",
       "  <tbody>\n",
       "    <tr>\n",
       "      <th>10</th>\n",
       "      <td>interest62</td>\n",
       "      <td>738</td>\n",
       "      <td>1030</td>\n",
       "      <td>626</td>\n",
       "      <td>444</td>\n",
       "    </tr>\n",
       "    <tr>\n",
       "      <th>11</th>\n",
       "      <td>interest186</td>\n",
       "      <td>62</td>\n",
       "      <td>225</td>\n",
       "      <td>257</td>\n",
       "      <td>41</td>\n",
       "    </tr>\n",
       "    <tr>\n",
       "      <th>12</th>\n",
       "      <td>interest147</td>\n",
       "      <td>278</td>\n",
       "      <td>394</td>\n",
       "      <td>287</td>\n",
       "      <td>181</td>\n",
       "    </tr>\n",
       "    <tr>\n",
       "      <th>13</th>\n",
       "      <td>interest44</td>\n",
       "      <td>293</td>\n",
       "      <td>481</td>\n",
       "      <td>353</td>\n",
       "      <td>195</td>\n",
       "    </tr>\n",
       "    <tr>\n",
       "      <th>14</th>\n",
       "      <td>interest65</td>\n",
       "      <td>336</td>\n",
       "      <td>383</td>\n",
       "      <td>268</td>\n",
       "      <td>237</td>\n",
       "    </tr>\n",
       "    <tr>\n",
       "      <th>15</th>\n",
       "      <td>interest88</td>\n",
       "      <td>185</td>\n",
       "      <td>100</td>\n",
       "      <td>116</td>\n",
       "      <td>195</td>\n",
       "    </tr>\n",
       "    <tr>\n",
       "      <th>16</th>\n",
       "      <td>interest187</td>\n",
       "      <td>216</td>\n",
       "      <td>224</td>\n",
       "      <td>205</td>\n",
       "      <td>169</td>\n",
       "    </tr>\n",
       "    <tr>\n",
       "      <th>17</th>\n",
       "      <td>interest1</td>\n",
       "      <td>269</td>\n",
       "      <td>324</td>\n",
       "      <td>197</td>\n",
       "      <td>179</td>\n",
       "    </tr>\n",
       "    <tr>\n",
       "      <th>18</th>\n",
       "      <td>interest149</td>\n",
       "      <td>428</td>\n",
       "      <td>578</td>\n",
       "      <td>360</td>\n",
       "      <td>245</td>\n",
       "    </tr>\n",
       "    <tr>\n",
       "      <th>19</th>\n",
       "      <td>interest181</td>\n",
       "      <td>190</td>\n",
       "      <td>348</td>\n",
       "      <td>184</td>\n",
       "      <td>104</td>\n",
       "    </tr>\n",
       "  </tbody>\n",
       "</table>\n",
       "</div>"
      ],
      "text/plain": [
       "group        index    C     I    P    R\n",
       "10      interest62  738  1030  626  444\n",
       "11     interest186   62   225  257   41\n",
       "12     interest147  278   394  287  181\n",
       "13      interest44  293   481  353  195\n",
       "14      interest65  336   383  268  237\n",
       "15      interest88  185   100  116  195\n",
       "16     interest187  216   224  205  169\n",
       "17       interest1  269   324  197  179\n",
       "18     interest149  428   578  360  245\n",
       "19     interest181  190   348  184  104"
      ]
     },
     "execution_count": 151,
     "metadata": {},
     "output_type": "execute_result"
    }
   ],
   "source": [
    "df[np.append(xParm, yParm)].groupby(yParmStr).sum().transpose().reset_index(drop=False).iloc[10:20]"
   ]
  },
  {
   "cell_type": "code",
   "execution_count": 152,
   "metadata": {},
   "outputs": [
    {
     "data": {
      "text/html": [
       "<div>\n",
       "<style scoped>\n",
       "    .dataframe tbody tr th:only-of-type {\n",
       "        vertical-align: middle;\n",
       "    }\n",
       "\n",
       "    .dataframe tbody tr th {\n",
       "        vertical-align: top;\n",
       "    }\n",
       "\n",
       "    .dataframe thead th {\n",
       "        text-align: right;\n",
       "    }\n",
       "</style>\n",
       "<table border=\"1\" class=\"dataframe\">\n",
       "  <thead>\n",
       "    <tr style=\"text-align: right;\">\n",
       "      <th>group</th>\n",
       "      <th>index</th>\n",
       "      <th>C</th>\n",
       "      <th>I</th>\n",
       "      <th>P</th>\n",
       "      <th>R</th>\n",
       "    </tr>\n",
       "  </thead>\n",
       "  <tbody>\n",
       "    <tr>\n",
       "      <th>20</th>\n",
       "      <td>interest142</td>\n",
       "      <td>424</td>\n",
       "      <td>574</td>\n",
       "      <td>386</td>\n",
       "      <td>258</td>\n",
       "    </tr>\n",
       "    <tr>\n",
       "      <th>21</th>\n",
       "      <td>interest144</td>\n",
       "      <td>347</td>\n",
       "      <td>523</td>\n",
       "      <td>342</td>\n",
       "      <td>216</td>\n",
       "    </tr>\n",
       "    <tr>\n",
       "      <th>22</th>\n",
       "      <td>interest212</td>\n",
       "      <td>181</td>\n",
       "      <td>301</td>\n",
       "      <td>238</td>\n",
       "      <td>116</td>\n",
       "    </tr>\n",
       "    <tr>\n",
       "      <th>23</th>\n",
       "      <td>interest43</td>\n",
       "      <td>217</td>\n",
       "      <td>321</td>\n",
       "      <td>229</td>\n",
       "      <td>144</td>\n",
       "    </tr>\n",
       "    <tr>\n",
       "      <th>24</th>\n",
       "      <td>interest82</td>\n",
       "      <td>286</td>\n",
       "      <td>161</td>\n",
       "      <td>160</td>\n",
       "      <td>92</td>\n",
       "    </tr>\n",
       "    <tr>\n",
       "      <th>25</th>\n",
       "      <td>interest153</td>\n",
       "      <td>133</td>\n",
       "      <td>91</td>\n",
       "      <td>62</td>\n",
       "      <td>128</td>\n",
       "    </tr>\n",
       "    <tr>\n",
       "      <th>26</th>\n",
       "      <td>interest41</td>\n",
       "      <td>194</td>\n",
       "      <td>182</td>\n",
       "      <td>118</td>\n",
       "      <td>130</td>\n",
       "    </tr>\n",
       "    <tr>\n",
       "      <th>27</th>\n",
       "      <td>interest146</td>\n",
       "      <td>139</td>\n",
       "      <td>93</td>\n",
       "      <td>117</td>\n",
       "      <td>84</td>\n",
       "    </tr>\n",
       "    <tr>\n",
       "      <th>28</th>\n",
       "      <td>interest118</td>\n",
       "      <td>127</td>\n",
       "      <td>199</td>\n",
       "      <td>184</td>\n",
       "      <td>100</td>\n",
       "    </tr>\n",
       "    <tr>\n",
       "      <th>29</th>\n",
       "      <td>interest5</td>\n",
       "      <td>296</td>\n",
       "      <td>213</td>\n",
       "      <td>183</td>\n",
       "      <td>76</td>\n",
       "    </tr>\n",
       "  </tbody>\n",
       "</table>\n",
       "</div>"
      ],
      "text/plain": [
       "group        index    C    I    P    R\n",
       "20     interest142  424  574  386  258\n",
       "21     interest144  347  523  342  216\n",
       "22     interest212  181  301  238  116\n",
       "23      interest43  217  321  229  144\n",
       "24      interest82  286  161  160   92\n",
       "25     interest153  133   91   62  128\n",
       "26      interest41  194  182  118  130\n",
       "27     interest146  139   93  117   84\n",
       "28     interest118  127  199  184  100\n",
       "29       interest5  296  213  183   76"
      ]
     },
     "execution_count": 152,
     "metadata": {},
     "output_type": "execute_result"
    }
   ],
   "source": [
    "df[np.append(xParm, yParm)].groupby(yParmStr).sum().transpose().reset_index(drop=False).iloc[20:30]"
   ]
  },
  {
   "cell_type": "code",
   "execution_count": null,
   "metadata": {},
   "outputs": [],
   "source": []
  }
 ],
 "metadata": {
  "kernelspec": {
   "display_name": "Python 3 (ipykernel)",
   "language": "python",
   "name": "python3"
  },
  "language_info": {
   "codemirror_mode": {
    "name": "ipython",
    "version": 3
   },
   "file_extension": ".py",
   "mimetype": "text/x-python",
   "name": "python",
   "nbconvert_exporter": "python",
   "pygments_lexer": "ipython3",
   "version": "3.9.7"
  }
 },
 "nbformat": 4,
 "nbformat_minor": 4
}
